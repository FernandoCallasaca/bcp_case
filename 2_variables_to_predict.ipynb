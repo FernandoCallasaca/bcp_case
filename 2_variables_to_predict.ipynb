{
 "cells": [
  {
   "cell_type": "markdown",
   "source": "# Prepare our environment",
   "metadata": {
    "tags": [],
    "cell_id": "183d4f41-e84f-408d-86be-fa1a063a05dc",
    "deepnote_cell_type": "markdown",
    "deepnote_cell_height": 81.984375
   }
  },
  {
   "cell_type": "code",
   "metadata": {
    "cell_id": "c9d050c2-1d74-48f5-9aa6-0f68df6b5444",
    "tags": [],
    "deepnote_to_be_reexecuted": false,
    "source_hash": "cf4ba56c",
    "execution_start": 1647276624508,
    "execution_millis": 6789,
    "deepnote_cell_type": "code",
    "deepnote_cell_height": 226.109375,
    "deepnote_output_heights": [
     21.1875
    ]
   },
   "source": "import pandas as pd\nimport numpy as np\nimport matplotlib.pyplot as plt\nimport seaborn as sns\nfrom scipy import stats\n%matplotlib inline\npd.__version__",
   "execution_count": 1,
   "outputs": [
    {
     "output_type": "execute_result",
     "execution_count": 1,
     "data": {
      "text/plain": "'1.3.5'"
     },
     "metadata": {}
    }
   ]
  },
  {
   "cell_type": "code",
   "metadata": {
    "cell_id": "eed4d842-38e5-4931-948a-e574de55347b",
    "tags": [],
    "deepnote_to_be_reexecuted": false,
    "source_hash": "f26deeaa",
    "execution_start": 1647276631301,
    "execution_millis": 9,
    "deepnote_cell_type": "code",
    "deepnote_cell_height": 98.953125
   },
   "source": "pd.options.display.float_format = '{:,.3f}'.format\nnp.set_printoptions(precision=3)",
   "execution_count": 2,
   "outputs": []
  },
  {
   "cell_type": "markdown",
   "source": "# Load our clean data",
   "metadata": {
    "cell_id": "ca05b3ea-aecc-4b12-bed8-69124a97c8c9",
    "tags": [],
    "deepnote_cell_type": "markdown",
    "deepnote_cell_height": 81.984375
   }
  },
  {
   "cell_type": "code",
   "metadata": {
    "cell_id": "83e296ad-81e2-401a-a60c-354bd486df31",
    "tags": [],
    "deepnote_to_be_reexecuted": false,
    "source_hash": "ce25d97f",
    "execution_start": 1647276631318,
    "execution_millis": 13,
    "deepnote_cell_type": "code",
    "deepnote_cell_height": 136.109375,
    "deepnote_output_heights": [
     21.1875
    ]
   },
   "source": "path_file = 'clean_data_bcp.csv'\npath_file",
   "execution_count": 3,
   "outputs": [
    {
     "output_type": "execute_result",
     "execution_count": 3,
     "data": {
      "text/plain": "'clean_data_bcp.csv'"
     },
     "metadata": {}
    }
   ]
  },
  {
   "cell_type": "code",
   "metadata": {
    "cell_id": "a6229316-2caf-4454-9e7d-d78b9d9ccf24",
    "tags": [],
    "deepnote_to_be_reexecuted": false,
    "source_hash": "f1210705",
    "execution_start": 1647276631342,
    "execution_millis": 634,
    "deepnote_cell_type": "code",
    "deepnote_cell_height": 634.40625
   },
   "source": "df_bcp = pd.read_csv(path_file)\ndf_bcp",
   "execution_count": 4,
   "outputs": [
    {
     "output_type": "execute_result",
     "execution_count": 4,
     "data": {
      "application/vnd.deepnote.dataframe.v3+json": {
       "column_count": 16,
       "row_count": 5000,
       "columns": [
        {
         "name": "mora_60",
         "dtype": "int64",
         "stats": {
          "unique_count": 2,
          "nan_count": 0,
          "min": "0",
          "max": "1",
          "histogram": [
           {
            "bin_start": 0,
            "bin_end": 0.1,
            "count": 1500
           },
           {
            "bin_start": 0.1,
            "bin_end": 0.2,
            "count": 0
           },
           {
            "bin_start": 0.2,
            "bin_end": 0.30000000000000004,
            "count": 0
           },
           {
            "bin_start": 0.30000000000000004,
            "bin_end": 0.4,
            "count": 0
           },
           {
            "bin_start": 0.4,
            "bin_end": 0.5,
            "count": 0
           },
           {
            "bin_start": 0.5,
            "bin_end": 0.6000000000000001,
            "count": 0
           },
           {
            "bin_start": 0.6000000000000001,
            "bin_end": 0.7000000000000001,
            "count": 0
           },
           {
            "bin_start": 0.7000000000000001,
            "bin_end": 0.8,
            "count": 0
           },
           {
            "bin_start": 0.8,
            "bin_end": 0.9,
            "count": 0
           },
           {
            "bin_start": 0.9,
            "bin_end": 1,
            "count": 3500
           }
          ]
         }
        },
        {
         "name": "dias_atraso_12_meses_antes",
         "dtype": "int64",
         "stats": {
          "unique_count": 63,
          "nan_count": 0,
          "min": "0",
          "max": "245",
          "histogram": [
           {
            "bin_start": 0,
            "bin_end": 24.5,
            "count": 4699
           },
           {
            "bin_start": 24.5,
            "bin_end": 49,
            "count": 237
           },
           {
            "bin_start": 49,
            "bin_end": 73.5,
            "count": 46
           },
           {
            "bin_start": 73.5,
            "bin_end": 98,
            "count": 6
           },
           {
            "bin_start": 98,
            "bin_end": 122.5,
            "count": 3
           },
           {
            "bin_start": 122.5,
            "bin_end": 147,
            "count": 0
           },
           {
            "bin_start": 147,
            "bin_end": 171.5,
            "count": 0
           },
           {
            "bin_start": 171.5,
            "bin_end": 196,
            "count": 0
           },
           {
            "bin_start": 196,
            "bin_end": 220.5,
            "count": 2
           },
           {
            "bin_start": 220.5,
            "bin_end": 245,
            "count": 7
           }
          ]
         }
        },
        {
         "name": "situacion_casa",
         "dtype": "object",
         "stats": {
          "unique_count": 4,
          "nan_count": 0,
          "categories": [
           {
            "name": "FAMILIAR",
            "count": 3471
           },
           {
            "name": "PROPIA",
            "count": 1429
           },
           {
            "name": "2 others",
            "count": 100
           }
          ]
         }
        },
        {
         "name": "edad",
         "dtype": "int64",
         "stats": {
          "unique_count": 56,
          "nan_count": 0,
          "min": "20",
          "max": "85",
          "histogram": [
           {
            "bin_start": 20,
            "bin_end": 26.5,
            "count": 703
           },
           {
            "bin_start": 26.5,
            "bin_end": 33,
            "count": 1381
           },
           {
            "bin_start": 33,
            "bin_end": 39.5,
            "count": 1291
           },
           {
            "bin_start": 39.5,
            "bin_end": 46,
            "count": 694
           },
           {
            "bin_start": 46,
            "bin_end": 52.5,
            "count": 536
           },
           {
            "bin_start": 52.5,
            "bin_end": 59,
            "count": 261
           },
           {
            "bin_start": 59,
            "bin_end": 65.5,
            "count": 118
           },
           {
            "bin_start": 65.5,
            "bin_end": 72,
            "count": 12
           },
           {
            "bin_start": 72,
            "bin_end": 78.5,
            "count": 2
           },
           {
            "bin_start": 78.5,
            "bin_end": 85,
            "count": 2
           }
          ]
         }
        },
        {
         "name": "fecha_ingreso_empleo",
         "dtype": "object",
         "stats": {
          "unique_count": 941,
          "nan_count": 0,
          "categories": [
           {
            "name": "2000-01-01",
            "count": 144
           },
           {
            "name": "2005-01-01",
            "count": 79
           },
           {
            "name": "939 others",
            "count": 4777
           }
          ]
         }
        },
        {
         "name": "antiguedad_tc_meses",
         "dtype": "int64",
         "stats": {
          "unique_count": 126,
          "nan_count": 0,
          "min": "0",
          "max": "130",
          "histogram": [
           {
            "bin_start": 0,
            "bin_end": 13,
            "count": 2559
           },
           {
            "bin_start": 13,
            "bin_end": 26,
            "count": 749
           },
           {
            "bin_start": 26,
            "bin_end": 39,
            "count": 408
           },
           {
            "bin_start": 39,
            "bin_end": 52,
            "count": 328
           },
           {
            "bin_start": 52,
            "bin_end": 65,
            "count": 208
           },
           {
            "bin_start": 65,
            "bin_end": 78,
            "count": 143
           },
           {
            "bin_start": 78,
            "bin_end": 91,
            "count": 267
           },
           {
            "bin_start": 91,
            "bin_end": 104,
            "count": 191
           },
           {
            "bin_start": 104,
            "bin_end": 117,
            "count": 111
           },
           {
            "bin_start": 117,
            "bin_end": 130,
            "count": 36
           }
          ]
         }
        },
        {
         "name": "producto_pasivo_12_meses_antes",
         "dtype": "int64",
         "stats": {
          "unique_count": 13,
          "nan_count": 0,
          "min": "0",
          "max": "12",
          "histogram": [
           {
            "bin_start": 0,
            "bin_end": 1.2,
            "count": 350
           },
           {
            "bin_start": 1.2,
            "bin_end": 2.4,
            "count": 44
           },
           {
            "bin_start": 2.4,
            "bin_end": 3.5999999999999996,
            "count": 36
           },
           {
            "bin_start": 3.5999999999999996,
            "bin_end": 4.8,
            "count": 61
           },
           {
            "bin_start": 4.8,
            "bin_end": 6,
            "count": 39
           },
           {
            "bin_start": 6,
            "bin_end": 7.199999999999999,
            "count": 102
           },
           {
            "bin_start": 7.199999999999999,
            "bin_end": 8.4,
            "count": 70
           },
           {
            "bin_start": 8.4,
            "bin_end": 9.6,
            "count": 78
           },
           {
            "bin_start": 9.6,
            "bin_end": 10.799999999999999,
            "count": 103
           },
           {
            "bin_start": 10.799999999999999,
            "bin_end": 12,
            "count": 4117
           }
          ]
         }
        },
        {
         "name": "ingreso_mensual",
         "dtype": "float64",
         "stats": {
          "unique_count": 2293,
          "nan_count": 0,
          "min": "123.7",
          "max": "30000.0",
          "histogram": [
           {
            "bin_start": 123.7,
            "bin_end": 3111.33,
            "count": 3102
           },
           {
            "bin_start": 3111.33,
            "bin_end": 6098.96,
            "count": 943
           },
           {
            "bin_start": 6098.96,
            "bin_end": 9086.59,
            "count": 402
           },
           {
            "bin_start": 9086.59,
            "bin_end": 12074.220000000001,
            "count": 177
           },
           {
            "bin_start": 12074.220000000001,
            "bin_end": 15061.850000000002,
            "count": 126
           },
           {
            "bin_start": 15061.850000000002,
            "bin_end": 18049.48,
            "count": 65
           },
           {
            "bin_start": 18049.48,
            "bin_end": 21037.11,
            "count": 41
           },
           {
            "bin_start": 21037.11,
            "bin_end": 24024.74,
            "count": 34
           },
           {
            "bin_start": 24024.74,
            "bin_end": 27012.370000000003,
            "count": 17
           },
           {
            "bin_start": 27012.370000000003,
            "bin_end": 30000,
            "count": 93
           }
          ]
         }
        },
        {
         "name": "monto_linea_tc",
         "dtype": "float64",
         "stats": {
          "unique_count": 3240,
          "nan_count": 0,
          "min": "0.0",
          "max": "121543.4",
          "histogram": [
           {
            "bin_start": 0,
            "bin_end": 12154.34,
            "count": 3927
           },
           {
            "bin_start": 12154.34,
            "bin_end": 24308.68,
            "count": 479
           },
           {
            "bin_start": 24308.68,
            "bin_end": 36463.020000000004,
            "count": 235
           },
           {
            "bin_start": 36463.020000000004,
            "bin_end": 48617.36,
            "count": 119
           },
           {
            "bin_start": 48617.36,
            "bin_end": 60771.7,
            "count": 70
           },
           {
            "bin_start": 60771.7,
            "bin_end": 72926.04000000001,
            "count": 37
           },
           {
            "bin_start": 72926.04000000001,
            "bin_end": 85080.38,
            "count": 30
           },
           {
            "bin_start": 85080.38,
            "bin_end": 97234.72,
            "count": 22
           },
           {
            "bin_start": 97234.72,
            "bin_end": 109389.06,
            "count": 18
           },
           {
            "bin_start": 109389.06,
            "bin_end": 121543.4,
            "count": 63
           }
          ]
         }
        },
        {
         "name": "monto_saldo_deudor_prom",
         "dtype": "float64",
         "stats": {
          "unique_count": 3851,
          "nan_count": 0,
          "min": "0.0",
          "max": "57094.38",
          "histogram": [
           {
            "bin_start": 0,
            "bin_end": 5709.438,
            "count": 3809
           },
           {
            "bin_start": 5709.438,
            "bin_end": 11418.876,
            "count": 576
           },
           {
            "bin_start": 11418.876,
            "bin_end": 17128.314,
            "count": 208
           },
           {
            "bin_start": 17128.314,
            "bin_end": 22837.752,
            "count": 103
           },
           {
            "bin_start": 22837.752,
            "bin_end": 28547.190000000002,
            "count": 70
           },
           {
            "bin_start": 28547.190000000002,
            "bin_end": 34256.628,
            "count": 39
           },
           {
            "bin_start": 34256.628,
            "bin_end": 39966.066,
            "count": 24
           },
           {
            "bin_start": 39966.066,
            "bin_end": 45675.504,
            "count": 27
           },
           {
            "bin_start": 45675.504,
            "bin_end": 51384.942,
            "count": 17
           },
           {
            "bin_start": 51384.942,
            "bin_end": 57094.38,
            "count": 127
           }
          ]
         }
        },
        {
         "name": "score_aprob_tc",
         "dtype": "int64",
         "stats": {
          "unique_count": 110,
          "nan_count": 0,
          "min": "134",
          "max": "266",
          "histogram": [
           {
            "bin_start": 134,
            "bin_end": 147.2,
            "count": 7
           },
           {
            "bin_start": 147.2,
            "bin_end": 160.4,
            "count": 170
           },
           {
            "bin_start": 160.4,
            "bin_end": 173.6,
            "count": 358
           },
           {
            "bin_start": 173.6,
            "bin_end": 186.8,
            "count": 983
           },
           {
            "bin_start": 186.8,
            "bin_end": 200,
            "count": 1287
           },
           {
            "bin_start": 200,
            "bin_end": 213.2,
            "count": 1087
           },
           {
            "bin_start": 213.2,
            "bin_end": 226.39999999999998,
            "count": 830
           },
           {
            "bin_start": 226.39999999999998,
            "bin_end": 239.6,
            "count": 231
           },
           {
            "bin_start": 239.6,
            "bin_end": 252.8,
            "count": 39
           },
           {
            "bin_start": 252.8,
            "bin_end": 266,
            "count": 8
           }
          ]
         }
        },
        {
         "name": "nro_veces_abono_12m_antes",
         "dtype": "int64",
         "stats": {
          "unique_count": 13,
          "nan_count": 0,
          "min": "0",
          "max": "12",
          "histogram": [
           {
            "bin_start": 0,
            "bin_end": 1.2,
            "count": 1426
           },
           {
            "bin_start": 1.2,
            "bin_end": 2.4,
            "count": 51
           },
           {
            "bin_start": 2.4,
            "bin_end": 3.5999999999999996,
            "count": 32
           },
           {
            "bin_start": 3.5999999999999996,
            "bin_end": 4.8,
            "count": 34
           },
           {
            "bin_start": 4.8,
            "bin_end": 6,
            "count": 43
           },
           {
            "bin_start": 6,
            "bin_end": 7.199999999999999,
            "count": 136
           },
           {
            "bin_start": 7.199999999999999,
            "bin_end": 8.4,
            "count": 81
           },
           {
            "bin_start": 8.4,
            "bin_end": 9.6,
            "count": 108
           },
           {
            "bin_start": 9.6,
            "bin_end": 10.799999999999999,
            "count": 190
           },
           {
            "bin_start": 10.799999999999999,
            "bin_end": 12,
            "count": 2899
           }
          ]
         }
        },
        {
         "name": "zona_geografica",
         "dtype": "object",
         "stats": {
          "unique_count": 25,
          "nan_count": 0,
          "categories": [
           {
            "name": "Lima",
            "count": 2948
           },
           {
            "name": "Callao",
            "count": 299
           },
           {
            "name": "23 others",
            "count": 1753
           }
          ]
         }
        },
        {
         "name": "riesgos_sbs",
         "dtype": "int64",
         "stats": {
          "unique_count": 5,
          "nan_count": 0,
          "min": "0",
          "max": "4",
          "histogram": [
           {
            "bin_start": 0,
            "bin_end": 0.4,
            "count": 3142
           },
           {
            "bin_start": 0.4,
            "bin_end": 0.8,
            "count": 0
           },
           {
            "bin_start": 0.8,
            "bin_end": 1.2000000000000002,
            "count": 1242
           },
           {
            "bin_start": 1.2000000000000002,
            "bin_end": 1.6,
            "count": 0
           },
           {
            "bin_start": 1.6,
            "bin_end": 2,
            "count": 0
           },
           {
            "bin_start": 2,
            "bin_end": 2.4000000000000004,
            "count": 390
           },
           {
            "bin_start": 2.4000000000000004,
            "bin_end": 2.8000000000000003,
            "count": 0
           },
           {
            "bin_start": 2.8000000000000003,
            "bin_end": 3.2,
            "count": 108
           },
           {
            "bin_start": 3.2,
            "bin_end": 3.6,
            "count": 0
           },
           {
            "bin_start": 3.6,
            "bin_end": 4,
            "count": 118
           }
          ]
         }
        },
        {
         "name": "nivel_educativo",
         "dtype": "object",
         "stats": {
          "unique_count": 5,
          "nan_count": 0,
          "categories": [
           {
            "name": "PROFESIONAL",
            "count": 2666
           },
           {
            "name": "TECNICO",
            "count": 1958
           },
           {
            "name": "3 others",
            "count": 376
           }
          ]
         }
        },
        {
         "name": "edad_binned",
         "dtype": "object",
         "stats": {
          "unique_count": 3,
          "nan_count": 0,
          "categories": [
           {
            "name": "joven",
            "count": 3659
           },
           {
            "name": "adulto",
            "count": 1294
           },
           {
            "name": "adulto_mayor",
            "count": 47
           }
          ]
         }
        },
        {
         "name": "_deepnote_index_column",
         "dtype": "int64"
        }
       ],
       "rows": [
        {
         "mora_60": 0,
         "dias_atraso_12_meses_antes": 235,
         "situacion_casa": "FAMILIAR",
         "edad": 30,
         "fecha_ingreso_empleo": "2007-06-01",
         "antiguedad_tc_meses": 93,
         "producto_pasivo_12_meses_antes": 5,
         "ingreso_mensual": 3500,
         "monto_linea_tc": 0,
         "monto_saldo_deudor_prom": 0,
         "score_aprob_tc": 214,
         "nro_veces_abono_12m_antes": 5,
         "zona_geografica": "Lima",
         "riesgos_sbs": 4,
         "nivel_educativo": "PROFESIONAL",
         "edad_binned": "joven",
         "_deepnote_index_column": 0
        },
        {
         "mora_60": 0,
         "dias_atraso_12_meses_antes": 18,
         "situacion_casa": "FAMILIAR",
         "edad": 32,
         "fecha_ingreso_empleo": "2005-02-01",
         "antiguedad_tc_meses": 9,
         "producto_pasivo_12_meses_antes": 12,
         "ingreso_mensual": 900,
         "monto_linea_tc": 1824.67,
         "monto_saldo_deudor_prom": 1933.75,
         "score_aprob_tc": 175,
         "nro_veces_abono_12m_antes": 12,
         "zona_geografica": "La Libertad",
         "riesgos_sbs": 1,
         "nivel_educativo": "TECNICO",
         "edad_binned": "joven",
         "_deepnote_index_column": 1
        },
        {
         "mora_60": 0,
         "dias_atraso_12_meses_antes": 0,
         "situacion_casa": "FAMILIAR",
         "edad": 26,
         "fecha_ingreso_empleo": "2003-08-01",
         "antiguedad_tc_meses": 8,
         "producto_pasivo_12_meses_antes": 2,
         "ingreso_mensual": 2400,
         "monto_linea_tc": 2797.38,
         "monto_saldo_deudor_prom": 188.29,
         "score_aprob_tc": 187,
         "nro_veces_abono_12m_antes": 0,
         "zona_geografica": "Lima",
         "riesgos_sbs": 0,
         "nivel_educativo": "PROFESIONAL",
         "edad_binned": "joven",
         "_deepnote_index_column": 2
        },
        {
         "mora_60": 0,
         "dias_atraso_12_meses_antes": 0,
         "situacion_casa": "FAMILIAR",
         "edad": 36,
         "fecha_ingreso_empleo": "2003-07-01",
         "antiguedad_tc_meses": 20,
         "producto_pasivo_12_meses_antes": 12,
         "ingreso_mensual": 2700,
         "monto_linea_tc": 0,
         "monto_saldo_deudor_prom": 0,
         "score_aprob_tc": 187,
         "nro_veces_abono_12m_antes": 12,
         "zona_geografica": "Ancash",
         "riesgos_sbs": 0,
         "nivel_educativo": "TECNICO",
         "edad_binned": "joven",
         "_deepnote_index_column": 3
        },
        {
         "mora_60": 0,
         "dias_atraso_12_meses_antes": 0,
         "situacion_casa": "FAMILIAR",
         "edad": 46,
         "fecha_ingreso_empleo": "2006-11-01",
         "antiguedad_tc_meses": 0,
         "producto_pasivo_12_meses_antes": 1,
         "ingreso_mensual": 3100,
         "monto_linea_tc": 2000,
         "monto_saldo_deudor_prom": 11010.65,
         "score_aprob_tc": 189,
         "nro_veces_abono_12m_antes": 0,
         "zona_geografica": "Lima",
         "riesgos_sbs": 0,
         "nivel_educativo": "TECNICO",
         "edad_binned": "adulto",
         "_deepnote_index_column": 4
        },
        {
         "mora_60": 0,
         "dias_atraso_12_meses_antes": 22,
         "situacion_casa": "FAMILIAR",
         "edad": 25,
         "fecha_ingreso_empleo": "2004-05-01",
         "antiguedad_tc_meses": 9,
         "producto_pasivo_12_meses_antes": 12,
         "ingreso_mensual": 2200,
         "monto_linea_tc": 449.92,
         "monto_saldo_deudor_prom": 496.58,
         "score_aprob_tc": 220,
         "nro_veces_abono_12m_antes": 11,
         "zona_geografica": "Lima",
         "riesgos_sbs": 0,
         "nivel_educativo": "PROFESIONAL",
         "edad_binned": "joven",
         "_deepnote_index_column": 5
        },
        {
         "mora_60": 0,
         "dias_atraso_12_meses_antes": 9,
         "situacion_casa": "FAMILIAR",
         "edad": 30,
         "fecha_ingreso_empleo": "2006-12-01",
         "antiguedad_tc_meses": 12,
         "producto_pasivo_12_meses_antes": 8,
         "ingreso_mensual": 2100,
         "monto_linea_tc": 4827.64,
         "monto_saldo_deudor_prom": 850.21,
         "score_aprob_tc": 193,
         "nro_veces_abono_12m_antes": 7,
         "zona_geografica": "Lima",
         "riesgos_sbs": 0,
         "nivel_educativo": "PROFESIONAL",
         "edad_binned": "joven",
         "_deepnote_index_column": 6
        },
        {
         "mora_60": 0,
         "dias_atraso_12_meses_antes": 8,
         "situacion_casa": "PROPIA",
         "edad": 55,
         "fecha_ingreso_empleo": "2004-01-01",
         "antiguedad_tc_meses": 23,
         "producto_pasivo_12_meses_antes": 12,
         "ingreso_mensual": 5593.21,
         "monto_linea_tc": 10467,
         "monto_saldo_deudor_prom": 18620.8,
         "score_aprob_tc": 199,
         "nro_veces_abono_12m_antes": 12,
         "zona_geografica": "Piura",
         "riesgos_sbs": 0,
         "nivel_educativo": "TECNICO",
         "edad_binned": "adulto",
         "_deepnote_index_column": 7
        },
        {
         "mora_60": 0,
         "dias_atraso_12_meses_antes": 2,
         "situacion_casa": "FAMILIAR",
         "edad": 30,
         "fecha_ingreso_empleo": "2003-12-01",
         "antiguedad_tc_meses": 0,
         "producto_pasivo_12_meses_antes": 0,
         "ingreso_mensual": 2000,
         "monto_linea_tc": 7315.41,
         "monto_saldo_deudor_prom": 0,
         "score_aprob_tc": 156,
         "nro_veces_abono_12m_antes": 0,
         "zona_geografica": "Piura",
         "riesgos_sbs": 0,
         "nivel_educativo": "PROFESIONAL",
         "edad_binned": "joven",
         "_deepnote_index_column": 8
        },
        {
         "mora_60": 0,
         "dias_atraso_12_meses_antes": 0,
         "situacion_casa": "FAMILIAR",
         "edad": 31,
         "fecha_ingreso_empleo": "2004-02-01",
         "antiguedad_tc_meses": 0,
         "producto_pasivo_12_meses_antes": 4,
         "ingreso_mensual": 3800,
         "monto_linea_tc": 0,
         "monto_saldo_deudor_prom": 0,
         "score_aprob_tc": 192,
         "nro_veces_abono_12m_antes": 0,
         "zona_geografica": "Ica",
         "riesgos_sbs": 0,
         "nivel_educativo": "TECNICO",
         "edad_binned": "joven",
         "_deepnote_index_column": 9
        }
       ]
      },
      "text/plain": "      mora_60  dias_atraso_12_meses_antes situacion_casa  edad  \\\n0           0                         235       FAMILIAR    30   \n1           0                          18       FAMILIAR    32   \n2           0                           0       FAMILIAR    26   \n3           0                           0       FAMILIAR    36   \n4           0                           0       FAMILIAR    46   \n...       ...                         ...            ...   ...   \n4995        1                           0       FAMILIAR    76   \n4996        1                           0       FAMILIAR    33   \n4997        1                           0       FAMILIAR    38   \n4998        1                           0         PROPIA    45   \n4999        1                           0         PROPIA    57   \n\n     fecha_ingreso_empleo  antiguedad_tc_meses  \\\n0              2007-06-01                   93   \n1              2005-02-01                    9   \n2              2003-08-01                    8   \n3              2003-07-01                   20   \n4              2006-11-01                    0   \n...                   ...                  ...   \n4995           2000-01-01                   90   \n4996           2000-02-01                   44   \n4997           1992-09-01                  102   \n4998           1990-01-01                   87   \n4999           1983-03-01                   68   \n\n      producto_pasivo_12_meses_antes  ingreso_mensual  monto_linea_tc  \\\n0                                  5        3,500.000           0.000   \n1                                 12          900.000       1,824.670   \n2                                  2        2,400.000       2,797.380   \n3                                 12        2,700.000           0.000   \n4                                  1        3,100.000       2,000.000   \n...                              ...              ...             ...   \n4995                              12       30,000.000      58,083.420   \n4996                              12       30,000.000         339.980   \n4997                              12        8,500.000      72,685.200   \n4998                              12       30,000.000      32,161.050   \n4999                              12       16,500.000       3,583.960   \n\n      monto_saldo_deudor_prom  score_aprob_tc  nro_veces_abono_12m_antes  \\\n0                       0.000             214                          5   \n1                   1,933.750             175                         12   \n2                     188.290             187                          0   \n3                       0.000             187                         12   \n4                  11,010.650             189                          0   \n...                       ...             ...                        ...   \n4995               19,548.240             225                          0   \n4996                    0.000             214                          0   \n4997               57,094.380             197                         12   \n4998               26,901.420             224                         12   \n4999                4,503.680             233                         12   \n\n     zona_geografica  riesgos_sbs nivel_educativo   edad_binned  \n0               Lima            4     PROFESIONAL         joven  \n1        La Libertad            1         TECNICO         joven  \n2               Lima            0     PROFESIONAL         joven  \n3             Ancash            0         TECNICO         joven  \n4               Lima            0         TECNICO        adulto  \n...              ...          ...             ...           ...  \n4995            Lima            0   SIN EDUCACION  adulto_mayor  \n4996           Tacna            0     PROFESIONAL         joven  \n4997           Piura            1     PROFESIONAL         joven  \n4998            Lima            0     PROFESIONAL        adulto  \n4999            Lima            0     PROFESIONAL        adulto  \n\n[5000 rows x 16 columns]",
      "text/html": "<div>\n<style scoped>\n    .dataframe tbody tr th:only-of-type {\n        vertical-align: middle;\n    }\n\n    .dataframe tbody tr th {\n        vertical-align: top;\n    }\n\n    .dataframe thead th {\n        text-align: right;\n    }\n</style>\n<table border=\"1\" class=\"dataframe\">\n  <thead>\n    <tr style=\"text-align: right;\">\n      <th></th>\n      <th>mora_60</th>\n      <th>dias_atraso_12_meses_antes</th>\n      <th>situacion_casa</th>\n      <th>edad</th>\n      <th>fecha_ingreso_empleo</th>\n      <th>antiguedad_tc_meses</th>\n      <th>producto_pasivo_12_meses_antes</th>\n      <th>ingreso_mensual</th>\n      <th>monto_linea_tc</th>\n      <th>monto_saldo_deudor_prom</th>\n      <th>score_aprob_tc</th>\n      <th>nro_veces_abono_12m_antes</th>\n      <th>zona_geografica</th>\n      <th>riesgos_sbs</th>\n      <th>nivel_educativo</th>\n      <th>edad_binned</th>\n    </tr>\n  </thead>\n  <tbody>\n    <tr>\n      <th>0</th>\n      <td>0</td>\n      <td>235</td>\n      <td>FAMILIAR</td>\n      <td>30</td>\n      <td>2007-06-01</td>\n      <td>93</td>\n      <td>5</td>\n      <td>3,500.000</td>\n      <td>0.000</td>\n      <td>0.000</td>\n      <td>214</td>\n      <td>5</td>\n      <td>Lima</td>\n      <td>4</td>\n      <td>PROFESIONAL</td>\n      <td>joven</td>\n    </tr>\n    <tr>\n      <th>1</th>\n      <td>0</td>\n      <td>18</td>\n      <td>FAMILIAR</td>\n      <td>32</td>\n      <td>2005-02-01</td>\n      <td>9</td>\n      <td>12</td>\n      <td>900.000</td>\n      <td>1,824.670</td>\n      <td>1,933.750</td>\n      <td>175</td>\n      <td>12</td>\n      <td>La Libertad</td>\n      <td>1</td>\n      <td>TECNICO</td>\n      <td>joven</td>\n    </tr>\n    <tr>\n      <th>2</th>\n      <td>0</td>\n      <td>0</td>\n      <td>FAMILIAR</td>\n      <td>26</td>\n      <td>2003-08-01</td>\n      <td>8</td>\n      <td>2</td>\n      <td>2,400.000</td>\n      <td>2,797.380</td>\n      <td>188.290</td>\n      <td>187</td>\n      <td>0</td>\n      <td>Lima</td>\n      <td>0</td>\n      <td>PROFESIONAL</td>\n      <td>joven</td>\n    </tr>\n    <tr>\n      <th>3</th>\n      <td>0</td>\n      <td>0</td>\n      <td>FAMILIAR</td>\n      <td>36</td>\n      <td>2003-07-01</td>\n      <td>20</td>\n      <td>12</td>\n      <td>2,700.000</td>\n      <td>0.000</td>\n      <td>0.000</td>\n      <td>187</td>\n      <td>12</td>\n      <td>Ancash</td>\n      <td>0</td>\n      <td>TECNICO</td>\n      <td>joven</td>\n    </tr>\n    <tr>\n      <th>4</th>\n      <td>0</td>\n      <td>0</td>\n      <td>FAMILIAR</td>\n      <td>46</td>\n      <td>2006-11-01</td>\n      <td>0</td>\n      <td>1</td>\n      <td>3,100.000</td>\n      <td>2,000.000</td>\n      <td>11,010.650</td>\n      <td>189</td>\n      <td>0</td>\n      <td>Lima</td>\n      <td>0</td>\n      <td>TECNICO</td>\n      <td>adulto</td>\n    </tr>\n    <tr>\n      <th>...</th>\n      <td>...</td>\n      <td>...</td>\n      <td>...</td>\n      <td>...</td>\n      <td>...</td>\n      <td>...</td>\n      <td>...</td>\n      <td>...</td>\n      <td>...</td>\n      <td>...</td>\n      <td>...</td>\n      <td>...</td>\n      <td>...</td>\n      <td>...</td>\n      <td>...</td>\n      <td>...</td>\n    </tr>\n    <tr>\n      <th>4995</th>\n      <td>1</td>\n      <td>0</td>\n      <td>FAMILIAR</td>\n      <td>76</td>\n      <td>2000-01-01</td>\n      <td>90</td>\n      <td>12</td>\n      <td>30,000.000</td>\n      <td>58,083.420</td>\n      <td>19,548.240</td>\n      <td>225</td>\n      <td>0</td>\n      <td>Lima</td>\n      <td>0</td>\n      <td>SIN EDUCACION</td>\n      <td>adulto_mayor</td>\n    </tr>\n    <tr>\n      <th>4996</th>\n      <td>1</td>\n      <td>0</td>\n      <td>FAMILIAR</td>\n      <td>33</td>\n      <td>2000-02-01</td>\n      <td>44</td>\n      <td>12</td>\n      <td>30,000.000</td>\n      <td>339.980</td>\n      <td>0.000</td>\n      <td>214</td>\n      <td>0</td>\n      <td>Tacna</td>\n      <td>0</td>\n      <td>PROFESIONAL</td>\n      <td>joven</td>\n    </tr>\n    <tr>\n      <th>4997</th>\n      <td>1</td>\n      <td>0</td>\n      <td>FAMILIAR</td>\n      <td>38</td>\n      <td>1992-09-01</td>\n      <td>102</td>\n      <td>12</td>\n      <td>8,500.000</td>\n      <td>72,685.200</td>\n      <td>57,094.380</td>\n      <td>197</td>\n      <td>12</td>\n      <td>Piura</td>\n      <td>1</td>\n      <td>PROFESIONAL</td>\n      <td>joven</td>\n    </tr>\n    <tr>\n      <th>4998</th>\n      <td>1</td>\n      <td>0</td>\n      <td>PROPIA</td>\n      <td>45</td>\n      <td>1990-01-01</td>\n      <td>87</td>\n      <td>12</td>\n      <td>30,000.000</td>\n      <td>32,161.050</td>\n      <td>26,901.420</td>\n      <td>224</td>\n      <td>12</td>\n      <td>Lima</td>\n      <td>0</td>\n      <td>PROFESIONAL</td>\n      <td>adulto</td>\n    </tr>\n    <tr>\n      <th>4999</th>\n      <td>1</td>\n      <td>0</td>\n      <td>PROPIA</td>\n      <td>57</td>\n      <td>1983-03-01</td>\n      <td>68</td>\n      <td>12</td>\n      <td>16,500.000</td>\n      <td>3,583.960</td>\n      <td>4,503.680</td>\n      <td>233</td>\n      <td>12</td>\n      <td>Lima</td>\n      <td>0</td>\n      <td>PROFESIONAL</td>\n      <td>adulto</td>\n    </tr>\n  </tbody>\n</table>\n<p>5000 rows × 16 columns</p>\n</div>"
     },
     "metadata": {}
    }
   ]
  },
  {
   "cell_type": "code",
   "source": "df_bcp.shape",
   "metadata": {
    "cell_id": "13fa1841-c444-4365-92ff-65e607d68046",
    "tags": [],
    "deepnote_to_be_reexecuted": false,
    "source_hash": "16b8753a",
    "execution_start": 1647276631996,
    "execution_millis": 22,
    "deepnote_cell_type": "code",
    "deepnote_cell_height": 118.125,
    "deepnote_output_heights": [
     21.1875
    ]
   },
   "outputs": [
    {
     "output_type": "execute_result",
     "execution_count": 5,
     "data": {
      "text/plain": "(5000, 16)"
     },
     "metadata": {}
    }
   ],
   "execution_count": 5
  },
  {
   "cell_type": "code",
   "metadata": {
    "cell_id": "0299133c-684d-4b8b-bbbf-815ca9c41d78",
    "tags": [],
    "deepnote_to_be_reexecuted": false,
    "source_hash": "aa1cb62f",
    "execution_start": 1647276632045,
    "execution_millis": 478,
    "deepnote_cell_type": "code",
    "deepnote_cell_height": 552.40625
   },
   "source": "# describe our numerical data\ndf_bcp.describe()",
   "execution_count": 6,
   "outputs": [
    {
     "output_type": "execute_result",
     "execution_count": 6,
     "data": {
      "application/vnd.deepnote.dataframe.v3+json": {
       "column_count": 11,
       "row_count": 8,
       "columns": [
        {
         "name": "mora_60",
         "dtype": "float64",
         "stats": {
          "unique_count": 5,
          "nan_count": 0,
          "min": "0.0",
          "max": "5000.0",
          "histogram": [
           {
            "bin_start": 0,
            "bin_end": 500,
            "count": 7
           },
           {
            "bin_start": 500,
            "bin_end": 1000,
            "count": 0
           },
           {
            "bin_start": 1000,
            "bin_end": 1500,
            "count": 0
           },
           {
            "bin_start": 1500,
            "bin_end": 2000,
            "count": 0
           },
           {
            "bin_start": 2000,
            "bin_end": 2500,
            "count": 0
           },
           {
            "bin_start": 2500,
            "bin_end": 3000,
            "count": 0
           },
           {
            "bin_start": 3000,
            "bin_end": 3500,
            "count": 0
           },
           {
            "bin_start": 3500,
            "bin_end": 4000,
            "count": 0
           },
           {
            "bin_start": 4000,
            "bin_end": 4500,
            "count": 0
           },
           {
            "bin_start": 4500,
            "bin_end": 5000,
            "count": 1
           }
          ]
         }
        },
        {
         "name": "dias_atraso_12_meses_antes",
         "dtype": "float64",
         "stats": {
          "unique_count": 6,
          "nan_count": 0,
          "min": "0.0",
          "max": "5000.0",
          "histogram": [
           {
            "bin_start": 0,
            "bin_end": 500,
            "count": 7
           },
           {
            "bin_start": 500,
            "bin_end": 1000,
            "count": 0
           },
           {
            "bin_start": 1000,
            "bin_end": 1500,
            "count": 0
           },
           {
            "bin_start": 1500,
            "bin_end": 2000,
            "count": 0
           },
           {
            "bin_start": 2000,
            "bin_end": 2500,
            "count": 0
           },
           {
            "bin_start": 2500,
            "bin_end": 3000,
            "count": 0
           },
           {
            "bin_start": 3000,
            "bin_end": 3500,
            "count": 0
           },
           {
            "bin_start": 3500,
            "bin_end": 4000,
            "count": 0
           },
           {
            "bin_start": 4000,
            "bin_end": 4500,
            "count": 0
           },
           {
            "bin_start": 4500,
            "bin_end": 5000,
            "count": 1
           }
          ]
         }
        },
        {
         "name": "edad",
         "dtype": "float64",
         "stats": {
          "unique_count": 8,
          "nan_count": 0,
          "min": "9.787225020133079",
          "max": "5000.0",
          "histogram": [
           {
            "bin_start": 9.787225020133079,
            "bin_end": 508.8085025181197,
            "count": 7
           },
           {
            "bin_start": 508.8085025181197,
            "bin_end": 1007.8297800161064,
            "count": 0
           },
           {
            "bin_start": 1007.8297800161064,
            "bin_end": 1506.851057514093,
            "count": 0
           },
           {
            "bin_start": 1506.851057514093,
            "bin_end": 2005.8723350120797,
            "count": 0
           },
           {
            "bin_start": 2005.8723350120797,
            "bin_end": 2504.8936125100663,
            "count": 0
           },
           {
            "bin_start": 2504.8936125100663,
            "bin_end": 3003.914890008053,
            "count": 0
           },
           {
            "bin_start": 3003.914890008053,
            "bin_end": 3502.9361675060395,
            "count": 0
           },
           {
            "bin_start": 3502.9361675060395,
            "bin_end": 4001.9574450040263,
            "count": 0
           },
           {
            "bin_start": 4001.9574450040263,
            "bin_end": 4500.978722502014,
            "count": 0
           },
           {
            "bin_start": 4500.978722502014,
            "bin_end": 5000,
            "count": 1
           }
          ]
         }
        },
        {
         "name": "antiguedad_tc_meses",
         "dtype": "float64",
         "stats": {
          "unique_count": 7,
          "nan_count": 0,
          "min": "0.0",
          "max": "5000.0",
          "histogram": [
           {
            "bin_start": 0,
            "bin_end": 500,
            "count": 7
           },
           {
            "bin_start": 500,
            "bin_end": 1000,
            "count": 0
           },
           {
            "bin_start": 1000,
            "bin_end": 1500,
            "count": 0
           },
           {
            "bin_start": 1500,
            "bin_end": 2000,
            "count": 0
           },
           {
            "bin_start": 2000,
            "bin_end": 2500,
            "count": 0
           },
           {
            "bin_start": 2500,
            "bin_end": 3000,
            "count": 0
           },
           {
            "bin_start": 3000,
            "bin_end": 3500,
            "count": 0
           },
           {
            "bin_start": 3500,
            "bin_end": 4000,
            "count": 0
           },
           {
            "bin_start": 4000,
            "bin_end": 4500,
            "count": 0
           },
           {
            "bin_start": 4500,
            "bin_end": 5000,
            "count": 1
           }
          ]
         }
        },
        {
         "name": "producto_pasivo_12_meses_antes",
         "dtype": "float64",
         "stats": {
          "unique_count": 5,
          "nan_count": 0,
          "min": "0.0",
          "max": "5000.0",
          "histogram": [
           {
            "bin_start": 0,
            "bin_end": 500,
            "count": 7
           },
           {
            "bin_start": 500,
            "bin_end": 1000,
            "count": 0
           },
           {
            "bin_start": 1000,
            "bin_end": 1500,
            "count": 0
           },
           {
            "bin_start": 1500,
            "bin_end": 2000,
            "count": 0
           },
           {
            "bin_start": 2000,
            "bin_end": 2500,
            "count": 0
           },
           {
            "bin_start": 2500,
            "bin_end": 3000,
            "count": 0
           },
           {
            "bin_start": 3000,
            "bin_end": 3500,
            "count": 0
           },
           {
            "bin_start": 3500,
            "bin_end": 4000,
            "count": 0
           },
           {
            "bin_start": 4000,
            "bin_end": 4500,
            "count": 0
           },
           {
            "bin_start": 4500,
            "bin_end": 5000,
            "count": 1
           }
          ]
         }
        },
        {
         "name": "ingreso_mensual",
         "dtype": "float64",
         "stats": {
          "unique_count": 8,
          "nan_count": 0,
          "min": "123.7",
          "max": "30000.0",
          "histogram": [
           {
            "bin_start": 123.7,
            "bin_end": 3111.33,
            "count": 3
           },
           {
            "bin_start": 3111.33,
            "bin_end": 6098.96,
            "count": 4
           },
           {
            "bin_start": 6098.96,
            "bin_end": 9086.59,
            "count": 0
           },
           {
            "bin_start": 9086.59,
            "bin_end": 12074.220000000001,
            "count": 0
           },
           {
            "bin_start": 12074.220000000001,
            "bin_end": 15061.850000000002,
            "count": 0
           },
           {
            "bin_start": 15061.850000000002,
            "bin_end": 18049.48,
            "count": 0
           },
           {
            "bin_start": 18049.48,
            "bin_end": 21037.11,
            "count": 0
           },
           {
            "bin_start": 21037.11,
            "bin_end": 24024.74,
            "count": 0
           },
           {
            "bin_start": 24024.74,
            "bin_end": 27012.370000000003,
            "count": 0
           },
           {
            "bin_start": 27012.370000000003,
            "bin_end": 30000,
            "count": 1
           }
          ]
         }
        },
        {
         "name": "monto_linea_tc",
         "dtype": "float64",
         "stats": {
          "unique_count": 8,
          "nan_count": 0,
          "min": "0.0",
          "max": "121543.4",
          "histogram": [
           {
            "bin_start": 0,
            "bin_end": 12154.34,
            "count": 6
           },
           {
            "bin_start": 12154.34,
            "bin_end": 24308.68,
            "count": 1
           },
           {
            "bin_start": 24308.68,
            "bin_end": 36463.020000000004,
            "count": 0
           },
           {
            "bin_start": 36463.020000000004,
            "bin_end": 48617.36,
            "count": 0
           },
           {
            "bin_start": 48617.36,
            "bin_end": 60771.7,
            "count": 0
           },
           {
            "bin_start": 60771.7,
            "bin_end": 72926.04000000001,
            "count": 0
           },
           {
            "bin_start": 72926.04000000001,
            "bin_end": 85080.38,
            "count": 0
           },
           {
            "bin_start": 85080.38,
            "bin_end": 97234.72,
            "count": 0
           },
           {
            "bin_start": 97234.72,
            "bin_end": 109389.06,
            "count": 0
           },
           {
            "bin_start": 109389.06,
            "bin_end": 121543.4,
            "count": 1
           }
          ]
         }
        },
        {
         "name": "monto_saldo_deudor_prom",
         "dtype": "float64",
         "stats": {
          "unique_count": 8,
          "nan_count": 0,
          "min": "0.0",
          "max": "57094.38",
          "histogram": [
           {
            "bin_start": 0,
            "bin_end": 5709.438,
            "count": 5
           },
           {
            "bin_start": 5709.438,
            "bin_end": 11418.876,
            "count": 2
           },
           {
            "bin_start": 11418.876,
            "bin_end": 17128.314,
            "count": 0
           },
           {
            "bin_start": 17128.314,
            "bin_end": 22837.752,
            "count": 0
           },
           {
            "bin_start": 22837.752,
            "bin_end": 28547.190000000002,
            "count": 0
           },
           {
            "bin_start": 28547.190000000002,
            "bin_end": 34256.628,
            "count": 0
           },
           {
            "bin_start": 34256.628,
            "bin_end": 39966.066,
            "count": 0
           },
           {
            "bin_start": 39966.066,
            "bin_end": 45675.504,
            "count": 0
           },
           {
            "bin_start": 45675.504,
            "bin_end": 51384.942,
            "count": 0
           },
           {
            "bin_start": 51384.942,
            "bin_end": 57094.38,
            "count": 1
           }
          ]
         }
        },
        {
         "name": "score_aprob_tc",
         "dtype": "float64",
         "stats": {
          "unique_count": 8,
          "nan_count": 0,
          "min": "19.41631646087851",
          "max": "5000.0",
          "histogram": [
           {
            "bin_start": 19.41631646087851,
            "bin_end": 517.4746848147907,
            "count": 7
           },
           {
            "bin_start": 517.4746848147907,
            "bin_end": 1015.533053168703,
            "count": 0
           },
           {
            "bin_start": 1015.533053168703,
            "bin_end": 1513.5914215226153,
            "count": 0
           },
           {
            "bin_start": 1513.5914215226153,
            "bin_end": 2011.6497898765274,
            "count": 0
           },
           {
            "bin_start": 2011.6497898765274,
            "bin_end": 2509.7081582304395,
            "count": 0
           },
           {
            "bin_start": 2509.7081582304395,
            "bin_end": 3007.766526584352,
            "count": 0
           },
           {
            "bin_start": 3007.766526584352,
            "bin_end": 3505.824894938264,
            "count": 0
           },
           {
            "bin_start": 3505.824894938264,
            "bin_end": 4003.8832632921763,
            "count": 0
           },
           {
            "bin_start": 4003.8832632921763,
            "bin_end": 4501.941631646088,
            "count": 0
           },
           {
            "bin_start": 4501.941631646088,
            "bin_end": 5000,
            "count": 1
           }
          ]
         }
        },
        {
         "name": "nro_veces_abono_12m_antes",
         "dtype": "float64",
         "stats": {
          "unique_count": 5,
          "nan_count": 0,
          "min": "0.0",
          "max": "5000.0",
          "histogram": [
           {
            "bin_start": 0,
            "bin_end": 500,
            "count": 7
           },
           {
            "bin_start": 500,
            "bin_end": 1000,
            "count": 0
           },
           {
            "bin_start": 1000,
            "bin_end": 1500,
            "count": 0
           },
           {
            "bin_start": 1500,
            "bin_end": 2000,
            "count": 0
           },
           {
            "bin_start": 2000,
            "bin_end": 2500,
            "count": 0
           },
           {
            "bin_start": 2500,
            "bin_end": 3000,
            "count": 0
           },
           {
            "bin_start": 3000,
            "bin_end": 3500,
            "count": 0
           },
           {
            "bin_start": 3500,
            "bin_end": 4000,
            "count": 0
           },
           {
            "bin_start": 4000,
            "bin_end": 4500,
            "count": 0
           },
           {
            "bin_start": 4500,
            "bin_end": 5000,
            "count": 1
           }
          ]
         }
        },
        {
         "name": "riesgos_sbs",
         "dtype": "float64",
         "stats": {
          "unique_count": 6,
          "nan_count": 0,
          "min": "0.0",
          "max": "5000.0",
          "histogram": [
           {
            "bin_start": 0,
            "bin_end": 500,
            "count": 7
           },
           {
            "bin_start": 500,
            "bin_end": 1000,
            "count": 0
           },
           {
            "bin_start": 1000,
            "bin_end": 1500,
            "count": 0
           },
           {
            "bin_start": 1500,
            "bin_end": 2000,
            "count": 0
           },
           {
            "bin_start": 2000,
            "bin_end": 2500,
            "count": 0
           },
           {
            "bin_start": 2500,
            "bin_end": 3000,
            "count": 0
           },
           {
            "bin_start": 3000,
            "bin_end": 3500,
            "count": 0
           },
           {
            "bin_start": 3500,
            "bin_end": 4000,
            "count": 0
           },
           {
            "bin_start": 4000,
            "bin_end": 4500,
            "count": 0
           },
           {
            "bin_start": 4500,
            "bin_end": 5000,
            "count": 1
           }
          ]
         }
        },
        {
         "name": "_deepnote_index_column",
         "dtype": "object"
        }
       ],
       "rows": [
        {
         "mora_60": 5000,
         "dias_atraso_12_meses_antes": 5000,
         "edad": 5000,
         "antiguedad_tc_meses": 5000,
         "producto_pasivo_12_meses_antes": 5000,
         "ingreso_mensual": 5000,
         "monto_linea_tc": 5000,
         "monto_saldo_deudor_prom": 5000,
         "score_aprob_tc": 5000,
         "nro_veces_abono_12m_antes": 5000,
         "riesgos_sbs": 5000,
         "_deepnote_index_column": "count"
        },
        {
         "mora_60": 0.7,
         "dias_atraso_12_meses_antes": 4.4808,
         "edad": 36.4294,
         "antiguedad_tc_meses": 25.386,
         "producto_pasivo_12_meses_antes": 10.571,
         "ingreso_mensual": 4373.572006,
         "monto_linea_tc": 10236.73633,
         "monto_saldo_deudor_prom": 5732.438204,
         "score_aprob_tc": 196.7624,
         "nro_veces_abono_12m_antes": 7.9008,
         "riesgos_sbs": 0.5636,
         "_deepnote_index_column": "mean"
        },
        {
         "mora_60": 0.45830340212754295,
         "dias_atraso_12_meses_antes": 13.945240238341576,
         "edad": 9.787225020133079,
         "antiguedad_tc_meses": 32.01426536151232,
         "producto_pasivo_12_meses_antes": 3.3961251056382817,
         "ingreso_mensual": 5393.520234853904,
         "monto_linea_tc": 19853.87145215478,
         "monto_saldo_deudor_prom": 10869.69211105206,
         "score_aprob_tc": 19.41631646087851,
         "nro_veces_abono_12m_antes": 5.277549608101586,
         "riesgos_sbs": 0.9027281005954788,
         "_deepnote_index_column": "std"
        },
        {
         "mora_60": 0,
         "dias_atraso_12_meses_antes": 0,
         "edad": 20,
         "antiguedad_tc_meses": 0,
         "producto_pasivo_12_meses_antes": 0,
         "ingreso_mensual": 123.7,
         "monto_linea_tc": 0,
         "monto_saldo_deudor_prom": 0,
         "score_aprob_tc": 134,
         "nro_veces_abono_12m_antes": 0,
         "riesgos_sbs": 0,
         "_deepnote_index_column": "min"
        },
        {
         "mora_60": 0,
         "dias_atraso_12_meses_antes": 0,
         "edad": 29,
         "antiguedad_tc_meses": 0,
         "producto_pasivo_12_meses_antes": 12,
         "ingreso_mensual": 1400,
         "monto_linea_tc": 389.365,
         "monto_saldo_deudor_prom": 283.605,
         "score_aprob_tc": 182,
         "nro_veces_abono_12m_antes": 0,
         "riesgos_sbs": 0,
         "_deepnote_index_column": "25%"
        },
        {
         "mora_60": 1,
         "dias_atraso_12_meses_antes": 0,
         "edad": 34,
         "antiguedad_tc_meses": 12,
         "producto_pasivo_12_meses_antes": 12,
         "ingreso_mensual": 2400,
         "monto_linea_tc": 2915.955,
         "monto_saldo_deudor_prom": 2077.105,
         "score_aprob_tc": 197,
         "nro_veces_abono_12m_antes": 12,
         "riesgos_sbs": 0,
         "_deepnote_index_column": "50%"
        },
        {
         "mora_60": 1,
         "dias_atraso_12_meses_antes": 2,
         "edad": 42,
         "antiguedad_tc_meses": 39,
         "producto_pasivo_12_meses_antes": 12,
         "ingreso_mensual": 4900,
         "monto_linea_tc": 9763.3875,
         "monto_saldo_deudor_prom": 5384.22,
         "score_aprob_tc": 212,
         "nro_veces_abono_12m_antes": 12,
         "riesgos_sbs": 1,
         "_deepnote_index_column": "75%"
        },
        {
         "mora_60": 1,
         "dias_atraso_12_meses_antes": 245,
         "edad": 85,
         "antiguedad_tc_meses": 130,
         "producto_pasivo_12_meses_antes": 12,
         "ingreso_mensual": 30000,
         "monto_linea_tc": 121543.4,
         "monto_saldo_deudor_prom": 57094.38,
         "score_aprob_tc": 266,
         "nro_veces_abono_12m_antes": 12,
         "riesgos_sbs": 4,
         "_deepnote_index_column": "max"
        }
       ]
      },
      "text/plain": "        mora_60  dias_atraso_12_meses_antes      edad  antiguedad_tc_meses  \\\ncount 5,000.000                   5,000.000 5,000.000            5,000.000   \nmean      0.700                       4.481    36.429               25.386   \nstd       0.458                      13.945     9.787               32.014   \nmin       0.000                       0.000    20.000                0.000   \n25%       0.000                       0.000    29.000                0.000   \n50%       1.000                       0.000    34.000               12.000   \n75%       1.000                       2.000    42.000               39.000   \nmax       1.000                     245.000    85.000              130.000   \n\n       producto_pasivo_12_meses_antes  ingreso_mensual  monto_linea_tc  \\\ncount                       5,000.000        5,000.000       5,000.000   \nmean                           10.571        4,373.572      10,236.736   \nstd                             3.396        5,393.520      19,853.871   \nmin                             0.000          123.700           0.000   \n25%                            12.000        1,400.000         389.365   \n50%                            12.000        2,400.000       2,915.955   \n75%                            12.000        4,900.000       9,763.388   \nmax                            12.000       30,000.000     121,543.400   \n\n       monto_saldo_deudor_prom  score_aprob_tc  nro_veces_abono_12m_antes  \\\ncount                5,000.000       5,000.000                  5,000.000   \nmean                 5,732.438         196.762                      7.901   \nstd                 10,869.692          19.416                      5.278   \nmin                      0.000         134.000                      0.000   \n25%                    283.605         182.000                      0.000   \n50%                  2,077.105         197.000                     12.000   \n75%                  5,384.220         212.000                     12.000   \nmax                 57,094.380         266.000                     12.000   \n\n       riesgos_sbs  \ncount    5,000.000  \nmean         0.564  \nstd          0.903  \nmin          0.000  \n25%          0.000  \n50%          0.000  \n75%          1.000  \nmax          4.000  ",
      "text/html": "<div>\n<style scoped>\n    .dataframe tbody tr th:only-of-type {\n        vertical-align: middle;\n    }\n\n    .dataframe tbody tr th {\n        vertical-align: top;\n    }\n\n    .dataframe thead th {\n        text-align: right;\n    }\n</style>\n<table border=\"1\" class=\"dataframe\">\n  <thead>\n    <tr style=\"text-align: right;\">\n      <th></th>\n      <th>mora_60</th>\n      <th>dias_atraso_12_meses_antes</th>\n      <th>edad</th>\n      <th>antiguedad_tc_meses</th>\n      <th>producto_pasivo_12_meses_antes</th>\n      <th>ingreso_mensual</th>\n      <th>monto_linea_tc</th>\n      <th>monto_saldo_deudor_prom</th>\n      <th>score_aprob_tc</th>\n      <th>nro_veces_abono_12m_antes</th>\n      <th>riesgos_sbs</th>\n    </tr>\n  </thead>\n  <tbody>\n    <tr>\n      <th>count</th>\n      <td>5,000.000</td>\n      <td>5,000.000</td>\n      <td>5,000.000</td>\n      <td>5,000.000</td>\n      <td>5,000.000</td>\n      <td>5,000.000</td>\n      <td>5,000.000</td>\n      <td>5,000.000</td>\n      <td>5,000.000</td>\n      <td>5,000.000</td>\n      <td>5,000.000</td>\n    </tr>\n    <tr>\n      <th>mean</th>\n      <td>0.700</td>\n      <td>4.481</td>\n      <td>36.429</td>\n      <td>25.386</td>\n      <td>10.571</td>\n      <td>4,373.572</td>\n      <td>10,236.736</td>\n      <td>5,732.438</td>\n      <td>196.762</td>\n      <td>7.901</td>\n      <td>0.564</td>\n    </tr>\n    <tr>\n      <th>std</th>\n      <td>0.458</td>\n      <td>13.945</td>\n      <td>9.787</td>\n      <td>32.014</td>\n      <td>3.396</td>\n      <td>5,393.520</td>\n      <td>19,853.871</td>\n      <td>10,869.692</td>\n      <td>19.416</td>\n      <td>5.278</td>\n      <td>0.903</td>\n    </tr>\n    <tr>\n      <th>min</th>\n      <td>0.000</td>\n      <td>0.000</td>\n      <td>20.000</td>\n      <td>0.000</td>\n      <td>0.000</td>\n      <td>123.700</td>\n      <td>0.000</td>\n      <td>0.000</td>\n      <td>134.000</td>\n      <td>0.000</td>\n      <td>0.000</td>\n    </tr>\n    <tr>\n      <th>25%</th>\n      <td>0.000</td>\n      <td>0.000</td>\n      <td>29.000</td>\n      <td>0.000</td>\n      <td>12.000</td>\n      <td>1,400.000</td>\n      <td>389.365</td>\n      <td>283.605</td>\n      <td>182.000</td>\n      <td>0.000</td>\n      <td>0.000</td>\n    </tr>\n    <tr>\n      <th>50%</th>\n      <td>1.000</td>\n      <td>0.000</td>\n      <td>34.000</td>\n      <td>12.000</td>\n      <td>12.000</td>\n      <td>2,400.000</td>\n      <td>2,915.955</td>\n      <td>2,077.105</td>\n      <td>197.000</td>\n      <td>12.000</td>\n      <td>0.000</td>\n    </tr>\n    <tr>\n      <th>75%</th>\n      <td>1.000</td>\n      <td>2.000</td>\n      <td>42.000</td>\n      <td>39.000</td>\n      <td>12.000</td>\n      <td>4,900.000</td>\n      <td>9,763.388</td>\n      <td>5,384.220</td>\n      <td>212.000</td>\n      <td>12.000</td>\n      <td>1.000</td>\n    </tr>\n    <tr>\n      <th>max</th>\n      <td>1.000</td>\n      <td>245.000</td>\n      <td>85.000</td>\n      <td>130.000</td>\n      <td>12.000</td>\n      <td>30,000.000</td>\n      <td>121,543.400</td>\n      <td>57,094.380</td>\n      <td>266.000</td>\n      <td>12.000</td>\n      <td>4.000</td>\n    </tr>\n  </tbody>\n</table>\n</div>"
     },
     "metadata": {}
    }
   ]
  },
  {
   "cell_type": "code",
   "metadata": {
    "cell_id": "b2d74ab8-4ab9-4122-bbac-0c62fc2e37f1",
    "tags": [],
    "deepnote_to_be_reexecuted": false,
    "source_hash": "e0d30aab",
    "execution_start": 1647276632537,
    "execution_millis": 221,
    "deepnote_cell_type": "code",
    "deepnote_cell_height": 369.90625
   },
   "source": "# describe our category data\ndf_bcp.describe(include = ['object'])",
   "execution_count": 7,
   "outputs": [
    {
     "output_type": "execute_result",
     "execution_count": 7,
     "data": {
      "application/vnd.deepnote.dataframe.v3+json": {
       "column_count": 5,
       "row_count": 4,
       "columns": [
        {
         "name": "situacion_casa",
         "dtype": "object",
         "stats": {
          "unique_count": 4,
          "nan_count": 0,
          "categories": [
           {
            "name": "5000",
            "count": 1
           },
           {
            "name": "4",
            "count": 1
           },
           {
            "name": "2 others",
            "count": 2
           }
          ]
         }
        },
        {
         "name": "fecha_ingreso_empleo",
         "dtype": "object",
         "stats": {
          "unique_count": 4,
          "nan_count": 0,
          "categories": [
           {
            "name": "5000",
            "count": 1
           },
           {
            "name": "941",
            "count": 1
           },
           {
            "name": "2 others",
            "count": 2
           }
          ]
         }
        },
        {
         "name": "zona_geografica",
         "dtype": "object",
         "stats": {
          "unique_count": 4,
          "nan_count": 0,
          "categories": [
           {
            "name": "5000",
            "count": 1
           },
           {
            "name": "25",
            "count": 1
           },
           {
            "name": "2 others",
            "count": 2
           }
          ]
         }
        },
        {
         "name": "nivel_educativo",
         "dtype": "object",
         "stats": {
          "unique_count": 4,
          "nan_count": 0,
          "categories": [
           {
            "name": "5000",
            "count": 1
           },
           {
            "name": "5",
            "count": 1
           },
           {
            "name": "2 others",
            "count": 2
           }
          ]
         }
        },
        {
         "name": "edad_binned",
         "dtype": "object",
         "stats": {
          "unique_count": 4,
          "nan_count": 0,
          "categories": [
           {
            "name": "5000",
            "count": 1
           },
           {
            "name": "3",
            "count": 1
           },
           {
            "name": "2 others",
            "count": 2
           }
          ]
         }
        },
        {
         "name": "_deepnote_index_column",
         "dtype": "object"
        }
       ],
       "rows": [
        {
         "situacion_casa": "5000",
         "fecha_ingreso_empleo": "5000",
         "zona_geografica": "5000",
         "nivel_educativo": "5000",
         "edad_binned": "5000",
         "_deepnote_index_column": "count"
        },
        {
         "situacion_casa": "4",
         "fecha_ingreso_empleo": "941",
         "zona_geografica": "25",
         "nivel_educativo": "5",
         "edad_binned": "3",
         "_deepnote_index_column": "unique"
        },
        {
         "situacion_casa": "FAMILIAR",
         "fecha_ingreso_empleo": "2000-01-01",
         "zona_geografica": "Lima",
         "nivel_educativo": "PROFESIONAL",
         "edad_binned": "joven",
         "_deepnote_index_column": "top"
        },
        {
         "situacion_casa": "3471",
         "fecha_ingreso_empleo": "144",
         "zona_geografica": "2948",
         "nivel_educativo": "2666",
         "edad_binned": "3659",
         "_deepnote_index_column": "freq"
        }
       ]
      },
      "text/plain": "       situacion_casa fecha_ingreso_empleo zona_geografica nivel_educativo  \\\ncount            5000                 5000            5000            5000   \nunique              4                  941              25               5   \ntop          FAMILIAR           2000-01-01            Lima     PROFESIONAL   \nfreq             3471                  144            2948            2666   \n\n       edad_binned  \ncount         5000  \nunique           3  \ntop          joven  \nfreq          3659  ",
      "text/html": "<div>\n<style scoped>\n    .dataframe tbody tr th:only-of-type {\n        vertical-align: middle;\n    }\n\n    .dataframe tbody tr th {\n        vertical-align: top;\n    }\n\n    .dataframe thead th {\n        text-align: right;\n    }\n</style>\n<table border=\"1\" class=\"dataframe\">\n  <thead>\n    <tr style=\"text-align: right;\">\n      <th></th>\n      <th>situacion_casa</th>\n      <th>fecha_ingreso_empleo</th>\n      <th>zona_geografica</th>\n      <th>nivel_educativo</th>\n      <th>edad_binned</th>\n    </tr>\n  </thead>\n  <tbody>\n    <tr>\n      <th>count</th>\n      <td>5000</td>\n      <td>5000</td>\n      <td>5000</td>\n      <td>5000</td>\n      <td>5000</td>\n    </tr>\n    <tr>\n      <th>unique</th>\n      <td>4</td>\n      <td>941</td>\n      <td>25</td>\n      <td>5</td>\n      <td>3</td>\n    </tr>\n    <tr>\n      <th>top</th>\n      <td>FAMILIAR</td>\n      <td>2000-01-01</td>\n      <td>Lima</td>\n      <td>PROFESIONAL</td>\n      <td>joven</td>\n    </tr>\n    <tr>\n      <th>freq</th>\n      <td>3471</td>\n      <td>144</td>\n      <td>2948</td>\n      <td>2666</td>\n      <td>3659</td>\n    </tr>\n  </tbody>\n</table>\n</div>"
     },
     "metadata": {}
    }
   ]
  },
  {
   "cell_type": "markdown",
   "source": "# Search variables to make prediction",
   "metadata": {
    "cell_id": "61e91bb4-346c-43f2-8a90-754224644d58",
    "tags": [],
    "deepnote_cell_type": "markdown",
    "deepnote_cell_height": 133.984375
   }
  },
  {
   "cell_type": "markdown",
   "source": "1. Minimizar riesgos\n2. Qué clientes tienen alta probabilidad de mora\n3. Qué clientes son suceptibles a retrasarse en sus pagos\n4. Qué clientes son suceptibles a incumplir sus pagos\n5. Dos(2) variables más relevantes\n6. Dos(2) variables menos relevantes\n7. Qué recomendación daría al cliente",
   "metadata": {
    "cell_id": "a77b6794-b2a6-4f94-8905-303b737c09f9",
    "tags": [],
    "deepnote_cell_type": "markdown",
    "deepnote_cell_height": 221.796875
   }
  },
  {
   "cell_type": "code",
   "metadata": {
    "cell_id": "4391bb90-2084-46b4-b799-661067037190",
    "tags": [],
    "deepnote_to_be_reexecuted": false,
    "source_hash": "b461af63",
    "execution_start": 1647276632742,
    "execution_millis": 421,
    "deepnote_cell_type": "code",
    "deepnote_cell_height": 652.40625
   },
   "source": "# we use the clients 'yes_mora'\ndf_yes_mora = df_bcp[df_bcp['mora_60'] == 1]\ndf_yes_mora",
   "execution_count": 8,
   "outputs": [
    {
     "output_type": "execute_result",
     "execution_count": 8,
     "data": {
      "application/vnd.deepnote.dataframe.v3+json": {
       "column_count": 16,
       "row_count": 3500,
       "columns": [
        {
         "name": "mora_60",
         "dtype": "int64",
         "stats": {
          "unique_count": 1,
          "nan_count": 0,
          "min": "1",
          "max": "1",
          "histogram": [
           {
            "bin_start": 0.5,
            "bin_end": 0.6,
            "count": 0
           },
           {
            "bin_start": 0.6,
            "bin_end": 0.7,
            "count": 0
           },
           {
            "bin_start": 0.7,
            "bin_end": 0.8,
            "count": 0
           },
           {
            "bin_start": 0.8,
            "bin_end": 0.9,
            "count": 0
           },
           {
            "bin_start": 0.9,
            "bin_end": 1,
            "count": 0
           },
           {
            "bin_start": 1,
            "bin_end": 1.1,
            "count": 3500
           },
           {
            "bin_start": 1.1,
            "bin_end": 1.2000000000000002,
            "count": 0
           },
           {
            "bin_start": 1.2000000000000002,
            "bin_end": 1.3,
            "count": 0
           },
           {
            "bin_start": 1.3,
            "bin_end": 1.4,
            "count": 0
           },
           {
            "bin_start": 1.4,
            "bin_end": 1.5,
            "count": 0
           }
          ]
         }
        },
        {
         "name": "dias_atraso_12_meses_antes",
         "dtype": "int64",
         "stats": {
          "unique_count": 62,
          "nan_count": 0,
          "min": "0",
          "max": "245",
          "histogram": [
           {
            "bin_start": 0,
            "bin_end": 24.5,
            "count": 3256
           },
           {
            "bin_start": 24.5,
            "bin_end": 49,
            "count": 189
           },
           {
            "bin_start": 49,
            "bin_end": 73.5,
            "count": 40
           },
           {
            "bin_start": 73.5,
            "bin_end": 98,
            "count": 5
           },
           {
            "bin_start": 98,
            "bin_end": 122.5,
            "count": 3
           },
           {
            "bin_start": 122.5,
            "bin_end": 147,
            "count": 0
           },
           {
            "bin_start": 147,
            "bin_end": 171.5,
            "count": 0
           },
           {
            "bin_start": 171.5,
            "bin_end": 196,
            "count": 0
           },
           {
            "bin_start": 196,
            "bin_end": 220.5,
            "count": 2
           },
           {
            "bin_start": 220.5,
            "bin_end": 245,
            "count": 5
           }
          ]
         }
        },
        {
         "name": "situacion_casa",
         "dtype": "object",
         "stats": {
          "unique_count": 4,
          "nan_count": 0,
          "categories": [
           {
            "name": "FAMILIAR",
            "count": 2503
           },
           {
            "name": "PROPIA",
            "count": 922
           },
           {
            "name": "2 others",
            "count": 75
           }
          ]
         }
        },
        {
         "name": "edad",
         "dtype": "int64",
         "stats": {
          "unique_count": 55,
          "nan_count": 0,
          "min": "20",
          "max": "85",
          "histogram": [
           {
            "bin_start": 20,
            "bin_end": 26.5,
            "count": 568
           },
           {
            "bin_start": 26.5,
            "bin_end": 33,
            "count": 985
           },
           {
            "bin_start": 33,
            "bin_end": 39.5,
            "count": 903
           },
           {
            "bin_start": 39.5,
            "bin_end": 46,
            "count": 468
           },
           {
            "bin_start": 46,
            "bin_end": 52.5,
            "count": 347
           },
           {
            "bin_start": 52.5,
            "bin_end": 59,
            "count": 150
           },
           {
            "bin_start": 59,
            "bin_end": 65.5,
            "count": 67
           },
           {
            "bin_start": 65.5,
            "bin_end": 72,
            "count": 8
           },
           {
            "bin_start": 72,
            "bin_end": 78.5,
            "count": 2
           },
           {
            "bin_start": 78.5,
            "bin_end": 85,
            "count": 2
           }
          ]
         }
        },
        {
         "name": "fecha_ingreso_empleo",
         "dtype": "object",
         "stats": {
          "unique_count": 758,
          "nan_count": 0,
          "categories": [
           {
            "name": "2000-01-01",
            "count": 88
           },
           {
            "name": "2005-01-01",
            "count": 58
           },
           {
            "name": "756 others",
            "count": 3354
           }
          ]
         }
        },
        {
         "name": "antiguedad_tc_meses",
         "dtype": "int64",
         "stats": {
          "unique_count": 123,
          "nan_count": 0,
          "min": "0",
          "max": "130",
          "histogram": [
           {
            "bin_start": 0,
            "bin_end": 13,
            "count": 2038
           },
           {
            "bin_start": 13,
            "bin_end": 26,
            "count": 531
           },
           {
            "bin_start": 26,
            "bin_end": 39,
            "count": 272
           },
           {
            "bin_start": 39,
            "bin_end": 52,
            "count": 200
           },
           {
            "bin_start": 52,
            "bin_end": 65,
            "count": 106
           },
           {
            "bin_start": 65,
            "bin_end": 78,
            "count": 73
           },
           {
            "bin_start": 78,
            "bin_end": 91,
            "count": 134
           },
           {
            "bin_start": 91,
            "bin_end": 104,
            "count": 90
           },
           {
            "bin_start": 104,
            "bin_end": 117,
            "count": 49
           },
           {
            "bin_start": 117,
            "bin_end": 130,
            "count": 7
           }
          ]
         }
        },
        {
         "name": "producto_pasivo_12_meses_antes",
         "dtype": "int64",
         "stats": {
          "unique_count": 13,
          "nan_count": 0,
          "min": "0",
          "max": "12",
          "histogram": [
           {
            "bin_start": 0,
            "bin_end": 1.2,
            "count": 278
           },
           {
            "bin_start": 1.2,
            "bin_end": 2.4,
            "count": 36
           },
           {
            "bin_start": 2.4,
            "bin_end": 3.5999999999999996,
            "count": 27
           },
           {
            "bin_start": 3.5999999999999996,
            "bin_end": 4.8,
            "count": 51
           },
           {
            "bin_start": 4.8,
            "bin_end": 6,
            "count": 36
           },
           {
            "bin_start": 6,
            "bin_end": 7.199999999999999,
            "count": 86
           },
           {
            "bin_start": 7.199999999999999,
            "bin_end": 8.4,
            "count": 56
           },
           {
            "bin_start": 8.4,
            "bin_end": 9.6,
            "count": 70
           },
           {
            "bin_start": 9.6,
            "bin_end": 10.799999999999999,
            "count": 88
           },
           {
            "bin_start": 10.799999999999999,
            "bin_end": 12,
            "count": 2772
           }
          ]
         }
        },
        {
         "name": "ingreso_mensual",
         "dtype": "float64",
         "stats": {
          "unique_count": 1687,
          "nan_count": 0,
          "min": "148.0",
          "max": "30000.0",
          "histogram": [
           {
            "bin_start": 148,
            "bin_end": 3133.2,
            "count": 2388
           },
           {
            "bin_start": 3133.2,
            "bin_end": 6118.4,
            "count": 577
           },
           {
            "bin_start": 6118.4,
            "bin_end": 9103.599999999999,
            "count": 228
           },
           {
            "bin_start": 9103.599999999999,
            "bin_end": 12088.8,
            "count": 101
           },
           {
            "bin_start": 12088.8,
            "bin_end": 15074,
            "count": 72
           },
           {
            "bin_start": 15074,
            "bin_end": 18059.199999999997,
            "count": 37
           },
           {
            "bin_start": 18059.199999999997,
            "bin_end": 21044.399999999998,
            "count": 21
           },
           {
            "bin_start": 21044.399999999998,
            "bin_end": 24029.6,
            "count": 15
           },
           {
            "bin_start": 24029.6,
            "bin_end": 27014.8,
            "count": 9
           },
           {
            "bin_start": 27014.8,
            "bin_end": 30000,
            "count": 52
           }
          ]
         }
        },
        {
         "name": "monto_linea_tc",
         "dtype": "float64",
         "stats": {
          "unique_count": 2183,
          "nan_count": 0,
          "min": "0.0",
          "max": "121543.4",
          "histogram": [
           {
            "bin_start": 0,
            "bin_end": 12154.34,
            "count": 2909
           },
           {
            "bin_start": 12154.34,
            "bin_end": 24308.68,
            "count": 291
           },
           {
            "bin_start": 24308.68,
            "bin_end": 36463.020000000004,
            "count": 131
           },
           {
            "bin_start": 36463.020000000004,
            "bin_end": 48617.36,
            "count": 56
           },
           {
            "bin_start": 48617.36,
            "bin_end": 60771.7,
            "count": 41
           },
           {
            "bin_start": 60771.7,
            "bin_end": 72926.04000000001,
            "count": 17
           },
           {
            "bin_start": 72926.04000000001,
            "bin_end": 85080.38,
            "count": 15
           },
           {
            "bin_start": 85080.38,
            "bin_end": 97234.72,
            "count": 10
           },
           {
            "bin_start": 97234.72,
            "bin_end": 109389.06,
            "count": 7
           },
           {
            "bin_start": 109389.06,
            "bin_end": 121543.4,
            "count": 23
           }
          ]
         }
        },
        {
         "name": "monto_saldo_deudor_prom",
         "dtype": "float64",
         "stats": {
          "unique_count": 2757,
          "nan_count": 0,
          "min": "0.0",
          "max": "57094.38",
          "histogram": [
           {
            "bin_start": 0,
            "bin_end": 5709.438,
            "count": 2666
           },
           {
            "bin_start": 5709.438,
            "bin_end": 11418.876,
            "count": 406
           },
           {
            "bin_start": 11418.876,
            "bin_end": 17128.314,
            "count": 150
           },
           {
            "bin_start": 17128.314,
            "bin_end": 22837.752,
            "count": 70
           },
           {
            "bin_start": 22837.752,
            "bin_end": 28547.190000000002,
            "count": 47
           },
           {
            "bin_start": 28547.190000000002,
            "bin_end": 34256.628,
            "count": 28
           },
           {
            "bin_start": 34256.628,
            "bin_end": 39966.066,
            "count": 21
           },
           {
            "bin_start": 39966.066,
            "bin_end": 45675.504,
            "count": 19
           },
           {
            "bin_start": 45675.504,
            "bin_end": 51384.942,
            "count": 9
           },
           {
            "bin_start": 51384.942,
            "bin_end": 57094.38,
            "count": 84
           }
          ]
         }
        },
        {
         "name": "score_aprob_tc",
         "dtype": "int64",
         "stats": {
          "unique_count": 103,
          "nan_count": 0,
          "min": "134",
          "max": "257",
          "histogram": [
           {
            "bin_start": 134,
            "bin_end": 146.3,
            "count": 6
           },
           {
            "bin_start": 146.3,
            "bin_end": 158.6,
            "count": 133
           },
           {
            "bin_start": 158.6,
            "bin_end": 170.9,
            "count": 251
           },
           {
            "bin_start": 170.9,
            "bin_end": 183.2,
            "count": 720
           },
           {
            "bin_start": 183.2,
            "bin_end": 195.5,
            "count": 761
           },
           {
            "bin_start": 195.5,
            "bin_end": 207.8,
            "count": 782
           },
           {
            "bin_start": 207.8,
            "bin_end": 220.10000000000002,
            "count": 547
           },
           {
            "bin_start": 220.10000000000002,
            "bin_end": 232.4,
            "count": 217
           },
           {
            "bin_start": 232.4,
            "bin_end": 244.7,
            "count": 71
           },
           {
            "bin_start": 244.7,
            "bin_end": 257,
            "count": 12
           }
          ]
         }
        },
        {
         "name": "nro_veces_abono_12m_antes",
         "dtype": "int64",
         "stats": {
          "unique_count": 13,
          "nan_count": 0,
          "min": "0",
          "max": "12",
          "histogram": [
           {
            "bin_start": 0,
            "bin_end": 1.2,
            "count": 1029
           },
           {
            "bin_start": 1.2,
            "bin_end": 2.4,
            "count": 30
           },
           {
            "bin_start": 2.4,
            "bin_end": 3.5999999999999996,
            "count": 16
           },
           {
            "bin_start": 3.5999999999999996,
            "bin_end": 4.8,
            "count": 24
           },
           {
            "bin_start": 4.8,
            "bin_end": 6,
            "count": 37
           },
           {
            "bin_start": 6,
            "bin_end": 7.199999999999999,
            "count": 110
           },
           {
            "bin_start": 7.199999999999999,
            "bin_end": 8.4,
            "count": 64
           },
           {
            "bin_start": 8.4,
            "bin_end": 9.6,
            "count": 84
           },
           {
            "bin_start": 9.6,
            "bin_end": 10.799999999999999,
            "count": 148
           },
           {
            "bin_start": 10.799999999999999,
            "bin_end": 12,
            "count": 1958
           }
          ]
         }
        },
        {
         "name": "zona_geografica",
         "dtype": "object",
         "stats": {
          "unique_count": 25,
          "nan_count": 0,
          "categories": [
           {
            "name": "Lima",
            "count": 1987
           },
           {
            "name": "Callao",
            "count": 227
           },
           {
            "name": "23 others",
            "count": 1286
           }
          ]
         }
        },
        {
         "name": "riesgos_sbs",
         "dtype": "int64",
         "stats": {
          "unique_count": 5,
          "nan_count": 0,
          "min": "0",
          "max": "4",
          "histogram": [
           {
            "bin_start": 0,
            "bin_end": 0.4,
            "count": 2096
           },
           {
            "bin_start": 0.4,
            "bin_end": 0.8,
            "count": 0
           },
           {
            "bin_start": 0.8,
            "bin_end": 1.2000000000000002,
            "count": 920
           },
           {
            "bin_start": 1.2000000000000002,
            "bin_end": 1.6,
            "count": 0
           },
           {
            "bin_start": 1.6,
            "bin_end": 2,
            "count": 0
           },
           {
            "bin_start": 2,
            "bin_end": 2.4000000000000004,
            "count": 304
           },
           {
            "bin_start": 2.4000000000000004,
            "bin_end": 2.8000000000000003,
            "count": 0
           },
           {
            "bin_start": 2.8000000000000003,
            "bin_end": 3.2,
            "count": 87
           },
           {
            "bin_start": 3.2,
            "bin_end": 3.6,
            "count": 0
           },
           {
            "bin_start": 3.6,
            "bin_end": 4,
            "count": 93
           }
          ]
         }
        },
        {
         "name": "nivel_educativo",
         "dtype": "object",
         "stats": {
          "unique_count": 5,
          "nan_count": 0,
          "categories": [
           {
            "name": "PROFESIONAL",
            "count": 1697
           },
           {
            "name": "TECNICO",
            "count": 1532
           },
           {
            "name": "3 others",
            "count": 271
           }
          ]
         }
        },
        {
         "name": "edad_binned",
         "dtype": "object",
         "stats": {
          "unique_count": 3,
          "nan_count": 0,
          "categories": [
           {
            "name": "joven",
            "count": 2650
           },
           {
            "name": "adulto",
            "count": 820
           },
           {
            "name": "adulto_mayor",
            "count": 30
           }
          ]
         }
        },
        {
         "name": "_deepnote_index_column",
         "dtype": "int64"
        }
       ],
       "rows": [
        {
         "mora_60": 1,
         "dias_atraso_12_meses_antes": 245,
         "situacion_casa": "FAMILIAR",
         "edad": 43,
         "fecha_ingreso_empleo": "2000-01-01",
         "antiguedad_tc_meses": 7,
         "producto_pasivo_12_meses_antes": 12,
         "ingreso_mensual": 29422,
         "monto_linea_tc": 40603.97,
         "monto_saldo_deudor_prom": 13571.59,
         "score_aprob_tc": 214,
         "nro_veces_abono_12m_antes": 0,
         "zona_geografica": "Lima",
         "riesgos_sbs": 4,
         "nivel_educativo": "PROFESIONAL",
         "edad_binned": "adulto",
         "_deepnote_index_column": 1500
        },
        {
         "mora_60": 1,
         "dias_atraso_12_meses_antes": 238,
         "situacion_casa": "FAMILIAR",
         "edad": 40,
         "fecha_ingreso_empleo": "2005-01-01",
         "antiguedad_tc_meses": 17,
         "producto_pasivo_12_meses_antes": 0,
         "ingreso_mensual": 10000,
         "monto_linea_tc": 25526.76,
         "monto_saldo_deudor_prom": 25526.76,
         "score_aprob_tc": 185,
         "nro_veces_abono_12m_antes": 0,
         "zona_geografica": "Lima",
         "riesgos_sbs": 4,
         "nivel_educativo": "PROFESIONAL",
         "edad_binned": "joven",
         "_deepnote_index_column": 1501
        },
        {
         "mora_60": 1,
         "dias_atraso_12_meses_antes": 238,
         "situacion_casa": "FAMILIAR",
         "edad": 40,
         "fecha_ingreso_empleo": "2005-01-01",
         "antiguedad_tc_meses": 17,
         "producto_pasivo_12_meses_antes": 0,
         "ingreso_mensual": 10000,
         "monto_linea_tc": 25526.76,
         "monto_saldo_deudor_prom": 25526.76,
         "score_aprob_tc": 185,
         "nro_veces_abono_12m_antes": 0,
         "zona_geografica": "Lima",
         "riesgos_sbs": 4,
         "nivel_educativo": "PROFESIONAL",
         "edad_binned": "joven",
         "_deepnote_index_column": 1502
        },
        {
         "mora_60": 1,
         "dias_atraso_12_meses_antes": 219,
         "situacion_casa": "PROPIA",
         "edad": 39,
         "fecha_ingreso_empleo": "2004-04-01",
         "antiguedad_tc_meses": 90,
         "producto_pasivo_12_meses_antes": 7,
         "ingreso_mensual": 15000,
         "monto_linea_tc": 14906.78,
         "monto_saldo_deudor_prom": 0,
         "score_aprob_tc": 221,
         "nro_veces_abono_12m_antes": 0,
         "zona_geografica": "Lima",
         "riesgos_sbs": 0,
         "nivel_educativo": "PROFESIONAL",
         "edad_binned": "joven",
         "_deepnote_index_column": 1503
        },
        {
         "mora_60": 1,
         "dias_atraso_12_meses_antes": 4,
         "situacion_casa": "FAMILIAR",
         "edad": 24,
         "fecha_ingreso_empleo": "2003-06-01",
         "antiguedad_tc_meses": 0,
         "producto_pasivo_12_meses_antes": 1,
         "ingreso_mensual": 3876,
         "monto_linea_tc": 769.45,
         "monto_saldo_deudor_prom": 35563.7,
         "score_aprob_tc": 186,
         "nro_veces_abono_12m_antes": 0,
         "zona_geografica": "Lima",
         "riesgos_sbs": 2,
         "nivel_educativo": "TECNICO",
         "edad_binned": "joven",
         "_deepnote_index_column": 1504
        },
        {
         "mora_60": 1,
         "dias_atraso_12_meses_antes": 219,
         "situacion_casa": "FAMILIAR",
         "edad": 48,
         "fecha_ingreso_empleo": "1994-01-01",
         "antiguedad_tc_meses": 94,
         "producto_pasivo_12_meses_antes": 12,
         "ingreso_mensual": 2500,
         "monto_linea_tc": 3983.01,
         "monto_saldo_deudor_prom": 3170.09,
         "score_aprob_tc": 217,
         "nro_veces_abono_12m_antes": 12,
         "zona_geografica": "Lima",
         "riesgos_sbs": 2,
         "nivel_educativo": "PROFESIONAL",
         "edad_binned": "adulto",
         "_deepnote_index_column": 1505
        },
        {
         "mora_60": 1,
         "dias_atraso_12_meses_antes": 24,
         "situacion_casa": "FAMILIAR",
         "edad": 37,
         "fecha_ingreso_empleo": "2006-11-01",
         "antiguedad_tc_meses": 7,
         "producto_pasivo_12_meses_antes": 0,
         "ingreso_mensual": 2400,
         "monto_linea_tc": 3585.64,
         "monto_saldo_deudor_prom": 413.14,
         "score_aprob_tc": 179,
         "nro_veces_abono_12m_antes": 0,
         "zona_geografica": "Lima",
         "riesgos_sbs": 1,
         "nivel_educativo": "TECNICO",
         "edad_binned": "joven",
         "_deepnote_index_column": 1506
        },
        {
         "mora_60": 1,
         "dias_atraso_12_meses_antes": 24,
         "situacion_casa": "PROPIA",
         "edad": 40,
         "fecha_ingreso_empleo": "2003-12-01",
         "antiguedad_tc_meses": 6,
         "producto_pasivo_12_meses_antes": 0,
         "ingreso_mensual": 1065.19,
         "monto_linea_tc": 271.97,
         "monto_saldo_deudor_prom": 396.13,
         "score_aprob_tc": 187,
         "nro_veces_abono_12m_antes": 0,
         "zona_geografica": "Loreto",
         "riesgos_sbs": 0,
         "nivel_educativo": "PROFESIONAL",
         "edad_binned": "joven",
         "_deepnote_index_column": 1507
        },
        {
         "mora_60": 1,
         "dias_atraso_12_meses_antes": 1,
         "situacion_casa": "FAMILIAR",
         "edad": 28,
         "fecha_ingreso_empleo": "2008-03-15",
         "antiguedad_tc_meses": 0,
         "producto_pasivo_12_meses_antes": 11,
         "ingreso_mensual": 1372.4,
         "monto_linea_tc": 1976.78,
         "monto_saldo_deudor_prom": 1400.54,
         "score_aprob_tc": 175,
         "nro_veces_abono_12m_antes": 12,
         "zona_geografica": "Lima",
         "riesgos_sbs": 0,
         "nivel_educativo": "TECNICO",
         "edad_binned": "joven",
         "_deepnote_index_column": 1508
        },
        {
         "mora_60": 1,
         "dias_atraso_12_meses_antes": 0,
         "situacion_casa": "PROPIA",
         "edad": 29,
         "fecha_ingreso_empleo": "2003-06-01",
         "antiguedad_tc_meses": 8,
         "producto_pasivo_12_meses_antes": 8,
         "ingreso_mensual": 29000,
         "monto_linea_tc": 1604.22,
         "monto_saldo_deudor_prom": 359.11,
         "score_aprob_tc": 216,
         "nro_veces_abono_12m_antes": 0,
         "zona_geografica": "Lambayeque",
         "riesgos_sbs": 3,
         "nivel_educativo": "EDUCACION BASICA",
         "edad_binned": "joven",
         "_deepnote_index_column": 1509
        }
       ]
      },
      "text/plain": "      mora_60  dias_atraso_12_meses_antes situacion_casa  edad  \\\n1500        1                         245       FAMILIAR    43   \n1501        1                         238       FAMILIAR    40   \n1502        1                         238       FAMILIAR    40   \n1503        1                         219         PROPIA    39   \n1504        1                           4       FAMILIAR    24   \n...       ...                         ...            ...   ...   \n4995        1                           0       FAMILIAR    76   \n4996        1                           0       FAMILIAR    33   \n4997        1                           0       FAMILIAR    38   \n4998        1                           0         PROPIA    45   \n4999        1                           0         PROPIA    57   \n\n     fecha_ingreso_empleo  antiguedad_tc_meses  \\\n1500           2000-01-01                    7   \n1501           2005-01-01                   17   \n1502           2005-01-01                   17   \n1503           2004-04-01                   90   \n1504           2003-06-01                    0   \n...                   ...                  ...   \n4995           2000-01-01                   90   \n4996           2000-02-01                   44   \n4997           1992-09-01                  102   \n4998           1990-01-01                   87   \n4999           1983-03-01                   68   \n\n      producto_pasivo_12_meses_antes  ingreso_mensual  monto_linea_tc  \\\n1500                              12       29,422.000      40,603.970   \n1501                               0       10,000.000      25,526.760   \n1502                               0       10,000.000      25,526.760   \n1503                               7       15,000.000      14,906.780   \n1504                               1        3,876.000         769.450   \n...                              ...              ...             ...   \n4995                              12       30,000.000      58,083.420   \n4996                              12       30,000.000         339.980   \n4997                              12        8,500.000      72,685.200   \n4998                              12       30,000.000      32,161.050   \n4999                              12       16,500.000       3,583.960   \n\n      monto_saldo_deudor_prom  score_aprob_tc  nro_veces_abono_12m_antes  \\\n1500               13,571.590             214                          0   \n1501               25,526.760             185                          0   \n1502               25,526.760             185                          0   \n1503                    0.000             221                          0   \n1504               35,563.700             186                          0   \n...                       ...             ...                        ...   \n4995               19,548.240             225                          0   \n4996                    0.000             214                          0   \n4997               57,094.380             197                         12   \n4998               26,901.420             224                         12   \n4999                4,503.680             233                         12   \n\n     zona_geografica  riesgos_sbs nivel_educativo   edad_binned  \n1500            Lima            4     PROFESIONAL        adulto  \n1501            Lima            4     PROFESIONAL         joven  \n1502            Lima            4     PROFESIONAL         joven  \n1503            Lima            0     PROFESIONAL         joven  \n1504            Lima            2         TECNICO         joven  \n...              ...          ...             ...           ...  \n4995            Lima            0   SIN EDUCACION  adulto_mayor  \n4996           Tacna            0     PROFESIONAL         joven  \n4997           Piura            1     PROFESIONAL         joven  \n4998            Lima            0     PROFESIONAL        adulto  \n4999            Lima            0     PROFESIONAL        adulto  \n\n[3500 rows x 16 columns]",
      "text/html": "<div>\n<style scoped>\n    .dataframe tbody tr th:only-of-type {\n        vertical-align: middle;\n    }\n\n    .dataframe tbody tr th {\n        vertical-align: top;\n    }\n\n    .dataframe thead th {\n        text-align: right;\n    }\n</style>\n<table border=\"1\" class=\"dataframe\">\n  <thead>\n    <tr style=\"text-align: right;\">\n      <th></th>\n      <th>mora_60</th>\n      <th>dias_atraso_12_meses_antes</th>\n      <th>situacion_casa</th>\n      <th>edad</th>\n      <th>fecha_ingreso_empleo</th>\n      <th>antiguedad_tc_meses</th>\n      <th>producto_pasivo_12_meses_antes</th>\n      <th>ingreso_mensual</th>\n      <th>monto_linea_tc</th>\n      <th>monto_saldo_deudor_prom</th>\n      <th>score_aprob_tc</th>\n      <th>nro_veces_abono_12m_antes</th>\n      <th>zona_geografica</th>\n      <th>riesgos_sbs</th>\n      <th>nivel_educativo</th>\n      <th>edad_binned</th>\n    </tr>\n  </thead>\n  <tbody>\n    <tr>\n      <th>1500</th>\n      <td>1</td>\n      <td>245</td>\n      <td>FAMILIAR</td>\n      <td>43</td>\n      <td>2000-01-01</td>\n      <td>7</td>\n      <td>12</td>\n      <td>29,422.000</td>\n      <td>40,603.970</td>\n      <td>13,571.590</td>\n      <td>214</td>\n      <td>0</td>\n      <td>Lima</td>\n      <td>4</td>\n      <td>PROFESIONAL</td>\n      <td>adulto</td>\n    </tr>\n    <tr>\n      <th>1501</th>\n      <td>1</td>\n      <td>238</td>\n      <td>FAMILIAR</td>\n      <td>40</td>\n      <td>2005-01-01</td>\n      <td>17</td>\n      <td>0</td>\n      <td>10,000.000</td>\n      <td>25,526.760</td>\n      <td>25,526.760</td>\n      <td>185</td>\n      <td>0</td>\n      <td>Lima</td>\n      <td>4</td>\n      <td>PROFESIONAL</td>\n      <td>joven</td>\n    </tr>\n    <tr>\n      <th>1502</th>\n      <td>1</td>\n      <td>238</td>\n      <td>FAMILIAR</td>\n      <td>40</td>\n      <td>2005-01-01</td>\n      <td>17</td>\n      <td>0</td>\n      <td>10,000.000</td>\n      <td>25,526.760</td>\n      <td>25,526.760</td>\n      <td>185</td>\n      <td>0</td>\n      <td>Lima</td>\n      <td>4</td>\n      <td>PROFESIONAL</td>\n      <td>joven</td>\n    </tr>\n    <tr>\n      <th>1503</th>\n      <td>1</td>\n      <td>219</td>\n      <td>PROPIA</td>\n      <td>39</td>\n      <td>2004-04-01</td>\n      <td>90</td>\n      <td>7</td>\n      <td>15,000.000</td>\n      <td>14,906.780</td>\n      <td>0.000</td>\n      <td>221</td>\n      <td>0</td>\n      <td>Lima</td>\n      <td>0</td>\n      <td>PROFESIONAL</td>\n      <td>joven</td>\n    </tr>\n    <tr>\n      <th>1504</th>\n      <td>1</td>\n      <td>4</td>\n      <td>FAMILIAR</td>\n      <td>24</td>\n      <td>2003-06-01</td>\n      <td>0</td>\n      <td>1</td>\n      <td>3,876.000</td>\n      <td>769.450</td>\n      <td>35,563.700</td>\n      <td>186</td>\n      <td>0</td>\n      <td>Lima</td>\n      <td>2</td>\n      <td>TECNICO</td>\n      <td>joven</td>\n    </tr>\n    <tr>\n      <th>...</th>\n      <td>...</td>\n      <td>...</td>\n      <td>...</td>\n      <td>...</td>\n      <td>...</td>\n      <td>...</td>\n      <td>...</td>\n      <td>...</td>\n      <td>...</td>\n      <td>...</td>\n      <td>...</td>\n      <td>...</td>\n      <td>...</td>\n      <td>...</td>\n      <td>...</td>\n      <td>...</td>\n    </tr>\n    <tr>\n      <th>4995</th>\n      <td>1</td>\n      <td>0</td>\n      <td>FAMILIAR</td>\n      <td>76</td>\n      <td>2000-01-01</td>\n      <td>90</td>\n      <td>12</td>\n      <td>30,000.000</td>\n      <td>58,083.420</td>\n      <td>19,548.240</td>\n      <td>225</td>\n      <td>0</td>\n      <td>Lima</td>\n      <td>0</td>\n      <td>SIN EDUCACION</td>\n      <td>adulto_mayor</td>\n    </tr>\n    <tr>\n      <th>4996</th>\n      <td>1</td>\n      <td>0</td>\n      <td>FAMILIAR</td>\n      <td>33</td>\n      <td>2000-02-01</td>\n      <td>44</td>\n      <td>12</td>\n      <td>30,000.000</td>\n      <td>339.980</td>\n      <td>0.000</td>\n      <td>214</td>\n      <td>0</td>\n      <td>Tacna</td>\n      <td>0</td>\n      <td>PROFESIONAL</td>\n      <td>joven</td>\n    </tr>\n    <tr>\n      <th>4997</th>\n      <td>1</td>\n      <td>0</td>\n      <td>FAMILIAR</td>\n      <td>38</td>\n      <td>1992-09-01</td>\n      <td>102</td>\n      <td>12</td>\n      <td>8,500.000</td>\n      <td>72,685.200</td>\n      <td>57,094.380</td>\n      <td>197</td>\n      <td>12</td>\n      <td>Piura</td>\n      <td>1</td>\n      <td>PROFESIONAL</td>\n      <td>joven</td>\n    </tr>\n    <tr>\n      <th>4998</th>\n      <td>1</td>\n      <td>0</td>\n      <td>PROPIA</td>\n      <td>45</td>\n      <td>1990-01-01</td>\n      <td>87</td>\n      <td>12</td>\n      <td>30,000.000</td>\n      <td>32,161.050</td>\n      <td>26,901.420</td>\n      <td>224</td>\n      <td>12</td>\n      <td>Lima</td>\n      <td>0</td>\n      <td>PROFESIONAL</td>\n      <td>adulto</td>\n    </tr>\n    <tr>\n      <th>4999</th>\n      <td>1</td>\n      <td>0</td>\n      <td>PROPIA</td>\n      <td>57</td>\n      <td>1983-03-01</td>\n      <td>68</td>\n      <td>12</td>\n      <td>16,500.000</td>\n      <td>3,583.960</td>\n      <td>4,503.680</td>\n      <td>233</td>\n      <td>12</td>\n      <td>Lima</td>\n      <td>0</td>\n      <td>PROFESIONAL</td>\n      <td>adulto</td>\n    </tr>\n  </tbody>\n</table>\n<p>3500 rows × 16 columns</p>\n</div>"
     },
     "metadata": {}
    }
   ]
  },
  {
   "cell_type": "code",
   "source": "df_yes_mora.shape",
   "metadata": {
    "cell_id": "7b7d5ae7-d6a2-4203-902c-77513ff65fa2",
    "tags": [],
    "deepnote_to_be_reexecuted": false,
    "source_hash": "7719548a",
    "execution_start": 1647276633052,
    "execution_millis": 111,
    "deepnote_cell_type": "code",
    "deepnote_cell_height": 118.125,
    "deepnote_output_heights": [
     21.1875
    ]
   },
   "outputs": [
    {
     "output_type": "execute_result",
     "execution_count": 9,
     "data": {
      "text/plain": "(3500, 16)"
     },
     "metadata": {}
    }
   ],
   "execution_count": 9
  },
  {
   "cell_type": "code",
   "source": "df_yes_mora['situacion_casa'].value_counts()",
   "metadata": {
    "cell_id": "db31d14c-0e23-4dc0-a253-6cdc09bedde0",
    "tags": [],
    "deepnote_to_be_reexecuted": false,
    "source_hash": "ad4029af",
    "execution_start": 1647276633053,
    "execution_millis": 110,
    "deepnote_cell_type": "code",
    "deepnote_cell_height": 194.9375,
    "deepnote_output_heights": [
     98
    ]
   },
   "outputs": [
    {
     "output_type": "execute_result",
     "execution_count": 10,
     "data": {
      "text/plain": "FAMILIAR     2503\nPROPIA        922\nALQUILADA      38\nOTRAS          37\nName: situacion_casa, dtype: int64"
     },
     "metadata": {}
    }
   ],
   "execution_count": 10
  },
  {
   "cell_type": "code",
   "source": "df_yes_mora['situacion_casa'].value_counts().plot(kind = 'bar',\ncolor=['coral', 'darkslateblue', 'mediumseagreen', 'red'],\nalpha=0.6,)\n# podemos decir que los más morosos son las que pertecen \n# a una situación familiar",
   "metadata": {
    "cell_id": "d6cd3083-b0a0-4fe5-b30a-bc6727350c8e",
    "tags": [],
    "deepnote_to_be_reexecuted": false,
    "source_hash": "918be356",
    "execution_start": 1647276633054,
    "execution_millis": 819,
    "deepnote_cell_type": "code",
    "deepnote_cell_height": 519.078125,
    "deepnote_output_heights": [
     21.1875,
     298
    ]
   },
   "outputs": [
    {
     "output_type": "execute_result",
     "execution_count": 11,
     "data": {
      "text/plain": "<AxesSubplot:>"
     },
     "metadata": {}
    },
    {
     "data": {
      "text/plain": "<Figure size 432x288 with 1 Axes>",
      "image/png": "[encoded data removed]"
     },
     "metadata": {
      "needs_background": "light",
      "image/png": {
       "width": 381,
       "height": 296
      }
     },
     "output_type": "display_data"
    }
   ],
   "execution_count": 11
  },
  {
   "cell_type": "code",
   "source": "df_yes_mora['nivel_educativo'].value_counts().plot(kind = 'bar',\ncolor=['coral', 'darkslateblue', 'mediumseagreen', 'red', 'black'],\nalpha=0.6)\n# podemos decir que los más morosos son las que pertecen \n# a un nivel educativo professional y técnico",
   "metadata": {
    "cell_id": "309a7ae8-9fe7-44ca-afa6-86a232897251",
    "tags": [],
    "deepnote_to_be_reexecuted": false,
    "source_hash": "4e84922",
    "execution_start": 1647276633954,
    "execution_millis": 282,
    "deepnote_cell_type": "code",
    "deepnote_cell_height": 561.0625,
    "deepnote_output_heights": [
     21.1875,
     340
    ]
   },
   "outputs": [
    {
     "output_type": "execute_result",
     "execution_count": 12,
     "data": {
      "text/plain": "<AxesSubplot:>"
     },
     "metadata": {}
    },
    {
     "data": {
      "text/plain": "<Figure size 432x288 with 1 Axes>",
      "image/png": "[encoded data removed]"
     },
     "metadata": {
      "needs_background": "light",
      "image/png": {
       "width": 381,
       "height": 338
      }
     },
     "output_type": "display_data"
    }
   ],
   "execution_count": 12
  },
  {
   "cell_type": "code",
   "source": "df_yes_mora['ingreso_mensual'].plot(kind = 'hist')\n# las personas que tienen mora son las que tienen un suelo por debajo\n# de los 2500 pero a medida que ganan más ya no tienen más mora",
   "metadata": {
    "cell_id": "75397f2d-7bcf-4ac4-b1ea-7e18ac93eba3",
    "tags": [],
    "deepnote_to_be_reexecuted": false,
    "source_hash": "229ac8a",
    "execution_start": 1647276634280,
    "execution_millis": 354,
    "deepnote_cell_type": "code",
    "deepnote_cell_height": 439.078125,
    "deepnote_output_heights": [
     21.1875,
     254
    ]
   },
   "outputs": [
    {
     "output_type": "execute_result",
     "execution_count": 13,
     "data": {
      "text/plain": "<AxesSubplot:ylabel='Frequency'>"
     },
     "metadata": {}
    },
    {
     "data": {
      "text/plain": "<Figure size 432x288 with 1 Axes>",
      "image/png": "[encoded data removed]"
     },
     "metadata": {
      "needs_background": "light",
      "image/png": {
       "width": 395,
       "height": 252
      }
     },
     "output_type": "display_data"
    }
   ],
   "execution_count": 13
  },
  {
   "cell_type": "code",
   "source": "# personas con más tiempo tienen o no morsidad\ndf_yes_mora['antiguedad_tc_meses'].plot(kind = 'kde')\n# los que tienen menos tiempo tienden a tener mayor morosidad",
   "metadata": {
    "cell_id": "5595903b-6147-4c3c-80d5-451182e19ea9",
    "tags": [],
    "deepnote_to_be_reexecuted": false,
    "source_hash": "38c36b94",
    "execution_start": 1647276634639,
    "execution_millis": 525,
    "deepnote_cell_type": "code",
    "deepnote_cell_height": 435.0625,
    "deepnote_output_heights": [
     21.1875,
     249.984375
    ]
   },
   "outputs": [
    {
     "output_type": "execute_result",
     "execution_count": 14,
     "data": {
      "text/plain": "<AxesSubplot:ylabel='Density'>"
     },
     "metadata": {}
    },
    {
     "data": {
      "text/plain": "<Figure size 432x288 with 1 Axes>",
      "image/png": "[encoded data removed]"
     },
     "metadata": {
      "needs_background": "light",
      "image/png": {
       "width": 398,
       "height": 248
      }
     },
     "output_type": "display_data"
    }
   ],
   "execution_count": 14
  },
  {
   "cell_type": "code",
   "source": "df_yes_mora['monto_linea_tc'].plot(kind='hist')",
   "metadata": {
    "cell_id": "359c45b3-7589-4102-a68e-b25728db77e4",
    "tags": [],
    "deepnote_to_be_reexecuted": false,
    "source_hash": "2789d72b",
    "execution_start": 1647276635231,
    "execution_millis": 327,
    "deepnote_cell_type": "code",
    "deepnote_cell_height": 399.0625,
    "deepnote_output_heights": [
     21.1875,
     249.984375
    ]
   },
   "outputs": [
    {
     "output_type": "execute_result",
     "execution_count": 15,
     "data": {
      "text/plain": "<AxesSubplot:ylabel='Frequency'>"
     },
     "metadata": {}
    },
    {
     "data": {
      "text/plain": "<Figure size 432x288 with 1 Axes>",
      "image/png": "[encoded data removed]"
     },
     "metadata": {
      "needs_background": "light",
      "image/png": {
       "width": 395,
       "height": 248
      }
     },
     "output_type": "display_data"
    }
   ],
   "execution_count": 15
  },
  {
   "cell_type": "code",
   "source": "df_yes_mora['edad_binned'].value_counts().to_frame()",
   "metadata": {
    "cell_id": "ef4f1c11-1234-4af4-a298-399f78ee2c07",
    "tags": [],
    "deepnote_to_be_reexecuted": false,
    "source_hash": "c3177788",
    "execution_start": 1647276721203,
    "execution_millis": 26,
    "deepnote_cell_type": "code",
    "deepnote_cell_height": 310.921875,
    "deepnote_output_heights": [
     78.796875
    ]
   },
   "outputs": [
    {
     "output_type": "execute_result",
     "execution_count": 19,
     "data": {
      "application/vnd.deepnote.dataframe.v3+json": {
       "column_count": 1,
       "row_count": 3,
       "columns": [
        {
         "name": "edad_binned",
         "dtype": "int64",
         "stats": {
          "unique_count": 3,
          "nan_count": 0,
          "min": "30",
          "max": "2650",
          "histogram": [
           {
            "bin_start": 30,
            "bin_end": 292,
            "count": 1
           },
           {
            "bin_start": 292,
            "bin_end": 554,
            "count": 0
           },
           {
            "bin_start": 554,
            "bin_end": 816,
            "count": 0
           },
           {
            "bin_start": 816,
            "bin_end": 1078,
            "count": 1
           },
           {
            "bin_start": 1078,
            "bin_end": 1340,
            "count": 0
           },
           {
            "bin_start": 1340,
            "bin_end": 1602,
            "count": 0
           },
           {
            "bin_start": 1602,
            "bin_end": 1864,
            "count": 0
           },
           {
            "bin_start": 1864,
            "bin_end": 2126,
            "count": 0
           },
           {
            "bin_start": 2126,
            "bin_end": 2388,
            "count": 0
           },
           {
            "bin_start": 2388,
            "bin_end": 2650,
            "count": 1
           }
          ]
         }
        },
        {
         "name": "_deepnote_index_column",
         "dtype": "object"
        }
       ],
       "rows": [
        {
         "edad_binned": 2650,
         "_deepnote_index_column": "joven"
        },
        {
         "edad_binned": 820,
         "_deepnote_index_column": "adulto"
        },
        {
         "edad_binned": 30,
         "_deepnote_index_column": "adulto_mayor"
        }
       ]
      },
      "text/plain": "              edad_binned\njoven                2650\nadulto                820\nadulto_mayor           30",
      "text/html": "<div>\n<style scoped>\n    .dataframe tbody tr th:only-of-type {\n        vertical-align: middle;\n    }\n\n    .dataframe tbody tr th {\n        vertical-align: top;\n    }\n\n    .dataframe thead th {\n        text-align: right;\n    }\n</style>\n<table border=\"1\" class=\"dataframe\">\n  <thead>\n    <tr style=\"text-align: right;\">\n      <th></th>\n      <th>edad_binned</th>\n    </tr>\n  </thead>\n  <tbody>\n    <tr>\n      <th>joven</th>\n      <td>2650</td>\n    </tr>\n    <tr>\n      <th>adulto</th>\n      <td>820</td>\n    </tr>\n    <tr>\n      <th>adulto_mayor</th>\n      <td>30</td>\n    </tr>\n  </tbody>\n</table>\n</div>"
     },
     "metadata": {}
    }
   ],
   "execution_count": 19
  },
  {
   "cell_type": "code",
   "source": "df_yes_mora.groupby('edad_binned').mean()",
   "metadata": {
    "cell_id": "9289ef99-d663-4272-b0bc-61644b15da42",
    "tags": [],
    "deepnote_to_be_reexecuted": false,
    "source_hash": "e36144e6",
    "execution_start": 1647276931353,
    "execution_millis": 15,
    "deepnote_cell_type": "code",
    "deepnote_cell_height": 329.4375
   },
   "outputs": [
    {
     "output_type": "execute_result",
     "execution_count": 21,
     "data": {
      "application/vnd.deepnote.dataframe.v3+json": {
       "column_count": 11,
       "row_count": 3,
       "columns": [
        {
         "name": "mora_60",
         "dtype": "float64",
         "stats": {
          "unique_count": 1,
          "nan_count": 0,
          "min": "1.0",
          "max": "1.0",
          "histogram": [
           {
            "bin_start": 0.5,
            "bin_end": 0.6,
            "count": 0
           },
           {
            "bin_start": 0.6,
            "bin_end": 0.7,
            "count": 0
           },
           {
            "bin_start": 0.7,
            "bin_end": 0.8,
            "count": 0
           },
           {
            "bin_start": 0.8,
            "bin_end": 0.9,
            "count": 0
           },
           {
            "bin_start": 0.9,
            "bin_end": 1,
            "count": 0
           },
           {
            "bin_start": 1,
            "bin_end": 1.1,
            "count": 3
           },
           {
            "bin_start": 1.1,
            "bin_end": 1.2000000000000002,
            "count": 0
           },
           {
            "bin_start": 1.2000000000000002,
            "bin_end": 1.3,
            "count": 0
           },
           {
            "bin_start": 1.3,
            "bin_end": 1.4,
            "count": 0
           },
           {
            "bin_start": 1.4,
            "bin_end": 1.5,
            "count": 0
           }
          ]
         }
        },
        {
         "name": "dias_atraso_12_meses_antes",
         "dtype": "float64",
         "stats": {
          "unique_count": 3,
          "nan_count": 0,
          "min": "4.233333333333333",
          "max": "5.741463414634146",
          "histogram": [
           {
            "bin_start": 4.233333333333333,
            "bin_end": 4.384146341463414,
            "count": 1
           },
           {
            "bin_start": 4.384146341463414,
            "bin_end": 4.534959349593496,
            "count": 0
           },
           {
            "bin_start": 4.534959349593496,
            "bin_end": 4.685772357723577,
            "count": 0
           },
           {
            "bin_start": 4.685772357723577,
            "bin_end": 4.836585365853659,
            "count": 0
           },
           {
            "bin_start": 4.836585365853659,
            "bin_end": 4.98739837398374,
            "count": 0
           },
           {
            "bin_start": 4.98739837398374,
            "bin_end": 5.138211382113822,
            "count": 1
           },
           {
            "bin_start": 5.138211382113822,
            "bin_end": 5.2890243902439025,
            "count": 0
           },
           {
            "bin_start": 5.2890243902439025,
            "bin_end": 5.439837398373983,
            "count": 0
           },
           {
            "bin_start": 5.439837398373983,
            "bin_end": 5.590650406504065,
            "count": 0
           },
           {
            "bin_start": 5.590650406504065,
            "bin_end": 5.741463414634146,
            "count": 1
           }
          ]
         }
        },
        {
         "name": "edad",
         "dtype": "float64",
         "stats": {
          "unique_count": 3,
          "nan_count": 0,
          "min": "31.26566037735849",
          "max": "67.13333333333334",
          "histogram": [
           {
            "bin_start": 31.26566037735849,
            "bin_end": 34.852427672955976,
            "count": 1
           },
           {
            "bin_start": 34.852427672955976,
            "bin_end": 38.43919496855346,
            "count": 0
           },
           {
            "bin_start": 38.43919496855346,
            "bin_end": 42.02596226415095,
            "count": 0
           },
           {
            "bin_start": 42.02596226415095,
            "bin_end": 45.61272955974843,
            "count": 0
           },
           {
            "bin_start": 45.61272955974843,
            "bin_end": 49.19949685534591,
            "count": 1
           },
           {
            "bin_start": 49.19949685534591,
            "bin_end": 52.786264150943396,
            "count": 0
           },
           {
            "bin_start": 52.786264150943396,
            "bin_end": 56.373031446540885,
            "count": 0
           },
           {
            "bin_start": 56.373031446540885,
            "bin_end": 59.959798742138375,
            "count": 0
           },
           {
            "bin_start": 59.959798742138375,
            "bin_end": 63.54656603773586,
            "count": 0
           },
           {
            "bin_start": 63.54656603773586,
            "bin_end": 67.13333333333334,
            "count": 1
           }
          ]
         }
        },
        {
         "name": "antiguedad_tc_meses",
         "dtype": "float64",
         "stats": {
          "unique_count": 3,
          "nan_count": 0,
          "min": "16.8588679245283",
          "max": "29.01341463414634",
          "histogram": [
           {
            "bin_start": 16.8588679245283,
            "bin_end": 18.074322595490106,
            "count": 1
           },
           {
            "bin_start": 18.074322595490106,
            "bin_end": 19.28977726645191,
            "count": 0
           },
           {
            "bin_start": 19.28977726645191,
            "bin_end": 20.50523193741371,
            "count": 0
           },
           {
            "bin_start": 20.50523193741371,
            "bin_end": 21.720686608375516,
            "count": 0
           },
           {
            "bin_start": 21.720686608375516,
            "bin_end": 22.93614127933732,
            "count": 0
           },
           {
            "bin_start": 22.93614127933732,
            "bin_end": 24.151595950299125,
            "count": 0
           },
           {
            "bin_start": 24.151595950299125,
            "bin_end": 25.36705062126093,
            "count": 0
           },
           {
            "bin_start": 25.36705062126093,
            "bin_end": 26.582505292222734,
            "count": 0
           },
           {
            "bin_start": 26.582505292222734,
            "bin_end": 27.79795996318454,
            "count": 0
           },
           {
            "bin_start": 27.79795996318454,
            "bin_end": 29.01341463414634,
            "count": 2
           }
          ]
         }
        },
        {
         "name": "producto_pasivo_12_meses_antes",
         "dtype": "float64",
         "stats": {
          "unique_count": 3,
          "nan_count": 0,
          "min": "9.930487804878048",
          "max": "10.469811320754717",
          "histogram": [
           {
            "bin_start": 9.930487804878048,
            "bin_end": 9.984420156465715,
            "count": 1
           },
           {
            "bin_start": 9.984420156465715,
            "bin_end": 10.038352508053382,
            "count": 0
           },
           {
            "bin_start": 10.038352508053382,
            "bin_end": 10.09228485964105,
            "count": 0
           },
           {
            "bin_start": 10.09228485964105,
            "bin_end": 10.146217211228716,
            "count": 0
           },
           {
            "bin_start": 10.146217211228716,
            "bin_end": 10.200149562816382,
            "count": 0
           },
           {
            "bin_start": 10.200149562816382,
            "bin_end": 10.254081914404049,
            "count": 0
           },
           {
            "bin_start": 10.254081914404049,
            "bin_end": 10.308014265991716,
            "count": 0
           },
           {
            "bin_start": 10.308014265991716,
            "bin_end": 10.361946617579383,
            "count": 0
           },
           {
            "bin_start": 10.361946617579383,
            "bin_end": 10.41587896916705,
            "count": 1
           },
           {
            "bin_start": 10.41587896916705,
            "bin_end": 10.469811320754717,
            "count": 1
           }
          ]
         }
        },
        {
         "name": "ingreso_mensual",
         "dtype": "float64",
         "stats": {
          "unique_count": 3,
          "nan_count": 0,
          "min": "3292.9704226415092",
          "max": "9077.098999999998",
          "histogram": [
           {
            "bin_start": 3292.9704226415092,
            "bin_end": 3871.3832803773585,
            "count": 1
           },
           {
            "bin_start": 3871.3832803773585,
            "bin_end": 4449.796138113207,
            "count": 0
           },
           {
            "bin_start": 4449.796138113207,
            "bin_end": 5028.208995849056,
            "count": 0
           },
           {
            "bin_start": 5028.208995849056,
            "bin_end": 5606.621853584906,
            "count": 1
           },
           {
            "bin_start": 5606.621853584906,
            "bin_end": 6185.034711320754,
            "count": 0
           },
           {
            "bin_start": 6185.034711320754,
            "bin_end": 6763.447569056603,
            "count": 0
           },
           {
            "bin_start": 6763.447569056603,
            "bin_end": 7341.860426792453,
            "count": 0
           },
           {
            "bin_start": 7341.860426792453,
            "bin_end": 7920.273284528301,
            "count": 0
           },
           {
            "bin_start": 7920.273284528301,
            "bin_end": 8498.68614226415,
            "count": 0
           },
           {
            "bin_start": 8498.68614226415,
            "bin_end": 9077.098999999998,
            "count": 1
           }
          ]
         }
        },
        {
         "name": "monto_linea_tc",
         "dtype": "float64",
         "stats": {
          "unique_count": 3,
          "nan_count": 0,
          "min": "6242.625256603774",
          "max": "15203.428333333333",
          "histogram": [
           {
            "bin_start": 6242.625256603774,
            "bin_end": 7138.70556427673,
            "count": 1
           },
           {
            "bin_start": 7138.70556427673,
            "bin_end": 8034.785871949685,
            "count": 0
           },
           {
            "bin_start": 8034.785871949685,
            "bin_end": 8930.86617962264,
            "count": 0
           },
           {
            "bin_start": 8930.86617962264,
            "bin_end": 9826.946487295598,
            "count": 0
           },
           {
            "bin_start": 9826.946487295598,
            "bin_end": 10723.026794968555,
            "count": 0
           },
           {
            "bin_start": 10723.026794968555,
            "bin_end": 11619.107102641508,
            "count": 0
           },
           {
            "bin_start": 11619.107102641508,
            "bin_end": 12515.187410314466,
            "count": 0
           },
           {
            "bin_start": 12515.187410314466,
            "bin_end": 13411.267717987423,
            "count": 1
           },
           {
            "bin_start": 13411.267717987423,
            "bin_end": 14307.348025660378,
            "count": 0
           },
           {
            "bin_start": 14307.348025660378,
            "bin_end": 15203.428333333333,
            "count": 1
           }
          ]
         }
        },
        {
         "name": "monto_saldo_deudor_prom",
         "dtype": "float64",
         "stats": {
          "unique_count": 3,
          "nan_count": 0,
          "min": "5298.219513207547",
          "max": "7091.743621951219",
          "histogram": [
           {
            "bin_start": 5298.219513207547,
            "bin_end": 5477.571924081914,
            "count": 1
           },
           {
            "bin_start": 5477.571924081914,
            "bin_end": 5656.924334956281,
            "count": 0
           },
           {
            "bin_start": 5656.924334956281,
            "bin_end": 5836.276745830648,
            "count": 0
           },
           {
            "bin_start": 5836.276745830648,
            "bin_end": 6015.629156705016,
            "count": 0
           },
           {
            "bin_start": 6015.629156705016,
            "bin_end": 6194.981567579383,
            "count": 1
           },
           {
            "bin_start": 6194.981567579383,
            "bin_end": 6374.33397845375,
            "count": 0
           },
           {
            "bin_start": 6374.33397845375,
            "bin_end": 6553.686389328117,
            "count": 0
           },
           {
            "bin_start": 6553.686389328117,
            "bin_end": 6733.038800202485,
            "count": 0
           },
           {
            "bin_start": 6733.038800202485,
            "bin_end": 6912.391211076852,
            "count": 0
           },
           {
            "bin_start": 6912.391211076852,
            "bin_end": 7091.743621951219,
            "count": 1
           }
          ]
         }
        },
        {
         "name": "score_aprob_tc",
         "dtype": "float64",
         "stats": {
          "unique_count": 3,
          "nan_count": 0,
          "min": "191.05245283018868",
          "max": "217.03333333333333",
          "histogram": [
           {
            "bin_start": 191.05245283018868,
            "bin_end": 193.65054088050314,
            "count": 1
           },
           {
            "bin_start": 193.65054088050314,
            "bin_end": 196.2486289308176,
            "count": 0
           },
           {
            "bin_start": 196.2486289308176,
            "bin_end": 198.8467169811321,
            "count": 0
           },
           {
            "bin_start": 198.8467169811321,
            "bin_end": 201.44480503144655,
            "count": 0
           },
           {
            "bin_start": 201.44480503144655,
            "bin_end": 204.042893081761,
            "count": 1
           },
           {
            "bin_start": 204.042893081761,
            "bin_end": 206.64098113207547,
            "count": 0
           },
           {
            "bin_start": 206.64098113207547,
            "bin_end": 209.23906918238993,
            "count": 0
           },
           {
            "bin_start": 209.23906918238993,
            "bin_end": 211.8371572327044,
            "count": 0
           },
           {
            "bin_start": 211.8371572327044,
            "bin_end": 214.43524528301887,
            "count": 0
           },
           {
            "bin_start": 214.43524528301887,
            "bin_end": 217.03333333333333,
            "count": 1
           }
          ]
         }
        },
        {
         "name": "nro_veces_abono_12m_antes",
         "dtype": "float64",
         "stats": {
          "unique_count": 3,
          "nan_count": 0,
          "min": "5.2",
          "max": "8.043018867924529",
          "histogram": [
           {
            "bin_start": 5.2,
            "bin_end": 5.484301886792453,
            "count": 1
           },
           {
            "bin_start": 5.484301886792453,
            "bin_end": 5.768603773584906,
            "count": 0
           },
           {
            "bin_start": 5.768603773584906,
            "bin_end": 6.052905660377359,
            "count": 0
           },
           {
            "bin_start": 6.052905660377359,
            "bin_end": 6.337207547169811,
            "count": 0
           },
           {
            "bin_start": 6.337207547169811,
            "bin_end": 6.621509433962265,
            "count": 0
           },
           {
            "bin_start": 6.621509433962265,
            "bin_end": 6.905811320754717,
            "count": 0
           },
           {
            "bin_start": 6.905811320754717,
            "bin_end": 7.19011320754717,
            "count": 1
           },
           {
            "bin_start": 7.19011320754717,
            "bin_end": 7.474415094339623,
            "count": 0
           },
           {
            "bin_start": 7.474415094339623,
            "bin_end": 7.758716981132076,
            "count": 0
           },
           {
            "bin_start": 7.758716981132076,
            "bin_end": 8.043018867924529,
            "count": 1
           }
          ]
         }
        },
        {
         "name": "riesgos_sbs",
         "dtype": "float64",
         "stats": {
          "unique_count": 3,
          "nan_count": 0,
          "min": "0.5333333333333333",
          "max": "0.6353658536585366",
          "histogram": [
           {
            "bin_start": 0.5333333333333333,
            "bin_end": 0.5435365853658537,
            "count": 1
           },
           {
            "bin_start": 0.5435365853658537,
            "bin_end": 0.553739837398374,
            "count": 0
           },
           {
            "bin_start": 0.553739837398374,
            "bin_end": 0.5639430894308943,
            "count": 0
           },
           {
            "bin_start": 0.5639430894308943,
            "bin_end": 0.5741463414634146,
            "count": 0
           },
           {
            "bin_start": 0.5741463414634146,
            "bin_end": 0.584349593495935,
            "count": 0
           },
           {
            "bin_start": 0.584349593495935,
            "bin_end": 0.5945528455284553,
            "count": 0
           },
           {
            "bin_start": 0.5945528455284553,
            "bin_end": 0.6047560975609756,
            "count": 0
           },
           {
            "bin_start": 0.6047560975609756,
            "bin_end": 0.614959349593496,
            "count": 1
           },
           {
            "bin_start": 0.614959349593496,
            "bin_end": 0.6251626016260162,
            "count": 0
           },
           {
            "bin_start": 0.6251626016260162,
            "bin_end": 0.6353658536585366,
            "count": 1
           }
          ]
         }
        },
        {
         "name": "_deepnote_index_column",
         "dtype": "object"
        }
       ],
       "rows": [
        {
         "mora_60": 1,
         "dias_atraso_12_meses_antes": 5.741463414634146,
         "edad": 48.81585365853658,
         "antiguedad_tc_meses": 29.01341463414634,
         "producto_pasivo_12_meses_antes": 9.930487804878048,
         "ingreso_mensual": 5279.942048780488,
         "monto_linea_tc": 12918.09006097561,
         "monto_saldo_deudor_prom": 7091.743621951219,
         "score_aprob_tc": 202.24268292682927,
         "nro_veces_abono_12m_antes": 6.93780487804878,
         "riesgos_sbs": 0.6353658536585366,
         "_deepnote_index_column": "adulto"
        },
        {
         "mora_60": 1,
         "dias_atraso_12_meses_antes": 4.233333333333333,
         "edad": 67.13333333333334,
         "antiguedad_tc_meses": 28.766666666666666,
         "producto_pasivo_12_meses_antes": 10.366666666666667,
         "ingreso_mensual": 9077.098999999998,
         "monto_linea_tc": 15203.428333333333,
         "monto_saldo_deudor_prom": 6129.107000000001,
         "score_aprob_tc": 217.03333333333333,
         "nro_veces_abono_12m_antes": 5.2,
         "riesgos_sbs": 0.5333333333333333,
         "_deepnote_index_column": "adulto_mayor"
        },
        {
         "mora_60": 1,
         "dias_atraso_12_meses_antes": 5.033962264150944,
         "edad": 31.26566037735849,
         "antiguedad_tc_meses": 16.8588679245283,
         "producto_pasivo_12_meses_antes": 10.469811320754717,
         "ingreso_mensual": 3292.9704226415092,
         "monto_linea_tc": 6242.625256603774,
         "monto_saldo_deudor_prom": 5298.219513207547,
         "score_aprob_tc": 191.05245283018868,
         "nro_veces_abono_12m_antes": 8.043018867924529,
         "riesgos_sbs": 0.6128301886792453,
         "_deepnote_index_column": "joven"
        }
       ]
      },
      "text/plain": "              mora_60  dias_atraso_12_meses_antes   edad  antiguedad_tc_meses  \\\nedad_binned                                                                     \nadulto          1.000                       5.741 48.816               29.013   \nadulto_mayor    1.000                       4.233 67.133               28.767   \njoven           1.000                       5.034 31.266               16.859   \n\n              producto_pasivo_12_meses_antes  ingreso_mensual  monto_linea_tc  \\\nedad_binned                                                                     \nadulto                                 9.930        5,279.942      12,918.090   \nadulto_mayor                          10.367        9,077.099      15,203.428   \njoven                                 10.470        3,292.970       6,242.625   \n\n              monto_saldo_deudor_prom  score_aprob_tc  \\\nedad_binned                                             \nadulto                      7,091.744         202.243   \nadulto_mayor                6,129.107         217.033   \njoven                       5,298.220         191.052   \n\n              nro_veces_abono_12m_antes  riesgos_sbs  \nedad_binned                                           \nadulto                            6.938        0.635  \nadulto_mayor                      5.200        0.533  \njoven                             8.043        0.613  ",
      "text/html": "<div>\n<style scoped>\n    .dataframe tbody tr th:only-of-type {\n        vertical-align: middle;\n    }\n\n    .dataframe tbody tr th {\n        vertical-align: top;\n    }\n\n    .dataframe thead th {\n        text-align: right;\n    }\n</style>\n<table border=\"1\" class=\"dataframe\">\n  <thead>\n    <tr style=\"text-align: right;\">\n      <th></th>\n      <th>mora_60</th>\n      <th>dias_atraso_12_meses_antes</th>\n      <th>edad</th>\n      <th>antiguedad_tc_meses</th>\n      <th>producto_pasivo_12_meses_antes</th>\n      <th>ingreso_mensual</th>\n      <th>monto_linea_tc</th>\n      <th>monto_saldo_deudor_prom</th>\n      <th>score_aprob_tc</th>\n      <th>nro_veces_abono_12m_antes</th>\n      <th>riesgos_sbs</th>\n    </tr>\n    <tr>\n      <th>edad_binned</th>\n      <th></th>\n      <th></th>\n      <th></th>\n      <th></th>\n      <th></th>\n      <th></th>\n      <th></th>\n      <th></th>\n      <th></th>\n      <th></th>\n      <th></th>\n    </tr>\n  </thead>\n  <tbody>\n    <tr>\n      <th>adulto</th>\n      <td>1.000</td>\n      <td>5.741</td>\n      <td>48.816</td>\n      <td>29.013</td>\n      <td>9.930</td>\n      <td>5,279.942</td>\n      <td>12,918.090</td>\n      <td>7,091.744</td>\n      <td>202.243</td>\n      <td>6.938</td>\n      <td>0.635</td>\n    </tr>\n    <tr>\n      <th>adulto_mayor</th>\n      <td>1.000</td>\n      <td>4.233</td>\n      <td>67.133</td>\n      <td>28.767</td>\n      <td>10.367</td>\n      <td>9,077.099</td>\n      <td>15,203.428</td>\n      <td>6,129.107</td>\n      <td>217.033</td>\n      <td>5.200</td>\n      <td>0.533</td>\n    </tr>\n    <tr>\n      <th>joven</th>\n      <td>1.000</td>\n      <td>5.034</td>\n      <td>31.266</td>\n      <td>16.859</td>\n      <td>10.470</td>\n      <td>3,292.970</td>\n      <td>6,242.625</td>\n      <td>5,298.220</td>\n      <td>191.052</td>\n      <td>8.043</td>\n      <td>0.613</td>\n    </tr>\n  </tbody>\n</table>\n</div>"
     },
     "metadata": {}
    }
   ],
   "execution_count": 21
  },
  {
   "cell_type": "markdown",
   "source": "Podemos deducir lo siguiente\n1. Los jóvenes tienden a tener más mora\n2. Lo jóvenes tienen mayor número de meses abonados en su trabajo pero gracias a ello nostros nos confiamos a dar un monto de linea de crédito pero su saldo deudor está por el mismo monto que su monto de linea de crédito y su ingreso mensual es de 3000 soles\n3. Todos tienen un mismo días de atraso",
   "metadata": {
    "cell_id": "ad6fb165-e461-4d0e-a3ec-081916e825ea",
    "tags": [],
    "deepnote_cell_type": "markdown",
    "deepnote_cell_height": 198.390625
   },
   "outputs": [],
   "execution_count": null
  },
  {
   "cell_type": "code",
   "source": "df_yes_mora",
   "metadata": {
    "cell_id": "3a5c7e6c-5af0-4e48-9d66-451d3dc840aa",
    "tags": [],
    "deepnote_to_be_reexecuted": true,
    "source_hash": "f278a6ef",
    "execution_start": 1647270268529,
    "execution_millis": 66,
    "deepnote_cell_type": "code",
    "deepnote_cell_height": 616.40625
   },
   "outputs": [
    {
     "output_type": "execute_result",
     "execution_count": 17,
     "data": {
      "application/vnd.deepnote.dataframe.v3+json": {
       "column_count": 16,
       "row_count": 3500,
       "columns": [
        {
         "name": "mora_60",
         "dtype": "int64",
         "stats": {
          "unique_count": 1,
          "nan_count": 0,
          "min": "1",
          "max": "1",
          "histogram": [
           {
            "bin_start": 0.5,
            "bin_end": 0.6,
            "count": 0
           },
           {
            "bin_start": 0.6,
            "bin_end": 0.7,
            "count": 0
           },
           {
            "bin_start": 0.7,
            "bin_end": 0.8,
            "count": 0
           },
           {
            "bin_start": 0.8,
            "bin_end": 0.9,
            "count": 0
           },
           {
            "bin_start": 0.9,
            "bin_end": 1,
            "count": 0
           },
           {
            "bin_start": 1,
            "bin_end": 1.1,
            "count": 3500
           },
           {
            "bin_start": 1.1,
            "bin_end": 1.2000000000000002,
            "count": 0
           },
           {
            "bin_start": 1.2000000000000002,
            "bin_end": 1.3,
            "count": 0
           },
           {
            "bin_start": 1.3,
            "bin_end": 1.4,
            "count": 0
           },
           {
            "bin_start": 1.4,
            "bin_end": 1.5,
            "count": 0
           }
          ]
         }
        },
        {
         "name": "dias_atraso_12_meses_antes",
         "dtype": "int64",
         "stats": {
          "unique_count": 62,
          "nan_count": 0,
          "min": "0",
          "max": "245",
          "histogram": [
           {
            "bin_start": 0,
            "bin_end": 24.5,
            "count": 3256
           },
           {
            "bin_start": 24.5,
            "bin_end": 49,
            "count": 189
           },
           {
            "bin_start": 49,
            "bin_end": 73.5,
            "count": 40
           },
           {
            "bin_start": 73.5,
            "bin_end": 98,
            "count": 5
           },
           {
            "bin_start": 98,
            "bin_end": 122.5,
            "count": 3
           },
           {
            "bin_start": 122.5,
            "bin_end": 147,
            "count": 0
           },
           {
            "bin_start": 147,
            "bin_end": 171.5,
            "count": 0
           },
           {
            "bin_start": 171.5,
            "bin_end": 196,
            "count": 0
           },
           {
            "bin_start": 196,
            "bin_end": 220.5,
            "count": 2
           },
           {
            "bin_start": 220.5,
            "bin_end": 245,
            "count": 5
           }
          ]
         }
        },
        {
         "name": "situacion_casa",
         "dtype": "object",
         "stats": {
          "unique_count": 4,
          "nan_count": 0,
          "categories": [
           {
            "name": "FAMILIAR",
            "count": 2503
           },
           {
            "name": "PROPIA",
            "count": 922
           },
           {
            "name": "2 others",
            "count": 75
           }
          ]
         }
        },
        {
         "name": "edad",
         "dtype": "int64",
         "stats": {
          "unique_count": 55,
          "nan_count": 0,
          "min": "20",
          "max": "85",
          "histogram": [
           {
            "bin_start": 20,
            "bin_end": 26.5,
            "count": 568
           },
           {
            "bin_start": 26.5,
            "bin_end": 33,
            "count": 985
           },
           {
            "bin_start": 33,
            "bin_end": 39.5,
            "count": 903
           },
           {
            "bin_start": 39.5,
            "bin_end": 46,
            "count": 468
           },
           {
            "bin_start": 46,
            "bin_end": 52.5,
            "count": 347
           },
           {
            "bin_start": 52.5,
            "bin_end": 59,
            "count": 150
           },
           {
            "bin_start": 59,
            "bin_end": 65.5,
            "count": 67
           },
           {
            "bin_start": 65.5,
            "bin_end": 72,
            "count": 8
           },
           {
            "bin_start": 72,
            "bin_end": 78.5,
            "count": 2
           },
           {
            "bin_start": 78.5,
            "bin_end": 85,
            "count": 2
           }
          ]
         }
        },
        {
         "name": "fecha_ingreso_empleo",
         "dtype": "object",
         "stats": {
          "unique_count": 758,
          "nan_count": 0,
          "categories": [
           {
            "name": "2000-01-01",
            "count": 88
           },
           {
            "name": "2005-01-01",
            "count": 58
           },
           {
            "name": "756 others",
            "count": 3354
           }
          ]
         }
        },
        {
         "name": "antiguedad_tc_meses",
         "dtype": "int64",
         "stats": {
          "unique_count": 123,
          "nan_count": 0,
          "min": "0",
          "max": "130",
          "histogram": [
           {
            "bin_start": 0,
            "bin_end": 13,
            "count": 2038
           },
           {
            "bin_start": 13,
            "bin_end": 26,
            "count": 531
           },
           {
            "bin_start": 26,
            "bin_end": 39,
            "count": 272
           },
           {
            "bin_start": 39,
            "bin_end": 52,
            "count": 200
           },
           {
            "bin_start": 52,
            "bin_end": 65,
            "count": 106
           },
           {
            "bin_start": 65,
            "bin_end": 78,
            "count": 73
           },
           {
            "bin_start": 78,
            "bin_end": 91,
            "count": 134
           },
           {
            "bin_start": 91,
            "bin_end": 104,
            "count": 90
           },
           {
            "bin_start": 104,
            "bin_end": 117,
            "count": 49
           },
           {
            "bin_start": 117,
            "bin_end": 130,
            "count": 7
           }
          ]
         }
        },
        {
         "name": "producto_pasivo_12_meses_antes",
         "dtype": "int64",
         "stats": {
          "unique_count": 13,
          "nan_count": 0,
          "min": "0",
          "max": "12",
          "histogram": [
           {
            "bin_start": 0,
            "bin_end": 1.2,
            "count": 278
           },
           {
            "bin_start": 1.2,
            "bin_end": 2.4,
            "count": 36
           },
           {
            "bin_start": 2.4,
            "bin_end": 3.5999999999999996,
            "count": 27
           },
           {
            "bin_start": 3.5999999999999996,
            "bin_end": 4.8,
            "count": 51
           },
           {
            "bin_start": 4.8,
            "bin_end": 6,
            "count": 36
           },
           {
            "bin_start": 6,
            "bin_end": 7.199999999999999,
            "count": 86
           },
           {
            "bin_start": 7.199999999999999,
            "bin_end": 8.4,
            "count": 56
           },
           {
            "bin_start": 8.4,
            "bin_end": 9.6,
            "count": 70
           },
           {
            "bin_start": 9.6,
            "bin_end": 10.799999999999999,
            "count": 88
           },
           {
            "bin_start": 10.799999999999999,
            "bin_end": 12,
            "count": 2772
           }
          ]
         }
        },
        {
         "name": "ingreso_mensual",
         "dtype": "float64",
         "stats": {
          "unique_count": 1687,
          "nan_count": 0,
          "min": "148.0",
          "max": "30000.0",
          "histogram": [
           {
            "bin_start": 148,
            "bin_end": 3133.2,
            "count": 2388
           },
           {
            "bin_start": 3133.2,
            "bin_end": 6118.4,
            "count": 577
           },
           {
            "bin_start": 6118.4,
            "bin_end": 9103.599999999999,
            "count": 228
           },
           {
            "bin_start": 9103.599999999999,
            "bin_end": 12088.8,
            "count": 101
           },
           {
            "bin_start": 12088.8,
            "bin_end": 15074,
            "count": 72
           },
           {
            "bin_start": 15074,
            "bin_end": 18059.199999999997,
            "count": 37
           },
           {
            "bin_start": 18059.199999999997,
            "bin_end": 21044.399999999998,
            "count": 21
           },
           {
            "bin_start": 21044.399999999998,
            "bin_end": 24029.6,
            "count": 15
           },
           {
            "bin_start": 24029.6,
            "bin_end": 27014.8,
            "count": 9
           },
           {
            "bin_start": 27014.8,
            "bin_end": 30000,
            "count": 52
           }
          ]
         }
        },
        {
         "name": "monto_linea_tc",
         "dtype": "float64",
         "stats": {
          "unique_count": 2183,
          "nan_count": 0,
          "min": "0.0",
          "max": "121543.4",
          "histogram": [
           {
            "bin_start": 0,
            "bin_end": 12154.34,
            "count": 2909
           },
           {
            "bin_start": 12154.34,
            "bin_end": 24308.68,
            "count": 291
           },
           {
            "bin_start": 24308.68,
            "bin_end": 36463.020000000004,
            "count": 131
           },
           {
            "bin_start": 36463.020000000004,
            "bin_end": 48617.36,
            "count": 56
           },
           {
            "bin_start": 48617.36,
            "bin_end": 60771.7,
            "count": 41
           },
           {
            "bin_start": 60771.7,
            "bin_end": 72926.04000000001,
            "count": 17
           },
           {
            "bin_start": 72926.04000000001,
            "bin_end": 85080.38,
            "count": 15
           },
           {
            "bin_start": 85080.38,
            "bin_end": 97234.72,
            "count": 10
           },
           {
            "bin_start": 97234.72,
            "bin_end": 109389.06,
            "count": 7
           },
           {
            "bin_start": 109389.06,
            "bin_end": 121543.4,
            "count": 23
           }
          ]
         }
        },
        {
         "name": "monto_saldo_deudor_prom",
         "dtype": "float64",
         "stats": {
          "unique_count": 2757,
          "nan_count": 0,
          "min": "0.0",
          "max": "57094.38",
          "histogram": [
           {
            "bin_start": 0,
            "bin_end": 5709.438,
            "count": 2666
           },
           {
            "bin_start": 5709.438,
            "bin_end": 11418.876,
            "count": 406
           },
           {
            "bin_start": 11418.876,
            "bin_end": 17128.314,
            "count": 150
           },
           {
            "bin_start": 17128.314,
            "bin_end": 22837.752,
            "count": 70
           },
           {
            "bin_start": 22837.752,
            "bin_end": 28547.190000000002,
            "count": 47
           },
           {
            "bin_start": 28547.190000000002,
            "bin_end": 34256.628,
            "count": 28
           },
           {
            "bin_start": 34256.628,
            "bin_end": 39966.066,
            "count": 21
           },
           {
            "bin_start": 39966.066,
            "bin_end": 45675.504,
            "count": 19
           },
           {
            "bin_start": 45675.504,
            "bin_end": 51384.942,
            "count": 9
           },
           {
            "bin_start": 51384.942,
            "bin_end": 57094.38,
            "count": 84
           }
          ]
         }
        },
        {
         "name": "score_aprob_tc",
         "dtype": "int64",
         "stats": {
          "unique_count": 103,
          "nan_count": 0,
          "min": "134",
          "max": "257",
          "histogram": [
           {
            "bin_start": 134,
            "bin_end": 146.3,
            "count": 6
           },
           {
            "bin_start": 146.3,
            "bin_end": 158.6,
            "count": 133
           },
           {
            "bin_start": 158.6,
            "bin_end": 170.9,
            "count": 251
           },
           {
            "bin_start": 170.9,
            "bin_end": 183.2,
            "count": 720
           },
           {
            "bin_start": 183.2,
            "bin_end": 195.5,
            "count": 761
           },
           {
            "bin_start": 195.5,
            "bin_end": 207.8,
            "count": 782
           },
           {
            "bin_start": 207.8,
            "bin_end": 220.10000000000002,
            "count": 547
           },
           {
            "bin_start": 220.10000000000002,
            "bin_end": 232.4,
            "count": 217
           },
           {
            "bin_start": 232.4,
            "bin_end": 244.7,
            "count": 71
           },
           {
            "bin_start": 244.7,
            "bin_end": 257,
            "count": 12
           }
          ]
         }
        },
        {
         "name": "nro_veces_abono_12m_antes",
         "dtype": "int64",
         "stats": {
          "unique_count": 13,
          "nan_count": 0,
          "min": "0",
          "max": "12",
          "histogram": [
           {
            "bin_start": 0,
            "bin_end": 1.2,
            "count": 1029
           },
           {
            "bin_start": 1.2,
            "bin_end": 2.4,
            "count": 30
           },
           {
            "bin_start": 2.4,
            "bin_end": 3.5999999999999996,
            "count": 16
           },
           {
            "bin_start": 3.5999999999999996,
            "bin_end": 4.8,
            "count": 24
           },
           {
            "bin_start": 4.8,
            "bin_end": 6,
            "count": 37
           },
           {
            "bin_start": 6,
            "bin_end": 7.199999999999999,
            "count": 110
           },
           {
            "bin_start": 7.199999999999999,
            "bin_end": 8.4,
            "count": 64
           },
           {
            "bin_start": 8.4,
            "bin_end": 9.6,
            "count": 84
           },
           {
            "bin_start": 9.6,
            "bin_end": 10.799999999999999,
            "count": 148
           },
           {
            "bin_start": 10.799999999999999,
            "bin_end": 12,
            "count": 1958
           }
          ]
         }
        },
        {
         "name": "zona_geografica",
         "dtype": "object",
         "stats": {
          "unique_count": 25,
          "nan_count": 0,
          "categories": [
           {
            "name": "Lima",
            "count": 1987
           },
           {
            "name": "Callao",
            "count": 227
           },
           {
            "name": "23 others",
            "count": 1286
           }
          ]
         }
        },
        {
         "name": "riesgos_sbs",
         "dtype": "int64",
         "stats": {
          "unique_count": 5,
          "nan_count": 0,
          "min": "0",
          "max": "4",
          "histogram": [
           {
            "bin_start": 0,
            "bin_end": 0.4,
            "count": 2096
           },
           {
            "bin_start": 0.4,
            "bin_end": 0.8,
            "count": 0
           },
           {
            "bin_start": 0.8,
            "bin_end": 1.2000000000000002,
            "count": 920
           },
           {
            "bin_start": 1.2000000000000002,
            "bin_end": 1.6,
            "count": 0
           },
           {
            "bin_start": 1.6,
            "bin_end": 2,
            "count": 0
           },
           {
            "bin_start": 2,
            "bin_end": 2.4000000000000004,
            "count": 304
           },
           {
            "bin_start": 2.4000000000000004,
            "bin_end": 2.8000000000000003,
            "count": 0
           },
           {
            "bin_start": 2.8000000000000003,
            "bin_end": 3.2,
            "count": 87
           },
           {
            "bin_start": 3.2,
            "bin_end": 3.6,
            "count": 0
           },
           {
            "bin_start": 3.6,
            "bin_end": 4,
            "count": 93
           }
          ]
         }
        },
        {
         "name": "nivel_educativo",
         "dtype": "object",
         "stats": {
          "unique_count": 5,
          "nan_count": 0,
          "categories": [
           {
            "name": "PROFESIONAL",
            "count": 1697
           },
           {
            "name": "TECNICO",
            "count": 1532
           },
           {
            "name": "3 others",
            "count": 271
           }
          ]
         }
        },
        {
         "name": "edad_binned",
         "dtype": "object",
         "stats": {
          "unique_count": 3,
          "nan_count": 0,
          "categories": [
           {
            "name": "joven",
            "count": 2650
           },
           {
            "name": "adulto",
            "count": 820
           },
           {
            "name": "adulto_mayor",
            "count": 30
           }
          ]
         }
        },
        {
         "name": "_deepnote_index_column",
         "dtype": "int64"
        }
       ],
       "rows": [
        {
         "mora_60": 1,
         "dias_atraso_12_meses_antes": 245,
         "situacion_casa": "FAMILIAR",
         "edad": 43,
         "fecha_ingreso_empleo": "2000-01-01",
         "antiguedad_tc_meses": 7,
         "producto_pasivo_12_meses_antes": 12,
         "ingreso_mensual": 29422,
         "monto_linea_tc": 40603.97,
         "monto_saldo_deudor_prom": 13571.59,
         "score_aprob_tc": 214,
         "nro_veces_abono_12m_antes": 0,
         "zona_geografica": "Lima",
         "riesgos_sbs": 4,
         "nivel_educativo": "PROFESIONAL",
         "edad_binned": "adulto",
         "_deepnote_index_column": 1500
        },
        {
         "mora_60": 1,
         "dias_atraso_12_meses_antes": 238,
         "situacion_casa": "FAMILIAR",
         "edad": 40,
         "fecha_ingreso_empleo": "2005-01-01",
         "antiguedad_tc_meses": 17,
         "producto_pasivo_12_meses_antes": 0,
         "ingreso_mensual": 10000,
         "monto_linea_tc": 25526.76,
         "monto_saldo_deudor_prom": 25526.76,
         "score_aprob_tc": 185,
         "nro_veces_abono_12m_antes": 0,
         "zona_geografica": "Lima",
         "riesgos_sbs": 4,
         "nivel_educativo": "PROFESIONAL",
         "edad_binned": "joven",
         "_deepnote_index_column": 1501
        },
        {
         "mora_60": 1,
         "dias_atraso_12_meses_antes": 238,
         "situacion_casa": "FAMILIAR",
         "edad": 40,
         "fecha_ingreso_empleo": "2005-01-01",
         "antiguedad_tc_meses": 17,
         "producto_pasivo_12_meses_antes": 0,
         "ingreso_mensual": 10000,
         "monto_linea_tc": 25526.76,
         "monto_saldo_deudor_prom": 25526.76,
         "score_aprob_tc": 185,
         "nro_veces_abono_12m_antes": 0,
         "zona_geografica": "Lima",
         "riesgos_sbs": 4,
         "nivel_educativo": "PROFESIONAL",
         "edad_binned": "joven",
         "_deepnote_index_column": 1502
        },
        {
         "mora_60": 1,
         "dias_atraso_12_meses_antes": 219,
         "situacion_casa": "PROPIA",
         "edad": 39,
         "fecha_ingreso_empleo": "2004-04-01",
         "antiguedad_tc_meses": 90,
         "producto_pasivo_12_meses_antes": 7,
         "ingreso_mensual": 15000,
         "monto_linea_tc": 14906.78,
         "monto_saldo_deudor_prom": 0,
         "score_aprob_tc": 221,
         "nro_veces_abono_12m_antes": 0,
         "zona_geografica": "Lima",
         "riesgos_sbs": 0,
         "nivel_educativo": "PROFESIONAL",
         "edad_binned": "joven",
         "_deepnote_index_column": 1503
        },
        {
         "mora_60": 1,
         "dias_atraso_12_meses_antes": 4,
         "situacion_casa": "FAMILIAR",
         "edad": 24,
         "fecha_ingreso_empleo": "2003-06-01",
         "antiguedad_tc_meses": 0,
         "producto_pasivo_12_meses_antes": 1,
         "ingreso_mensual": 3876,
         "monto_linea_tc": 769.45,
         "monto_saldo_deudor_prom": 35563.7,
         "score_aprob_tc": 186,
         "nro_veces_abono_12m_antes": 0,
         "zona_geografica": "Lima",
         "riesgos_sbs": 2,
         "nivel_educativo": "TECNICO",
         "edad_binned": "joven",
         "_deepnote_index_column": 1504
        },
        {
         "mora_60": 1,
         "dias_atraso_12_meses_antes": 219,
         "situacion_casa": "FAMILIAR",
         "edad": 48,
         "fecha_ingreso_empleo": "1994-01-01",
         "antiguedad_tc_meses": 94,
         "producto_pasivo_12_meses_antes": 12,
         "ingreso_mensual": 2500,
         "monto_linea_tc": 3983.01,
         "monto_saldo_deudor_prom": 3170.09,
         "score_aprob_tc": 217,
         "nro_veces_abono_12m_antes": 12,
         "zona_geografica": "Lima",
         "riesgos_sbs": 2,
         "nivel_educativo": "PROFESIONAL",
         "edad_binned": "adulto",
         "_deepnote_index_column": 1505
        },
        {
         "mora_60": 1,
         "dias_atraso_12_meses_antes": 24,
         "situacion_casa": "FAMILIAR",
         "edad": 37,
         "fecha_ingreso_empleo": "2006-11-01",
         "antiguedad_tc_meses": 7,
         "producto_pasivo_12_meses_antes": 0,
         "ingreso_mensual": 2400,
         "monto_linea_tc": 3585.64,
         "monto_saldo_deudor_prom": 413.14,
         "score_aprob_tc": 179,
         "nro_veces_abono_12m_antes": 0,
         "zona_geografica": "Lima",
         "riesgos_sbs": 1,
         "nivel_educativo": "TECNICO",
         "edad_binned": "joven",
         "_deepnote_index_column": 1506
        },
        {
         "mora_60": 1,
         "dias_atraso_12_meses_antes": 24,
         "situacion_casa": "PROPIA",
         "edad": 40,
         "fecha_ingreso_empleo": "2003-12-01",
         "antiguedad_tc_meses": 6,
         "producto_pasivo_12_meses_antes": 0,
         "ingreso_mensual": 1065.19,
         "monto_linea_tc": 271.97,
         "monto_saldo_deudor_prom": 396.13,
         "score_aprob_tc": 187,
         "nro_veces_abono_12m_antes": 0,
         "zona_geografica": "Loreto",
         "riesgos_sbs": 0,
         "nivel_educativo": "PROFESIONAL",
         "edad_binned": "joven",
         "_deepnote_index_column": 1507
        },
        {
         "mora_60": 1,
         "dias_atraso_12_meses_antes": 1,
         "situacion_casa": "FAMILIAR",
         "edad": 28,
         "fecha_ingreso_empleo": "2008-03-15",
         "antiguedad_tc_meses": 0,
         "producto_pasivo_12_meses_antes": 11,
         "ingreso_mensual": 1372.4,
         "monto_linea_tc": 1976.78,
         "monto_saldo_deudor_prom": 1400.54,
         "score_aprob_tc": 175,
         "nro_veces_abono_12m_antes": 12,
         "zona_geografica": "Lima",
         "riesgos_sbs": 0,
         "nivel_educativo": "TECNICO",
         "edad_binned": "joven",
         "_deepnote_index_column": 1508
        },
        {
         "mora_60": 1,
         "dias_atraso_12_meses_antes": 0,
         "situacion_casa": "PROPIA",
         "edad": 29,
         "fecha_ingreso_empleo": "2003-06-01",
         "antiguedad_tc_meses": 8,
         "producto_pasivo_12_meses_antes": 8,
         "ingreso_mensual": 29000,
         "monto_linea_tc": 1604.22,
         "monto_saldo_deudor_prom": 359.11,
         "score_aprob_tc": 216,
         "nro_veces_abono_12m_antes": 0,
         "zona_geografica": "Lambayeque",
         "riesgos_sbs": 3,
         "nivel_educativo": "EDUCACION BASICA",
         "edad_binned": "joven",
         "_deepnote_index_column": 1509
        }
       ]
      },
      "text/plain": "      mora_60  dias_atraso_12_meses_antes situacion_casa  edad  \\\n1500        1                         245       FAMILIAR    43   \n1501        1                         238       FAMILIAR    40   \n1502        1                         238       FAMILIAR    40   \n1503        1                         219         PROPIA    39   \n1504        1                           4       FAMILIAR    24   \n...       ...                         ...            ...   ...   \n4995        1                           0       FAMILIAR    76   \n4996        1                           0       FAMILIAR    33   \n4997        1                           0       FAMILIAR    38   \n4998        1                           0         PROPIA    45   \n4999        1                           0         PROPIA    57   \n\n     fecha_ingreso_empleo  antiguedad_tc_meses  \\\n1500           2000-01-01                    7   \n1501           2005-01-01                   17   \n1502           2005-01-01                   17   \n1503           2004-04-01                   90   \n1504           2003-06-01                    0   \n...                   ...                  ...   \n4995           2000-01-01                   90   \n4996           2000-02-01                   44   \n4997           1992-09-01                  102   \n4998           1990-01-01                   87   \n4999           1983-03-01                   68   \n\n      producto_pasivo_12_meses_antes  ingreso_mensual  monto_linea_tc  \\\n1500                              12       29,422.000      40,603.970   \n1501                               0       10,000.000      25,526.760   \n1502                               0       10,000.000      25,526.760   \n1503                               7       15,000.000      14,906.780   \n1504                               1        3,876.000         769.450   \n...                              ...              ...             ...   \n4995                              12       30,000.000      58,083.420   \n4996                              12       30,000.000         339.980   \n4997                              12        8,500.000      72,685.200   \n4998                              12       30,000.000      32,161.050   \n4999                              12       16,500.000       3,583.960   \n\n      monto_saldo_deudor_prom  score_aprob_tc  nro_veces_abono_12m_antes  \\\n1500               13,571.590             214                          0   \n1501               25,526.760             185                          0   \n1502               25,526.760             185                          0   \n1503                    0.000             221                          0   \n1504               35,563.700             186                          0   \n...                       ...             ...                        ...   \n4995               19,548.240             225                          0   \n4996                    0.000             214                          0   \n4997               57,094.380             197                         12   \n4998               26,901.420             224                         12   \n4999                4,503.680             233                         12   \n\n     zona_geografica  riesgos_sbs nivel_educativo   edad_binned  \n1500            Lima            4     PROFESIONAL        adulto  \n1501            Lima            4     PROFESIONAL         joven  \n1502            Lima            4     PROFESIONAL         joven  \n1503            Lima            0     PROFESIONAL         joven  \n1504            Lima            2         TECNICO         joven  \n...              ...          ...             ...           ...  \n4995            Lima            0   SIN EDUCACION  adulto_mayor  \n4996           Tacna            0     PROFESIONAL         joven  \n4997           Piura            1     PROFESIONAL         joven  \n4998            Lima            0     PROFESIONAL        adulto  \n4999            Lima            0     PROFESIONAL        adulto  \n\n[3500 rows x 16 columns]",
      "text/html": "<div>\n<style scoped>\n    .dataframe tbody tr th:only-of-type {\n        vertical-align: middle;\n    }\n\n    .dataframe tbody tr th {\n        vertical-align: top;\n    }\n\n    .dataframe thead th {\n        text-align: right;\n    }\n</style>\n<table border=\"1\" class=\"dataframe\">\n  <thead>\n    <tr style=\"text-align: right;\">\n      <th></th>\n      <th>mora_60</th>\n      <th>dias_atraso_12_meses_antes</th>\n      <th>situacion_casa</th>\n      <th>edad</th>\n      <th>fecha_ingreso_empleo</th>\n      <th>antiguedad_tc_meses</th>\n      <th>producto_pasivo_12_meses_antes</th>\n      <th>ingreso_mensual</th>\n      <th>monto_linea_tc</th>\n      <th>monto_saldo_deudor_prom</th>\n      <th>score_aprob_tc</th>\n      <th>nro_veces_abono_12m_antes</th>\n      <th>zona_geografica</th>\n      <th>riesgos_sbs</th>\n      <th>nivel_educativo</th>\n      <th>edad_binned</th>\n    </tr>\n  </thead>\n  <tbody>\n    <tr>\n      <th>1500</th>\n      <td>1</td>\n      <td>245</td>\n      <td>FAMILIAR</td>\n      <td>43</td>\n      <td>2000-01-01</td>\n      <td>7</td>\n      <td>12</td>\n      <td>29,422.000</td>\n      <td>40,603.970</td>\n      <td>13,571.590</td>\n      <td>214</td>\n      <td>0</td>\n      <td>Lima</td>\n      <td>4</td>\n      <td>PROFESIONAL</td>\n      <td>adulto</td>\n    </tr>\n    <tr>\n      <th>1501</th>\n      <td>1</td>\n      <td>238</td>\n      <td>FAMILIAR</td>\n      <td>40</td>\n      <td>2005-01-01</td>\n      <td>17</td>\n      <td>0</td>\n      <td>10,000.000</td>\n      <td>25,526.760</td>\n      <td>25,526.760</td>\n      <td>185</td>\n      <td>0</td>\n      <td>Lima</td>\n      <td>4</td>\n      <td>PROFESIONAL</td>\n      <td>joven</td>\n    </tr>\n    <tr>\n      <th>1502</th>\n      <td>1</td>\n      <td>238</td>\n      <td>FAMILIAR</td>\n      <td>40</td>\n      <td>2005-01-01</td>\n      <td>17</td>\n      <td>0</td>\n      <td>10,000.000</td>\n      <td>25,526.760</td>\n      <td>25,526.760</td>\n      <td>185</td>\n      <td>0</td>\n      <td>Lima</td>\n      <td>4</td>\n      <td>PROFESIONAL</td>\n      <td>joven</td>\n    </tr>\n    <tr>\n      <th>1503</th>\n      <td>1</td>\n      <td>219</td>\n      <td>PROPIA</td>\n      <td>39</td>\n      <td>2004-04-01</td>\n      <td>90</td>\n      <td>7</td>\n      <td>15,000.000</td>\n      <td>14,906.780</td>\n      <td>0.000</td>\n      <td>221</td>\n      <td>0</td>\n      <td>Lima</td>\n      <td>0</td>\n      <td>PROFESIONAL</td>\n      <td>joven</td>\n    </tr>\n    <tr>\n      <th>1504</th>\n      <td>1</td>\n      <td>4</td>\n      <td>FAMILIAR</td>\n      <td>24</td>\n      <td>2003-06-01</td>\n      <td>0</td>\n      <td>1</td>\n      <td>3,876.000</td>\n      <td>769.450</td>\n      <td>35,563.700</td>\n      <td>186</td>\n      <td>0</td>\n      <td>Lima</td>\n      <td>2</td>\n      <td>TECNICO</td>\n      <td>joven</td>\n    </tr>\n    <tr>\n      <th>...</th>\n      <td>...</td>\n      <td>...</td>\n      <td>...</td>\n      <td>...</td>\n      <td>...</td>\n      <td>...</td>\n      <td>...</td>\n      <td>...</td>\n      <td>...</td>\n      <td>...</td>\n      <td>...</td>\n      <td>...</td>\n      <td>...</td>\n      <td>...</td>\n      <td>...</td>\n      <td>...</td>\n    </tr>\n    <tr>\n      <th>4995</th>\n      <td>1</td>\n      <td>0</td>\n      <td>FAMILIAR</td>\n      <td>76</td>\n      <td>2000-01-01</td>\n      <td>90</td>\n      <td>12</td>\n      <td>30,000.000</td>\n      <td>58,083.420</td>\n      <td>19,548.240</td>\n      <td>225</td>\n      <td>0</td>\n      <td>Lima</td>\n      <td>0</td>\n      <td>SIN EDUCACION</td>\n      <td>adulto_mayor</td>\n    </tr>\n    <tr>\n      <th>4996</th>\n      <td>1</td>\n      <td>0</td>\n      <td>FAMILIAR</td>\n      <td>33</td>\n      <td>2000-02-01</td>\n      <td>44</td>\n      <td>12</td>\n      <td>30,000.000</td>\n      <td>339.980</td>\n      <td>0.000</td>\n      <td>214</td>\n      <td>0</td>\n      <td>Tacna</td>\n      <td>0</td>\n      <td>PROFESIONAL</td>\n      <td>joven</td>\n    </tr>\n    <tr>\n      <th>4997</th>\n      <td>1</td>\n      <td>0</td>\n      <td>FAMILIAR</td>\n      <td>38</td>\n      <td>1992-09-01</td>\n      <td>102</td>\n      <td>12</td>\n      <td>8,500.000</td>\n      <td>72,685.200</td>\n      <td>57,094.380</td>\n      <td>197</td>\n      <td>12</td>\n      <td>Piura</td>\n      <td>1</td>\n      <td>PROFESIONAL</td>\n      <td>joven</td>\n    </tr>\n    <tr>\n      <th>4998</th>\n      <td>1</td>\n      <td>0</td>\n      <td>PROPIA</td>\n      <td>45</td>\n      <td>1990-01-01</td>\n      <td>87</td>\n      <td>12</td>\n      <td>30,000.000</td>\n      <td>32,161.050</td>\n      <td>26,901.420</td>\n      <td>224</td>\n      <td>12</td>\n      <td>Lima</td>\n      <td>0</td>\n      <td>PROFESIONAL</td>\n      <td>adulto</td>\n    </tr>\n    <tr>\n      <th>4999</th>\n      <td>1</td>\n      <td>0</td>\n      <td>PROPIA</td>\n      <td>57</td>\n      <td>1983-03-01</td>\n      <td>68</td>\n      <td>12</td>\n      <td>16,500.000</td>\n      <td>3,583.960</td>\n      <td>4,503.680</td>\n      <td>233</td>\n      <td>12</td>\n      <td>Lima</td>\n      <td>0</td>\n      <td>PROFESIONAL</td>\n      <td>adulto</td>\n    </tr>\n  </tbody>\n</table>\n<p>3500 rows × 16 columns</p>\n</div>"
     },
     "metadata": {}
    }
   ],
   "execution_count": null
  },
  {
   "cell_type": "code",
   "source": "sns.boxplot(x = 'riesgos_sbs', y = 'score_aprob_tc', data = df_bcp)\n# de aquí no podemos sacar nada de valor sustancial",
   "metadata": {
    "cell_id": "e852bc82-0b5f-4cd6-9870-54a34f5866a5",
    "tags": [],
    "deepnote_to_be_reexecuted": false,
    "source_hash": "8a655d47",
    "execution_start": 1647276995938,
    "execution_millis": 414,
    "deepnote_cell_type": "code",
    "deepnote_cell_height": 432.0625,
    "deepnote_output_heights": [
     21.1875,
     264.984375
    ]
   },
   "outputs": [
    {
     "output_type": "execute_result",
     "execution_count": 22,
     "data": {
      "text/plain": "<AxesSubplot:xlabel='riesgos_sbs', ylabel='score_aprob_tc'>"
     },
     "metadata": {}
    },
    {
     "data": {
      "text/plain": "<Figure size 432x288 with 1 Axes>",
      "image/png": "[encoded data removed]"
     },
     "metadata": {
      "needs_background": "light",
      "image/png": {
       "width": 390,
       "height": 263
      }
     },
     "output_type": "display_data"
    }
   ],
   "execution_count": 22
  },
  {
   "cell_type": "code",
   "source": "sns.boxplot(x = 'edad_binned', y = 'riesgos_sbs', data = df_yes_mora)\n# queríamos ver si la edad es un factor para determinar si los riesgos\n# varían",
   "metadata": {
    "cell_id": "e60525e6-8e6a-4794-80d5-be255bfdd8d4",
    "tags": [],
    "deepnote_to_be_reexecuted": false,
    "source_hash": "e936566e",
    "execution_start": 1647276999876,
    "execution_millis": 416,
    "deepnote_cell_type": "code",
    "deepnote_cell_height": 451.0625,
    "deepnote_output_heights": [
     21.1875,
     265.984375
    ]
   },
   "outputs": [
    {
     "output_type": "execute_result",
     "execution_count": 23,
     "data": {
      "text/plain": "<AxesSubplot:xlabel='edad_binned', ylabel='riesgos_sbs'>"
     },
     "metadata": {}
    },
    {
     "data": {
      "text/plain": "<Figure size 432x288 with 1 Axes>",
      "image/png": "[encoded data removed]"
     },
     "metadata": {
      "needs_background": "light",
      "image/png": {
       "width": 387,
       "height": 264
      }
     },
     "output_type": "display_data"
    }
   ],
   "execution_count": 23
  },
  {
   "cell_type": "code",
   "source": "sns.boxplot(x = 'edad_binned', y = 'ingreso_mensual', data = df_yes_mora)\n# hay más jovenes que su sueldo mensual varía en gran proporción\n# ESO HACE QUE NOS CONFIEMOS DEMASIADO \n# PORQUE POR TEMPORADAS PODEMOS SUPONER ERRÓNEAMENTE",
   "metadata": {
    "cell_id": "b306802f-dac8-4387-bc71-1eb0eb1ee191",
    "tags": [],
    "deepnote_to_be_reexecuted": false,
    "source_hash": "c474c303",
    "execution_start": 1647277016089,
    "execution_millis": 332,
    "deepnote_cell_type": "code",
    "deepnote_cell_height": 469.0625,
    "deepnote_output_heights": [
     21.1875,
     265.984375
    ]
   },
   "outputs": [
    {
     "output_type": "execute_result",
     "execution_count": 24,
     "data": {
      "text/plain": "<AxesSubplot:xlabel='edad_binned', ylabel='ingreso_mensual'>"
     },
     "metadata": {}
    },
    {
     "data": {
      "text/plain": "<Figure size 432x288 with 1 Axes>",
      "image/png": "[encoded data removed]"
     },
     "metadata": {
      "needs_background": "light",
      "image/png": {
       "width": 402,
       "height": 264
      }
     },
     "output_type": "display_data"
    }
   ],
   "execution_count": 24
  },
  {
   "cell_type": "code",
   "source": "sns.boxplot(x = 'edad_binned', y = 'ingreso_mensual', data = df_bcp)",
   "metadata": {
    "cell_id": "3d87ea8e-92e7-4d63-90d7-d8735db9eb1b",
    "tags": [],
    "deepnote_to_be_reexecuted": true,
    "source_hash": "1c6e2975",
    "execution_start": 1647270550176,
    "execution_millis": 241,
    "deepnote_cell_type": "code",
    "deepnote_cell_height": 415.078125,
    "deepnote_output_heights": [
     21.1875,
     266
    ]
   },
   "outputs": [
    {
     "output_type": "execute_result",
     "execution_count": 27,
     "data": {
      "text/plain": "<AxesSubplot:xlabel='edad_binned', ylabel='ingreso_mensual'>"
     },
     "metadata": {}
    },
    {
     "data": {
      "text/plain": "<Figure size 432x288 with 1 Axes>",
      "image/png": "[encoded data removed]"
     },
     "metadata": {
      "needs_background": "light",
      "image/png": {
       "width": 402,
       "height": 264
      }
     },
     "output_type": "display_data"
    }
   ],
   "execution_count": null
  },
  {
   "cell_type": "code",
   "source": "",
   "metadata": {
    "cell_id": "ee65a572-924a-489f-978e-57550654ead6",
    "tags": [],
    "deepnote_to_be_reexecuted": true,
    "source_hash": "b623e53d",
    "deepnote_cell_type": "code",
    "deepnote_cell_height": 65.984375
   },
   "outputs": [],
   "execution_count": null
  },
  {
   "cell_type": "markdown",
   "source": "<a style='text-decoration:none;line-height:16px;display:flex;color:#5B5B62;padding:10px;justify-content:end;' href='https://deepnote.com?utm_source=created-in-deepnote-cell&projectId=14e858d9-0539-45d5-ab0b-ac63c06705c9' target=\"_blank\">\n<img alt='Created in deepnote.com' style='display:inline;max-height:16px;margin:0px;margin-right:7.5px;' src='data:image/svg+xml;base64,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' > </img>\nCreated in <span style='font-weight:600;margin-left:4px;'>Deepnote</span></a>",
   "metadata": {
    "tags": [],
    "created_in_deepnote_cell": true,
    "deepnote_cell_type": "markdown"
   }
  }
 ],
 "nbformat": 4,
 "nbformat_minor": 2,
 "metadata": {
  "orig_nbformat": 2,
  "deepnote": {
   "is_reactive": false
  },
  "deepnote_notebook_id": "d5f2b47d-2c31-4d6d-a36f-e43dca0b6289",
  "deepnote_execution_queue": []
 }
}