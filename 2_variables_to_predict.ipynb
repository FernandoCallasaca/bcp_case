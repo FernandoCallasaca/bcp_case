{
 "cells": [
  {
   "cell_type": "markdown",
   "source": "# Prepare our environment",
   "metadata": {
    "tags": [],
    "cell_id": "183d4f41-e84f-408d-86be-fa1a063a05dc",
    "deepnote_cell_type": "markdown",
    "deepnote_cell_height": 61.1875
   }
  },
  {
   "cell_type": "code",
   "metadata": {
    "cell_id": "c9d050c2-1d74-48f5-9aa6-0f68df6b5444",
    "tags": [],
    "deepnote_to_be_reexecuted": false,
    "source_hash": "cf4ba56c",
    "execution_start": 1647105645266,
    "execution_millis": 3943,
    "deepnote_cell_type": "code",
    "deepnote_cell_height": 226.1875,
    "deepnote_output_heights": [
     21.1875
    ]
   },
   "source": "import pandas as pd\nimport numpy as np\nimport matplotlib.pyplot as plt\nimport seaborn as sns\nfrom scipy import stats\n%matplotlib inline\npd.__version__",
   "execution_count": null,
   "outputs": [
    {
     "output_type": "execute_result",
     "execution_count": 1,
     "data": {
      "text/plain": "'1.3.5'"
     },
     "metadata": {}
    }
   ]
  },
  {
   "cell_type": "code",
   "metadata": {
    "cell_id": "eed4d842-38e5-4931-948a-e574de55347b",
    "tags": [],
    "deepnote_to_be_reexecuted": false,
    "source_hash": "f26deeaa",
    "execution_start": 1647105653667,
    "execution_millis": 11,
    "deepnote_cell_type": "code",
    "deepnote_cell_height": 99
   },
   "source": "pd.options.display.float_format = '{:,.3f}'.format\nnp.set_printoptions(precision=3)",
   "execution_count": null,
   "outputs": []
  },
  {
   "cell_type": "markdown",
   "source": "# Load our clean data",
   "metadata": {
    "cell_id": "ca05b3ea-aecc-4b12-bed8-69124a97c8c9",
    "tags": [],
    "deepnote_cell_type": "markdown",
    "deepnote_cell_height": 61.1875
   }
  },
  {
   "cell_type": "code",
   "metadata": {
    "cell_id": "83e296ad-81e2-401a-a60c-354bd486df31",
    "tags": [],
    "deepnote_to_be_reexecuted": false,
    "source_hash": "ce25d97f",
    "execution_start": 1647105686060,
    "execution_millis": 13,
    "deepnote_cell_type": "code",
    "deepnote_cell_height": 136.1875,
    "deepnote_output_heights": [
     21.1875
    ]
   },
   "source": "path_file = 'clean_data_bcp.csv'\npath_file",
   "execution_count": null,
   "outputs": [
    {
     "output_type": "execute_result",
     "execution_count": 3,
     "data": {
      "text/plain": "'clean_data_bcp.csv'"
     },
     "metadata": {}
    }
   ]
  },
  {
   "cell_type": "code",
   "metadata": {
    "cell_id": "a6229316-2caf-4454-9e7d-d78b9d9ccf24",
    "tags": [],
    "deepnote_to_be_reexecuted": false,
    "source_hash": "f1210705",
    "execution_start": 1647105712280,
    "execution_millis": 240,
    "deepnote_cell_type": "code",
    "deepnote_cell_height": 632.796875
   },
   "source": "df_bcp = pd.read_csv(path_file)\ndf_bcp",
   "execution_count": null,
   "outputs": [
    {
     "output_type": "execute_result",
     "execution_count": 5,
     "data": {
      "application/vnd.deepnote.dataframe.v3+json": {
       "column_count": 16,
       "row_count": 5000,
       "columns": [
        {
         "name": "mora_60",
         "dtype": "int64",
         "stats": {
          "unique_count": 2,
          "nan_count": 0,
          "min": "0",
          "max": "1",
          "histogram": [
           {
            "bin_start": 0,
            "bin_end": 0.1,
            "count": 1500
           },
           {
            "bin_start": 0.1,
            "bin_end": 0.2,
            "count": 0
           },
           {
            "bin_start": 0.2,
            "bin_end": 0.30000000000000004,
            "count": 0
           },
           {
            "bin_start": 0.30000000000000004,
            "bin_end": 0.4,
            "count": 0
           },
           {
            "bin_start": 0.4,
            "bin_end": 0.5,
            "count": 0
           },
           {
            "bin_start": 0.5,
            "bin_end": 0.6000000000000001,
            "count": 0
           },
           {
            "bin_start": 0.6000000000000001,
            "bin_end": 0.7000000000000001,
            "count": 0
           },
           {
            "bin_start": 0.7000000000000001,
            "bin_end": 0.8,
            "count": 0
           },
           {
            "bin_start": 0.8,
            "bin_end": 0.9,
            "count": 0
           },
           {
            "bin_start": 0.9,
            "bin_end": 1,
            "count": 3500
           }
          ]
         }
        },
        {
         "name": "dias_atraso_12_meses_antes",
         "dtype": "int64",
         "stats": {
          "unique_count": 63,
          "nan_count": 0,
          "min": "0",
          "max": "245",
          "histogram": [
           {
            "bin_start": 0,
            "bin_end": 24.5,
            "count": 4699
           },
           {
            "bin_start": 24.5,
            "bin_end": 49,
            "count": 237
           },
           {
            "bin_start": 49,
            "bin_end": 73.5,
            "count": 46
           },
           {
            "bin_start": 73.5,
            "bin_end": 98,
            "count": 6
           },
           {
            "bin_start": 98,
            "bin_end": 122.5,
            "count": 3
           },
           {
            "bin_start": 122.5,
            "bin_end": 147,
            "count": 0
           },
           {
            "bin_start": 147,
            "bin_end": 171.5,
            "count": 0
           },
           {
            "bin_start": 171.5,
            "bin_end": 196,
            "count": 0
           },
           {
            "bin_start": 196,
            "bin_end": 220.5,
            "count": 2
           },
           {
            "bin_start": 220.5,
            "bin_end": 245,
            "count": 7
           }
          ]
         }
        },
        {
         "name": "situacion_casa",
         "dtype": "object",
         "stats": {
          "unique_count": 4,
          "nan_count": 0,
          "categories": [
           {
            "name": "FAMILIAR",
            "count": 3471
           },
           {
            "name": "PROPIA",
            "count": 1429
           },
           {
            "name": "2 others",
            "count": 100
           }
          ]
         }
        },
        {
         "name": "edad",
         "dtype": "int64",
         "stats": {
          "unique_count": 56,
          "nan_count": 0,
          "min": "20",
          "max": "85",
          "histogram": [
           {
            "bin_start": 20,
            "bin_end": 26.5,
            "count": 703
           },
           {
            "bin_start": 26.5,
            "bin_end": 33,
            "count": 1381
           },
           {
            "bin_start": 33,
            "bin_end": 39.5,
            "count": 1291
           },
           {
            "bin_start": 39.5,
            "bin_end": 46,
            "count": 694
           },
           {
            "bin_start": 46,
            "bin_end": 52.5,
            "count": 536
           },
           {
            "bin_start": 52.5,
            "bin_end": 59,
            "count": 261
           },
           {
            "bin_start": 59,
            "bin_end": 65.5,
            "count": 118
           },
           {
            "bin_start": 65.5,
            "bin_end": 72,
            "count": 12
           },
           {
            "bin_start": 72,
            "bin_end": 78.5,
            "count": 2
           },
           {
            "bin_start": 78.5,
            "bin_end": 85,
            "count": 2
           }
          ]
         }
        },
        {
         "name": "fecha_ingreso_empleo",
         "dtype": "object",
         "stats": {
          "unique_count": 941,
          "nan_count": 0,
          "categories": [
           {
            "name": "2000-01-01",
            "count": 144
           },
           {
            "name": "2005-01-01",
            "count": 79
           },
           {
            "name": "939 others",
            "count": 4777
           }
          ]
         }
        },
        {
         "name": "antiguedad_tc_meses",
         "dtype": "int64",
         "stats": {
          "unique_count": 126,
          "nan_count": 0,
          "min": "0",
          "max": "130",
          "histogram": [
           {
            "bin_start": 0,
            "bin_end": 13,
            "count": 2559
           },
           {
            "bin_start": 13,
            "bin_end": 26,
            "count": 749
           },
           {
            "bin_start": 26,
            "bin_end": 39,
            "count": 408
           },
           {
            "bin_start": 39,
            "bin_end": 52,
            "count": 328
           },
           {
            "bin_start": 52,
            "bin_end": 65,
            "count": 208
           },
           {
            "bin_start": 65,
            "bin_end": 78,
            "count": 143
           },
           {
            "bin_start": 78,
            "bin_end": 91,
            "count": 267
           },
           {
            "bin_start": 91,
            "bin_end": 104,
            "count": 191
           },
           {
            "bin_start": 104,
            "bin_end": 117,
            "count": 111
           },
           {
            "bin_start": 117,
            "bin_end": 130,
            "count": 36
           }
          ]
         }
        },
        {
         "name": "producto_pasivo_12_meses_antes",
         "dtype": "int64",
         "stats": {
          "unique_count": 13,
          "nan_count": 0,
          "min": "0",
          "max": "12",
          "histogram": [
           {
            "bin_start": 0,
            "bin_end": 1.2,
            "count": 350
           },
           {
            "bin_start": 1.2,
            "bin_end": 2.4,
            "count": 44
           },
           {
            "bin_start": 2.4,
            "bin_end": 3.5999999999999996,
            "count": 36
           },
           {
            "bin_start": 3.5999999999999996,
            "bin_end": 4.8,
            "count": 61
           },
           {
            "bin_start": 4.8,
            "bin_end": 6,
            "count": 39
           },
           {
            "bin_start": 6,
            "bin_end": 7.199999999999999,
            "count": 102
           },
           {
            "bin_start": 7.199999999999999,
            "bin_end": 8.4,
            "count": 70
           },
           {
            "bin_start": 8.4,
            "bin_end": 9.6,
            "count": 78
           },
           {
            "bin_start": 9.6,
            "bin_end": 10.799999999999999,
            "count": 103
           },
           {
            "bin_start": 10.799999999999999,
            "bin_end": 12,
            "count": 4117
           }
          ]
         }
        },
        {
         "name": "ingreso_mensual",
         "dtype": "float64",
         "stats": {
          "unique_count": 2293,
          "nan_count": 0,
          "min": "123.7",
          "max": "30000.0",
          "histogram": [
           {
            "bin_start": 123.7,
            "bin_end": 3111.33,
            "count": 3102
           },
           {
            "bin_start": 3111.33,
            "bin_end": 6098.96,
            "count": 943
           },
           {
            "bin_start": 6098.96,
            "bin_end": 9086.59,
            "count": 402
           },
           {
            "bin_start": 9086.59,
            "bin_end": 12074.220000000001,
            "count": 177
           },
           {
            "bin_start": 12074.220000000001,
            "bin_end": 15061.850000000002,
            "count": 126
           },
           {
            "bin_start": 15061.850000000002,
            "bin_end": 18049.48,
            "count": 65
           },
           {
            "bin_start": 18049.48,
            "bin_end": 21037.11,
            "count": 41
           },
           {
            "bin_start": 21037.11,
            "bin_end": 24024.74,
            "count": 34
           },
           {
            "bin_start": 24024.74,
            "bin_end": 27012.370000000003,
            "count": 17
           },
           {
            "bin_start": 27012.370000000003,
            "bin_end": 30000,
            "count": 93
           }
          ]
         }
        },
        {
         "name": "monto_linea_tc",
         "dtype": "float64",
         "stats": {
          "unique_count": 3240,
          "nan_count": 0,
          "min": "0.0",
          "max": "121543.4",
          "histogram": [
           {
            "bin_start": 0,
            "bin_end": 12154.34,
            "count": 3927
           },
           {
            "bin_start": 12154.34,
            "bin_end": 24308.68,
            "count": 479
           },
           {
            "bin_start": 24308.68,
            "bin_end": 36463.020000000004,
            "count": 235
           },
           {
            "bin_start": 36463.020000000004,
            "bin_end": 48617.36,
            "count": 119
           },
           {
            "bin_start": 48617.36,
            "bin_end": 60771.7,
            "count": 70
           },
           {
            "bin_start": 60771.7,
            "bin_end": 72926.04000000001,
            "count": 37
           },
           {
            "bin_start": 72926.04000000001,
            "bin_end": 85080.38,
            "count": 30
           },
           {
            "bin_start": 85080.38,
            "bin_end": 97234.72,
            "count": 22
           },
           {
            "bin_start": 97234.72,
            "bin_end": 109389.06,
            "count": 18
           },
           {
            "bin_start": 109389.06,
            "bin_end": 121543.4,
            "count": 63
           }
          ]
         }
        },
        {
         "name": "monto_saldo_deudor_prom",
         "dtype": "float64",
         "stats": {
          "unique_count": 3851,
          "nan_count": 0,
          "min": "0.0",
          "max": "57094.38",
          "histogram": [
           {
            "bin_start": 0,
            "bin_end": 5709.438,
            "count": 3809
           },
           {
            "bin_start": 5709.438,
            "bin_end": 11418.876,
            "count": 576
           },
           {
            "bin_start": 11418.876,
            "bin_end": 17128.314,
            "count": 208
           },
           {
            "bin_start": 17128.314,
            "bin_end": 22837.752,
            "count": 103
           },
           {
            "bin_start": 22837.752,
            "bin_end": 28547.190000000002,
            "count": 70
           },
           {
            "bin_start": 28547.190000000002,
            "bin_end": 34256.628,
            "count": 39
           },
           {
            "bin_start": 34256.628,
            "bin_end": 39966.066,
            "count": 24
           },
           {
            "bin_start": 39966.066,
            "bin_end": 45675.504,
            "count": 27
           },
           {
            "bin_start": 45675.504,
            "bin_end": 51384.942,
            "count": 17
           },
           {
            "bin_start": 51384.942,
            "bin_end": 57094.38,
            "count": 127
           }
          ]
         }
        },
        {
         "name": "score_aprob_tc",
         "dtype": "int64",
         "stats": {
          "unique_count": 110,
          "nan_count": 0,
          "min": "134",
          "max": "266",
          "histogram": [
           {
            "bin_start": 134,
            "bin_end": 147.2,
            "count": 7
           },
           {
            "bin_start": 147.2,
            "bin_end": 160.4,
            "count": 170
           },
           {
            "bin_start": 160.4,
            "bin_end": 173.6,
            "count": 358
           },
           {
            "bin_start": 173.6,
            "bin_end": 186.8,
            "count": 983
           },
           {
            "bin_start": 186.8,
            "bin_end": 200,
            "count": 1287
           },
           {
            "bin_start": 200,
            "bin_end": 213.2,
            "count": 1087
           },
           {
            "bin_start": 213.2,
            "bin_end": 226.39999999999998,
            "count": 830
           },
           {
            "bin_start": 226.39999999999998,
            "bin_end": 239.6,
            "count": 231
           },
           {
            "bin_start": 239.6,
            "bin_end": 252.8,
            "count": 39
           },
           {
            "bin_start": 252.8,
            "bin_end": 266,
            "count": 8
           }
          ]
         }
        },
        {
         "name": "nro_veces_abono_12m_antes",
         "dtype": "int64",
         "stats": {
          "unique_count": 13,
          "nan_count": 0,
          "min": "0",
          "max": "12",
          "histogram": [
           {
            "bin_start": 0,
            "bin_end": 1.2,
            "count": 1426
           },
           {
            "bin_start": 1.2,
            "bin_end": 2.4,
            "count": 51
           },
           {
            "bin_start": 2.4,
            "bin_end": 3.5999999999999996,
            "count": 32
           },
           {
            "bin_start": 3.5999999999999996,
            "bin_end": 4.8,
            "count": 34
           },
           {
            "bin_start": 4.8,
            "bin_end": 6,
            "count": 43
           },
           {
            "bin_start": 6,
            "bin_end": 7.199999999999999,
            "count": 136
           },
           {
            "bin_start": 7.199999999999999,
            "bin_end": 8.4,
            "count": 81
           },
           {
            "bin_start": 8.4,
            "bin_end": 9.6,
            "count": 108
           },
           {
            "bin_start": 9.6,
            "bin_end": 10.799999999999999,
            "count": 190
           },
           {
            "bin_start": 10.799999999999999,
            "bin_end": 12,
            "count": 2899
           }
          ]
         }
        },
        {
         "name": "zona_geografica",
         "dtype": "object",
         "stats": {
          "unique_count": 25,
          "nan_count": 0,
          "categories": [
           {
            "name": "Lima",
            "count": 2948
           },
           {
            "name": "Callao",
            "count": 299
           },
           {
            "name": "23 others",
            "count": 1753
           }
          ]
         }
        },
        {
         "name": "max_riesgos_12m_antes_aprob",
         "dtype": "int64",
         "stats": {
          "unique_count": 5,
          "nan_count": 0,
          "min": "0",
          "max": "4",
          "histogram": [
           {
            "bin_start": 0,
            "bin_end": 0.4,
            "count": 3142
           },
           {
            "bin_start": 0.4,
            "bin_end": 0.8,
            "count": 0
           },
           {
            "bin_start": 0.8,
            "bin_end": 1.2000000000000002,
            "count": 1242
           },
           {
            "bin_start": 1.2000000000000002,
            "bin_end": 1.6,
            "count": 0
           },
           {
            "bin_start": 1.6,
            "bin_end": 2,
            "count": 0
           },
           {
            "bin_start": 2,
            "bin_end": 2.4000000000000004,
            "count": 390
           },
           {
            "bin_start": 2.4000000000000004,
            "bin_end": 2.8000000000000003,
            "count": 0
           },
           {
            "bin_start": 2.8000000000000003,
            "bin_end": 3.2,
            "count": 108
           },
           {
            "bin_start": 3.2,
            "bin_end": 3.6,
            "count": 0
           },
           {
            "bin_start": 3.6,
            "bin_end": 4,
            "count": 118
           }
          ]
         }
        },
        {
         "name": "nivel_educativo",
         "dtype": "object",
         "stats": {
          "unique_count": 5,
          "nan_count": 0,
          "categories": [
           {
            "name": "PROFESIONAL",
            "count": 2666
           },
           {
            "name": "TECNICO",
            "count": 1958
           },
           {
            "name": "3 others",
            "count": 376
           }
          ]
         }
        },
        {
         "name": "edad_binned",
         "dtype": "object",
         "stats": {
          "unique_count": 3,
          "nan_count": 0,
          "categories": [
           {
            "name": "joven",
            "count": 3659
           },
           {
            "name": "adulto",
            "count": 1294
           },
           {
            "name": "adulto_mayor",
            "count": 47
           }
          ]
         }
        },
        {
         "name": "_deepnote_index_column",
         "dtype": "int64"
        }
       ],
       "rows": [
        {
         "mora_60": 0,
         "dias_atraso_12_meses_antes": 235,
         "situacion_casa": "FAMILIAR",
         "edad": 30,
         "fecha_ingreso_empleo": "2007-06-01",
         "antiguedad_tc_meses": 93,
         "producto_pasivo_12_meses_antes": 5,
         "ingreso_mensual": 3500,
         "monto_linea_tc": 0,
         "monto_saldo_deudor_prom": 0,
         "score_aprob_tc": 214,
         "nro_veces_abono_12m_antes": 5,
         "zona_geografica": "Lima",
         "max_riesgos_12m_antes_aprob": 4,
         "nivel_educativo": "PROFESIONAL",
         "edad_binned": "joven",
         "_deepnote_index_column": 0
        },
        {
         "mora_60": 0,
         "dias_atraso_12_meses_antes": 18,
         "situacion_casa": "FAMILIAR",
         "edad": 32,
         "fecha_ingreso_empleo": "2005-02-01",
         "antiguedad_tc_meses": 9,
         "producto_pasivo_12_meses_antes": 12,
         "ingreso_mensual": 900,
         "monto_linea_tc": 1824.67,
         "monto_saldo_deudor_prom": 1933.75,
         "score_aprob_tc": 175,
         "nro_veces_abono_12m_antes": 12,
         "zona_geografica": "La Libertad",
         "max_riesgos_12m_antes_aprob": 1,
         "nivel_educativo": "TECNICO",
         "edad_binned": "joven",
         "_deepnote_index_column": 1
        },
        {
         "mora_60": 0,
         "dias_atraso_12_meses_antes": 0,
         "situacion_casa": "FAMILIAR",
         "edad": 26,
         "fecha_ingreso_empleo": "2003-08-01",
         "antiguedad_tc_meses": 8,
         "producto_pasivo_12_meses_antes": 2,
         "ingreso_mensual": 2400,
         "monto_linea_tc": 2797.38,
         "monto_saldo_deudor_prom": 188.29,
         "score_aprob_tc": 187,
         "nro_veces_abono_12m_antes": 0,
         "zona_geografica": "Lima",
         "max_riesgos_12m_antes_aprob": 0,
         "nivel_educativo": "PROFESIONAL",
         "edad_binned": "joven",
         "_deepnote_index_column": 2
        },
        {
         "mora_60": 0,
         "dias_atraso_12_meses_antes": 0,
         "situacion_casa": "FAMILIAR",
         "edad": 36,
         "fecha_ingreso_empleo": "2003-07-01",
         "antiguedad_tc_meses": 20,
         "producto_pasivo_12_meses_antes": 12,
         "ingreso_mensual": 2700,
         "monto_linea_tc": 0,
         "monto_saldo_deudor_prom": 0,
         "score_aprob_tc": 187,
         "nro_veces_abono_12m_antes": 12,
         "zona_geografica": "Ancash",
         "max_riesgos_12m_antes_aprob": 0,
         "nivel_educativo": "TECNICO",
         "edad_binned": "joven",
         "_deepnote_index_column": 3
        },
        {
         "mora_60": 0,
         "dias_atraso_12_meses_antes": 0,
         "situacion_casa": "FAMILIAR",
         "edad": 46,
         "fecha_ingreso_empleo": "2006-11-01",
         "antiguedad_tc_meses": 0,
         "producto_pasivo_12_meses_antes": 1,
         "ingreso_mensual": 3100,
         "monto_linea_tc": 2000,
         "monto_saldo_deudor_prom": 11010.65,
         "score_aprob_tc": 189,
         "nro_veces_abono_12m_antes": 0,
         "zona_geografica": "Lima",
         "max_riesgos_12m_antes_aprob": 0,
         "nivel_educativo": "TECNICO",
         "edad_binned": "adulto",
         "_deepnote_index_column": 4
        },
        {
         "mora_60": 0,
         "dias_atraso_12_meses_antes": 22,
         "situacion_casa": "FAMILIAR",
         "edad": 25,
         "fecha_ingreso_empleo": "2004-05-01",
         "antiguedad_tc_meses": 9,
         "producto_pasivo_12_meses_antes": 12,
         "ingreso_mensual": 2200,
         "monto_linea_tc": 449.92,
         "monto_saldo_deudor_prom": 496.58,
         "score_aprob_tc": 220,
         "nro_veces_abono_12m_antes": 11,
         "zona_geografica": "Lima",
         "max_riesgos_12m_antes_aprob": 0,
         "nivel_educativo": "PROFESIONAL",
         "edad_binned": "joven",
         "_deepnote_index_column": 5
        },
        {
         "mora_60": 0,
         "dias_atraso_12_meses_antes": 9,
         "situacion_casa": "FAMILIAR",
         "edad": 30,
         "fecha_ingreso_empleo": "2006-12-01",
         "antiguedad_tc_meses": 12,
         "producto_pasivo_12_meses_antes": 8,
         "ingreso_mensual": 2100,
         "monto_linea_tc": 4827.64,
         "monto_saldo_deudor_prom": 850.21,
         "score_aprob_tc": 193,
         "nro_veces_abono_12m_antes": 7,
         "zona_geografica": "Lima",
         "max_riesgos_12m_antes_aprob": 0,
         "nivel_educativo": "PROFESIONAL",
         "edad_binned": "joven",
         "_deepnote_index_column": 6
        },
        {
         "mora_60": 0,
         "dias_atraso_12_meses_antes": 8,
         "situacion_casa": "PROPIA",
         "edad": 55,
         "fecha_ingreso_empleo": "2004-01-01",
         "antiguedad_tc_meses": 23,
         "producto_pasivo_12_meses_antes": 12,
         "ingreso_mensual": 5593.21,
         "monto_linea_tc": 10467,
         "monto_saldo_deudor_prom": 18620.8,
         "score_aprob_tc": 199,
         "nro_veces_abono_12m_antes": 12,
         "zona_geografica": "Piura",
         "max_riesgos_12m_antes_aprob": 0,
         "nivel_educativo": "TECNICO",
         "edad_binned": "adulto",
         "_deepnote_index_column": 7
        },
        {
         "mora_60": 0,
         "dias_atraso_12_meses_antes": 2,
         "situacion_casa": "FAMILIAR",
         "edad": 30,
         "fecha_ingreso_empleo": "2003-12-01",
         "antiguedad_tc_meses": 0,
         "producto_pasivo_12_meses_antes": 0,
         "ingreso_mensual": 2000,
         "monto_linea_tc": 7315.41,
         "monto_saldo_deudor_prom": 0,
         "score_aprob_tc": 156,
         "nro_veces_abono_12m_antes": 0,
         "zona_geografica": "Piura",
         "max_riesgos_12m_antes_aprob": 0,
         "nivel_educativo": "PROFESIONAL",
         "edad_binned": "joven",
         "_deepnote_index_column": 8
        },
        {
         "mora_60": 0,
         "dias_atraso_12_meses_antes": 0,
         "situacion_casa": "FAMILIAR",
         "edad": 31,
         "fecha_ingreso_empleo": "2004-02-01",
         "antiguedad_tc_meses": 0,
         "producto_pasivo_12_meses_antes": 4,
         "ingreso_mensual": 3800,
         "monto_linea_tc": 0,
         "monto_saldo_deudor_prom": 0,
         "score_aprob_tc": 192,
         "nro_veces_abono_12m_antes": 0,
         "zona_geografica": "Ica",
         "max_riesgos_12m_antes_aprob": 0,
         "nivel_educativo": "TECNICO",
         "edad_binned": "joven",
         "_deepnote_index_column": 9
        }
       ]
      },
      "text/plain": "      mora_60  dias_atraso_12_meses_antes situacion_casa  edad  \\\n0           0                         235       FAMILIAR    30   \n1           0                          18       FAMILIAR    32   \n2           0                           0       FAMILIAR    26   \n3           0                           0       FAMILIAR    36   \n4           0                           0       FAMILIAR    46   \n...       ...                         ...            ...   ...   \n4995        1                           0       FAMILIAR    76   \n4996        1                           0       FAMILIAR    33   \n4997        1                           0       FAMILIAR    38   \n4998        1                           0         PROPIA    45   \n4999        1                           0         PROPIA    57   \n\n     fecha_ingreso_empleo  antiguedad_tc_meses  \\\n0              2007-06-01                   93   \n1              2005-02-01                    9   \n2              2003-08-01                    8   \n3              2003-07-01                   20   \n4              2006-11-01                    0   \n...                   ...                  ...   \n4995           2000-01-01                   90   \n4996           2000-02-01                   44   \n4997           1992-09-01                  102   \n4998           1990-01-01                   87   \n4999           1983-03-01                   68   \n\n      producto_pasivo_12_meses_antes  ingreso_mensual  monto_linea_tc  \\\n0                                  5        3,500.000           0.000   \n1                                 12          900.000       1,824.670   \n2                                  2        2,400.000       2,797.380   \n3                                 12        2,700.000           0.000   \n4                                  1        3,100.000       2,000.000   \n...                              ...              ...             ...   \n4995                              12       30,000.000      58,083.420   \n4996                              12       30,000.000         339.980   \n4997                              12        8,500.000      72,685.200   \n4998                              12       30,000.000      32,161.050   \n4999                              12       16,500.000       3,583.960   \n\n      monto_saldo_deudor_prom  score_aprob_tc  nro_veces_abono_12m_antes  \\\n0                       0.000             214                          5   \n1                   1,933.750             175                         12   \n2                     188.290             187                          0   \n3                       0.000             187                         12   \n4                  11,010.650             189                          0   \n...                       ...             ...                        ...   \n4995               19,548.240             225                          0   \n4996                    0.000             214                          0   \n4997               57,094.380             197                         12   \n4998               26,901.420             224                         12   \n4999                4,503.680             233                         12   \n\n     zona_geografica  max_riesgos_12m_antes_aprob nivel_educativo  \\\n0               Lima                            4     PROFESIONAL   \n1        La Libertad                            1         TECNICO   \n2               Lima                            0     PROFESIONAL   \n3             Ancash                            0         TECNICO   \n4               Lima                            0         TECNICO   \n...              ...                          ...             ...   \n4995            Lima                            0   SIN EDUCACION   \n4996           Tacna                            0     PROFESIONAL   \n4997           Piura                            1     PROFESIONAL   \n4998            Lima                            0     PROFESIONAL   \n4999            Lima                            0     PROFESIONAL   \n\n       edad_binned  \n0            joven  \n1            joven  \n2            joven  \n3            joven  \n4           adulto  \n...            ...  \n4995  adulto_mayor  \n4996         joven  \n4997         joven  \n4998        adulto  \n4999        adulto  \n\n[5000 rows x 16 columns]",
      "text/html": "<div>\n<style scoped>\n    .dataframe tbody tr th:only-of-type {\n        vertical-align: middle;\n    }\n\n    .dataframe tbody tr th {\n        vertical-align: top;\n    }\n\n    .dataframe thead th {\n        text-align: right;\n    }\n</style>\n<table border=\"1\" class=\"dataframe\">\n  <thead>\n    <tr style=\"text-align: right;\">\n      <th></th>\n      <th>mora_60</th>\n      <th>dias_atraso_12_meses_antes</th>\n      <th>situacion_casa</th>\n      <th>edad</th>\n      <th>fecha_ingreso_empleo</th>\n      <th>antiguedad_tc_meses</th>\n      <th>producto_pasivo_12_meses_antes</th>\n      <th>ingreso_mensual</th>\n      <th>monto_linea_tc</th>\n      <th>monto_saldo_deudor_prom</th>\n      <th>score_aprob_tc</th>\n      <th>nro_veces_abono_12m_antes</th>\n      <th>zona_geografica</th>\n      <th>max_riesgos_12m_antes_aprob</th>\n      <th>nivel_educativo</th>\n      <th>edad_binned</th>\n    </tr>\n  </thead>\n  <tbody>\n    <tr>\n      <th>0</th>\n      <td>0</td>\n      <td>235</td>\n      <td>FAMILIAR</td>\n      <td>30</td>\n      <td>2007-06-01</td>\n      <td>93</td>\n      <td>5</td>\n      <td>3,500.000</td>\n      <td>0.000</td>\n      <td>0.000</td>\n      <td>214</td>\n      <td>5</td>\n      <td>Lima</td>\n      <td>4</td>\n      <td>PROFESIONAL</td>\n      <td>joven</td>\n    </tr>\n    <tr>\n      <th>1</th>\n      <td>0</td>\n      <td>18</td>\n      <td>FAMILIAR</td>\n      <td>32</td>\n      <td>2005-02-01</td>\n      <td>9</td>\n      <td>12</td>\n      <td>900.000</td>\n      <td>1,824.670</td>\n      <td>1,933.750</td>\n      <td>175</td>\n      <td>12</td>\n      <td>La Libertad</td>\n      <td>1</td>\n      <td>TECNICO</td>\n      <td>joven</td>\n    </tr>\n    <tr>\n      <th>2</th>\n      <td>0</td>\n      <td>0</td>\n      <td>FAMILIAR</td>\n      <td>26</td>\n      <td>2003-08-01</td>\n      <td>8</td>\n      <td>2</td>\n      <td>2,400.000</td>\n      <td>2,797.380</td>\n      <td>188.290</td>\n      <td>187</td>\n      <td>0</td>\n      <td>Lima</td>\n      <td>0</td>\n      <td>PROFESIONAL</td>\n      <td>joven</td>\n    </tr>\n    <tr>\n      <th>3</th>\n      <td>0</td>\n      <td>0</td>\n      <td>FAMILIAR</td>\n      <td>36</td>\n      <td>2003-07-01</td>\n      <td>20</td>\n      <td>12</td>\n      <td>2,700.000</td>\n      <td>0.000</td>\n      <td>0.000</td>\n      <td>187</td>\n      <td>12</td>\n      <td>Ancash</td>\n      <td>0</td>\n      <td>TECNICO</td>\n      <td>joven</td>\n    </tr>\n    <tr>\n      <th>4</th>\n      <td>0</td>\n      <td>0</td>\n      <td>FAMILIAR</td>\n      <td>46</td>\n      <td>2006-11-01</td>\n      <td>0</td>\n      <td>1</td>\n      <td>3,100.000</td>\n      <td>2,000.000</td>\n      <td>11,010.650</td>\n      <td>189</td>\n      <td>0</td>\n      <td>Lima</td>\n      <td>0</td>\n      <td>TECNICO</td>\n      <td>adulto</td>\n    </tr>\n    <tr>\n      <th>...</th>\n      <td>...</td>\n      <td>...</td>\n      <td>...</td>\n      <td>...</td>\n      <td>...</td>\n      <td>...</td>\n      <td>...</td>\n      <td>...</td>\n      <td>...</td>\n      <td>...</td>\n      <td>...</td>\n      <td>...</td>\n      <td>...</td>\n      <td>...</td>\n      <td>...</td>\n      <td>...</td>\n    </tr>\n    <tr>\n      <th>4995</th>\n      <td>1</td>\n      <td>0</td>\n      <td>FAMILIAR</td>\n      <td>76</td>\n      <td>2000-01-01</td>\n      <td>90</td>\n      <td>12</td>\n      <td>30,000.000</td>\n      <td>58,083.420</td>\n      <td>19,548.240</td>\n      <td>225</td>\n      <td>0</td>\n      <td>Lima</td>\n      <td>0</td>\n      <td>SIN EDUCACION</td>\n      <td>adulto_mayor</td>\n    </tr>\n    <tr>\n      <th>4996</th>\n      <td>1</td>\n      <td>0</td>\n      <td>FAMILIAR</td>\n      <td>33</td>\n      <td>2000-02-01</td>\n      <td>44</td>\n      <td>12</td>\n      <td>30,000.000</td>\n      <td>339.980</td>\n      <td>0.000</td>\n      <td>214</td>\n      <td>0</td>\n      <td>Tacna</td>\n      <td>0</td>\n      <td>PROFESIONAL</td>\n      <td>joven</td>\n    </tr>\n    <tr>\n      <th>4997</th>\n      <td>1</td>\n      <td>0</td>\n      <td>FAMILIAR</td>\n      <td>38</td>\n      <td>1992-09-01</td>\n      <td>102</td>\n      <td>12</td>\n      <td>8,500.000</td>\n      <td>72,685.200</td>\n      <td>57,094.380</td>\n      <td>197</td>\n      <td>12</td>\n      <td>Piura</td>\n      <td>1</td>\n      <td>PROFESIONAL</td>\n      <td>joven</td>\n    </tr>\n    <tr>\n      <th>4998</th>\n      <td>1</td>\n      <td>0</td>\n      <td>PROPIA</td>\n      <td>45</td>\n      <td>1990-01-01</td>\n      <td>87</td>\n      <td>12</td>\n      <td>30,000.000</td>\n      <td>32,161.050</td>\n      <td>26,901.420</td>\n      <td>224</td>\n      <td>12</td>\n      <td>Lima</td>\n      <td>0</td>\n      <td>PROFESIONAL</td>\n      <td>adulto</td>\n    </tr>\n    <tr>\n      <th>4999</th>\n      <td>1</td>\n      <td>0</td>\n      <td>PROPIA</td>\n      <td>57</td>\n      <td>1983-03-01</td>\n      <td>68</td>\n      <td>12</td>\n      <td>16,500.000</td>\n      <td>3,583.960</td>\n      <td>4,503.680</td>\n      <td>233</td>\n      <td>12</td>\n      <td>Lima</td>\n      <td>0</td>\n      <td>PROFESIONAL</td>\n      <td>adulto</td>\n    </tr>\n  </tbody>\n</table>\n<p>5000 rows × 16 columns</p>\n</div>"
     },
     "metadata": {}
    }
   ]
  },
  {
   "cell_type": "code",
   "metadata": {
    "cell_id": "0299133c-684d-4b8b-bbbf-815ca9c41d78",
    "tags": [],
    "deepnote_to_be_reexecuted": false,
    "source_hash": "aa1cb62f",
    "execution_start": 1647105786199,
    "execution_millis": 238,
    "deepnote_cell_type": "code",
    "deepnote_cell_height": 550.796875
   },
   "source": "# describe our numerical data\ndf_bcp.describe()",
   "execution_count": null,
   "outputs": [
    {
     "output_type": "execute_result",
     "execution_count": 8,
     "data": {
      "application/vnd.deepnote.dataframe.v3+json": {
       "column_count": 11,
       "row_count": 8,
       "columns": [
        {
         "name": "mora_60",
         "dtype": "float64",
         "stats": {
          "unique_count": 5,
          "nan_count": 0,
          "min": "0.0",
          "max": "5000.0",
          "histogram": [
           {
            "bin_start": 0,
            "bin_end": 500,
            "count": 7
           },
           {
            "bin_start": 500,
            "bin_end": 1000,
            "count": 0
           },
           {
            "bin_start": 1000,
            "bin_end": 1500,
            "count": 0
           },
           {
            "bin_start": 1500,
            "bin_end": 2000,
            "count": 0
           },
           {
            "bin_start": 2000,
            "bin_end": 2500,
            "count": 0
           },
           {
            "bin_start": 2500,
            "bin_end": 3000,
            "count": 0
           },
           {
            "bin_start": 3000,
            "bin_end": 3500,
            "count": 0
           },
           {
            "bin_start": 3500,
            "bin_end": 4000,
            "count": 0
           },
           {
            "bin_start": 4000,
            "bin_end": 4500,
            "count": 0
           },
           {
            "bin_start": 4500,
            "bin_end": 5000,
            "count": 1
           }
          ]
         }
        },
        {
         "name": "dias_atraso_12_meses_antes",
         "dtype": "float64",
         "stats": {
          "unique_count": 6,
          "nan_count": 0,
          "min": "0.0",
          "max": "5000.0",
          "histogram": [
           {
            "bin_start": 0,
            "bin_end": 500,
            "count": 7
           },
           {
            "bin_start": 500,
            "bin_end": 1000,
            "count": 0
           },
           {
            "bin_start": 1000,
            "bin_end": 1500,
            "count": 0
           },
           {
            "bin_start": 1500,
            "bin_end": 2000,
            "count": 0
           },
           {
            "bin_start": 2000,
            "bin_end": 2500,
            "count": 0
           },
           {
            "bin_start": 2500,
            "bin_end": 3000,
            "count": 0
           },
           {
            "bin_start": 3000,
            "bin_end": 3500,
            "count": 0
           },
           {
            "bin_start": 3500,
            "bin_end": 4000,
            "count": 0
           },
           {
            "bin_start": 4000,
            "bin_end": 4500,
            "count": 0
           },
           {
            "bin_start": 4500,
            "bin_end": 5000,
            "count": 1
           }
          ]
         }
        },
        {
         "name": "edad",
         "dtype": "float64",
         "stats": {
          "unique_count": 8,
          "nan_count": 0,
          "min": "9.787225020133079",
          "max": "5000.0",
          "histogram": [
           {
            "bin_start": 9.787225020133079,
            "bin_end": 508.8085025181197,
            "count": 7
           },
           {
            "bin_start": 508.8085025181197,
            "bin_end": 1007.8297800161064,
            "count": 0
           },
           {
            "bin_start": 1007.8297800161064,
            "bin_end": 1506.851057514093,
            "count": 0
           },
           {
            "bin_start": 1506.851057514093,
            "bin_end": 2005.8723350120797,
            "count": 0
           },
           {
            "bin_start": 2005.8723350120797,
            "bin_end": 2504.8936125100663,
            "count": 0
           },
           {
            "bin_start": 2504.8936125100663,
            "bin_end": 3003.914890008053,
            "count": 0
           },
           {
            "bin_start": 3003.914890008053,
            "bin_end": 3502.9361675060395,
            "count": 0
           },
           {
            "bin_start": 3502.9361675060395,
            "bin_end": 4001.9574450040263,
            "count": 0
           },
           {
            "bin_start": 4001.9574450040263,
            "bin_end": 4500.978722502014,
            "count": 0
           },
           {
            "bin_start": 4500.978722502014,
            "bin_end": 5000,
            "count": 1
           }
          ]
         }
        },
        {
         "name": "antiguedad_tc_meses",
         "dtype": "float64",
         "stats": {
          "unique_count": 7,
          "nan_count": 0,
          "min": "0.0",
          "max": "5000.0",
          "histogram": [
           {
            "bin_start": 0,
            "bin_end": 500,
            "count": 7
           },
           {
            "bin_start": 500,
            "bin_end": 1000,
            "count": 0
           },
           {
            "bin_start": 1000,
            "bin_end": 1500,
            "count": 0
           },
           {
            "bin_start": 1500,
            "bin_end": 2000,
            "count": 0
           },
           {
            "bin_start": 2000,
            "bin_end": 2500,
            "count": 0
           },
           {
            "bin_start": 2500,
            "bin_end": 3000,
            "count": 0
           },
           {
            "bin_start": 3000,
            "bin_end": 3500,
            "count": 0
           },
           {
            "bin_start": 3500,
            "bin_end": 4000,
            "count": 0
           },
           {
            "bin_start": 4000,
            "bin_end": 4500,
            "count": 0
           },
           {
            "bin_start": 4500,
            "bin_end": 5000,
            "count": 1
           }
          ]
         }
        },
        {
         "name": "producto_pasivo_12_meses_antes",
         "dtype": "float64",
         "stats": {
          "unique_count": 5,
          "nan_count": 0,
          "min": "0.0",
          "max": "5000.0",
          "histogram": [
           {
            "bin_start": 0,
            "bin_end": 500,
            "count": 7
           },
           {
            "bin_start": 500,
            "bin_end": 1000,
            "count": 0
           },
           {
            "bin_start": 1000,
            "bin_end": 1500,
            "count": 0
           },
           {
            "bin_start": 1500,
            "bin_end": 2000,
            "count": 0
           },
           {
            "bin_start": 2000,
            "bin_end": 2500,
            "count": 0
           },
           {
            "bin_start": 2500,
            "bin_end": 3000,
            "count": 0
           },
           {
            "bin_start": 3000,
            "bin_end": 3500,
            "count": 0
           },
           {
            "bin_start": 3500,
            "bin_end": 4000,
            "count": 0
           },
           {
            "bin_start": 4000,
            "bin_end": 4500,
            "count": 0
           },
           {
            "bin_start": 4500,
            "bin_end": 5000,
            "count": 1
           }
          ]
         }
        },
        {
         "name": "ingreso_mensual",
         "dtype": "float64",
         "stats": {
          "unique_count": 8,
          "nan_count": 0,
          "min": "123.7",
          "max": "30000.0",
          "histogram": [
           {
            "bin_start": 123.7,
            "bin_end": 3111.33,
            "count": 3
           },
           {
            "bin_start": 3111.33,
            "bin_end": 6098.96,
            "count": 4
           },
           {
            "bin_start": 6098.96,
            "bin_end": 9086.59,
            "count": 0
           },
           {
            "bin_start": 9086.59,
            "bin_end": 12074.220000000001,
            "count": 0
           },
           {
            "bin_start": 12074.220000000001,
            "bin_end": 15061.850000000002,
            "count": 0
           },
           {
            "bin_start": 15061.850000000002,
            "bin_end": 18049.48,
            "count": 0
           },
           {
            "bin_start": 18049.48,
            "bin_end": 21037.11,
            "count": 0
           },
           {
            "bin_start": 21037.11,
            "bin_end": 24024.74,
            "count": 0
           },
           {
            "bin_start": 24024.74,
            "bin_end": 27012.370000000003,
            "count": 0
           },
           {
            "bin_start": 27012.370000000003,
            "bin_end": 30000,
            "count": 1
           }
          ]
         }
        },
        {
         "name": "monto_linea_tc",
         "dtype": "float64",
         "stats": {
          "unique_count": 8,
          "nan_count": 0,
          "min": "0.0",
          "max": "121543.4",
          "histogram": [
           {
            "bin_start": 0,
            "bin_end": 12154.34,
            "count": 6
           },
           {
            "bin_start": 12154.34,
            "bin_end": 24308.68,
            "count": 1
           },
           {
            "bin_start": 24308.68,
            "bin_end": 36463.020000000004,
            "count": 0
           },
           {
            "bin_start": 36463.020000000004,
            "bin_end": 48617.36,
            "count": 0
           },
           {
            "bin_start": 48617.36,
            "bin_end": 60771.7,
            "count": 0
           },
           {
            "bin_start": 60771.7,
            "bin_end": 72926.04000000001,
            "count": 0
           },
           {
            "bin_start": 72926.04000000001,
            "bin_end": 85080.38,
            "count": 0
           },
           {
            "bin_start": 85080.38,
            "bin_end": 97234.72,
            "count": 0
           },
           {
            "bin_start": 97234.72,
            "bin_end": 109389.06,
            "count": 0
           },
           {
            "bin_start": 109389.06,
            "bin_end": 121543.4,
            "count": 1
           }
          ]
         }
        },
        {
         "name": "monto_saldo_deudor_prom",
         "dtype": "float64",
         "stats": {
          "unique_count": 8,
          "nan_count": 0,
          "min": "0.0",
          "max": "57094.38",
          "histogram": [
           {
            "bin_start": 0,
            "bin_end": 5709.438,
            "count": 5
           },
           {
            "bin_start": 5709.438,
            "bin_end": 11418.876,
            "count": 2
           },
           {
            "bin_start": 11418.876,
            "bin_end": 17128.314,
            "count": 0
           },
           {
            "bin_start": 17128.314,
            "bin_end": 22837.752,
            "count": 0
           },
           {
            "bin_start": 22837.752,
            "bin_end": 28547.190000000002,
            "count": 0
           },
           {
            "bin_start": 28547.190000000002,
            "bin_end": 34256.628,
            "count": 0
           },
           {
            "bin_start": 34256.628,
            "bin_end": 39966.066,
            "count": 0
           },
           {
            "bin_start": 39966.066,
            "bin_end": 45675.504,
            "count": 0
           },
           {
            "bin_start": 45675.504,
            "bin_end": 51384.942,
            "count": 0
           },
           {
            "bin_start": 51384.942,
            "bin_end": 57094.38,
            "count": 1
           }
          ]
         }
        },
        {
         "name": "score_aprob_tc",
         "dtype": "float64",
         "stats": {
          "unique_count": 8,
          "nan_count": 0,
          "min": "19.41631646087851",
          "max": "5000.0",
          "histogram": [
           {
            "bin_start": 19.41631646087851,
            "bin_end": 517.4746848147907,
            "count": 7
           },
           {
            "bin_start": 517.4746848147907,
            "bin_end": 1015.533053168703,
            "count": 0
           },
           {
            "bin_start": 1015.533053168703,
            "bin_end": 1513.5914215226153,
            "count": 0
           },
           {
            "bin_start": 1513.5914215226153,
            "bin_end": 2011.6497898765274,
            "count": 0
           },
           {
            "bin_start": 2011.6497898765274,
            "bin_end": 2509.7081582304395,
            "count": 0
           },
           {
            "bin_start": 2509.7081582304395,
            "bin_end": 3007.766526584352,
            "count": 0
           },
           {
            "bin_start": 3007.766526584352,
            "bin_end": 3505.824894938264,
            "count": 0
           },
           {
            "bin_start": 3505.824894938264,
            "bin_end": 4003.8832632921763,
            "count": 0
           },
           {
            "bin_start": 4003.8832632921763,
            "bin_end": 4501.941631646088,
            "count": 0
           },
           {
            "bin_start": 4501.941631646088,
            "bin_end": 5000,
            "count": 1
           }
          ]
         }
        },
        {
         "name": "nro_veces_abono_12m_antes",
         "dtype": "float64",
         "stats": {
          "unique_count": 5,
          "nan_count": 0,
          "min": "0.0",
          "max": "5000.0",
          "histogram": [
           {
            "bin_start": 0,
            "bin_end": 500,
            "count": 7
           },
           {
            "bin_start": 500,
            "bin_end": 1000,
            "count": 0
           },
           {
            "bin_start": 1000,
            "bin_end": 1500,
            "count": 0
           },
           {
            "bin_start": 1500,
            "bin_end": 2000,
            "count": 0
           },
           {
            "bin_start": 2000,
            "bin_end": 2500,
            "count": 0
           },
           {
            "bin_start": 2500,
            "bin_end": 3000,
            "count": 0
           },
           {
            "bin_start": 3000,
            "bin_end": 3500,
            "count": 0
           },
           {
            "bin_start": 3500,
            "bin_end": 4000,
            "count": 0
           },
           {
            "bin_start": 4000,
            "bin_end": 4500,
            "count": 0
           },
           {
            "bin_start": 4500,
            "bin_end": 5000,
            "count": 1
           }
          ]
         }
        },
        {
         "name": "max_riesgos_12m_antes_aprob",
         "dtype": "float64",
         "stats": {
          "unique_count": 6,
          "nan_count": 0,
          "min": "0.0",
          "max": "5000.0",
          "histogram": [
           {
            "bin_start": 0,
            "bin_end": 500,
            "count": 7
           },
           {
            "bin_start": 500,
            "bin_end": 1000,
            "count": 0
           },
           {
            "bin_start": 1000,
            "bin_end": 1500,
            "count": 0
           },
           {
            "bin_start": 1500,
            "bin_end": 2000,
            "count": 0
           },
           {
            "bin_start": 2000,
            "bin_end": 2500,
            "count": 0
           },
           {
            "bin_start": 2500,
            "bin_end": 3000,
            "count": 0
           },
           {
            "bin_start": 3000,
            "bin_end": 3500,
            "count": 0
           },
           {
            "bin_start": 3500,
            "bin_end": 4000,
            "count": 0
           },
           {
            "bin_start": 4000,
            "bin_end": 4500,
            "count": 0
           },
           {
            "bin_start": 4500,
            "bin_end": 5000,
            "count": 1
           }
          ]
         }
        },
        {
         "name": "_deepnote_index_column",
         "dtype": "object"
        }
       ],
       "rows": [
        {
         "mora_60": 5000,
         "dias_atraso_12_meses_antes": 5000,
         "edad": 5000,
         "antiguedad_tc_meses": 5000,
         "producto_pasivo_12_meses_antes": 5000,
         "ingreso_mensual": 5000,
         "monto_linea_tc": 5000,
         "monto_saldo_deudor_prom": 5000,
         "score_aprob_tc": 5000,
         "nro_veces_abono_12m_antes": 5000,
         "max_riesgos_12m_antes_aprob": 5000,
         "_deepnote_index_column": "count"
        },
        {
         "mora_60": 0.7,
         "dias_atraso_12_meses_antes": 4.4808,
         "edad": 36.4294,
         "antiguedad_tc_meses": 25.386,
         "producto_pasivo_12_meses_antes": 10.571,
         "ingreso_mensual": 4373.572006,
         "monto_linea_tc": 10236.73633,
         "monto_saldo_deudor_prom": 5732.438204,
         "score_aprob_tc": 196.7624,
         "nro_veces_abono_12m_antes": 7.9008,
         "max_riesgos_12m_antes_aprob": 0.5636,
         "_deepnote_index_column": "mean"
        },
        {
         "mora_60": 0.45830340212754295,
         "dias_atraso_12_meses_antes": 13.945240238341576,
         "edad": 9.787225020133079,
         "antiguedad_tc_meses": 32.01426536151232,
         "producto_pasivo_12_meses_antes": 3.3961251056382817,
         "ingreso_mensual": 5393.520234853904,
         "monto_linea_tc": 19853.87145215478,
         "monto_saldo_deudor_prom": 10869.69211105206,
         "score_aprob_tc": 19.41631646087851,
         "nro_veces_abono_12m_antes": 5.277549608101586,
         "max_riesgos_12m_antes_aprob": 0.9027281005954788,
         "_deepnote_index_column": "std"
        },
        {
         "mora_60": 0,
         "dias_atraso_12_meses_antes": 0,
         "edad": 20,
         "antiguedad_tc_meses": 0,
         "producto_pasivo_12_meses_antes": 0,
         "ingreso_mensual": 123.7,
         "monto_linea_tc": 0,
         "monto_saldo_deudor_prom": 0,
         "score_aprob_tc": 134,
         "nro_veces_abono_12m_antes": 0,
         "max_riesgos_12m_antes_aprob": 0,
         "_deepnote_index_column": "min"
        },
        {
         "mora_60": 0,
         "dias_atraso_12_meses_antes": 0,
         "edad": 29,
         "antiguedad_tc_meses": 0,
         "producto_pasivo_12_meses_antes": 12,
         "ingreso_mensual": 1400,
         "monto_linea_tc": 389.365,
         "monto_saldo_deudor_prom": 283.605,
         "score_aprob_tc": 182,
         "nro_veces_abono_12m_antes": 0,
         "max_riesgos_12m_antes_aprob": 0,
         "_deepnote_index_column": "25%"
        },
        {
         "mora_60": 1,
         "dias_atraso_12_meses_antes": 0,
         "edad": 34,
         "antiguedad_tc_meses": 12,
         "producto_pasivo_12_meses_antes": 12,
         "ingreso_mensual": 2400,
         "monto_linea_tc": 2915.955,
         "monto_saldo_deudor_prom": 2077.105,
         "score_aprob_tc": 197,
         "nro_veces_abono_12m_antes": 12,
         "max_riesgos_12m_antes_aprob": 0,
         "_deepnote_index_column": "50%"
        },
        {
         "mora_60": 1,
         "dias_atraso_12_meses_antes": 2,
         "edad": 42,
         "antiguedad_tc_meses": 39,
         "producto_pasivo_12_meses_antes": 12,
         "ingreso_mensual": 4900,
         "monto_linea_tc": 9763.3875,
         "monto_saldo_deudor_prom": 5384.22,
         "score_aprob_tc": 212,
         "nro_veces_abono_12m_antes": 12,
         "max_riesgos_12m_antes_aprob": 1,
         "_deepnote_index_column": "75%"
        },
        {
         "mora_60": 1,
         "dias_atraso_12_meses_antes": 245,
         "edad": 85,
         "antiguedad_tc_meses": 130,
         "producto_pasivo_12_meses_antes": 12,
         "ingreso_mensual": 30000,
         "monto_linea_tc": 121543.4,
         "monto_saldo_deudor_prom": 57094.38,
         "score_aprob_tc": 266,
         "nro_veces_abono_12m_antes": 12,
         "max_riesgos_12m_antes_aprob": 4,
         "_deepnote_index_column": "max"
        }
       ]
      },
      "text/plain": "        mora_60  dias_atraso_12_meses_antes      edad  antiguedad_tc_meses  \\\ncount 5,000.000                   5,000.000 5,000.000            5,000.000   \nmean      0.700                       4.481    36.429               25.386   \nstd       0.458                      13.945     9.787               32.014   \nmin       0.000                       0.000    20.000                0.000   \n25%       0.000                       0.000    29.000                0.000   \n50%       1.000                       0.000    34.000               12.000   \n75%       1.000                       2.000    42.000               39.000   \nmax       1.000                     245.000    85.000              130.000   \n\n       producto_pasivo_12_meses_antes  ingreso_mensual  monto_linea_tc  \\\ncount                       5,000.000        5,000.000       5,000.000   \nmean                           10.571        4,373.572      10,236.736   \nstd                             3.396        5,393.520      19,853.871   \nmin                             0.000          123.700           0.000   \n25%                            12.000        1,400.000         389.365   \n50%                            12.000        2,400.000       2,915.955   \n75%                            12.000        4,900.000       9,763.388   \nmax                            12.000       30,000.000     121,543.400   \n\n       monto_saldo_deudor_prom  score_aprob_tc  nro_veces_abono_12m_antes  \\\ncount                5,000.000       5,000.000                  5,000.000   \nmean                 5,732.438         196.762                      7.901   \nstd                 10,869.692          19.416                      5.278   \nmin                      0.000         134.000                      0.000   \n25%                    283.605         182.000                      0.000   \n50%                  2,077.105         197.000                     12.000   \n75%                  5,384.220         212.000                     12.000   \nmax                 57,094.380         266.000                     12.000   \n\n       max_riesgos_12m_antes_aprob  \ncount                    5,000.000  \nmean                         0.564  \nstd                          0.903  \nmin                          0.000  \n25%                          0.000  \n50%                          0.000  \n75%                          1.000  \nmax                          4.000  ",
      "text/html": "<div>\n<style scoped>\n    .dataframe tbody tr th:only-of-type {\n        vertical-align: middle;\n    }\n\n    .dataframe tbody tr th {\n        vertical-align: top;\n    }\n\n    .dataframe thead th {\n        text-align: right;\n    }\n</style>\n<table border=\"1\" class=\"dataframe\">\n  <thead>\n    <tr style=\"text-align: right;\">\n      <th></th>\n      <th>mora_60</th>\n      <th>dias_atraso_12_meses_antes</th>\n      <th>edad</th>\n      <th>antiguedad_tc_meses</th>\n      <th>producto_pasivo_12_meses_antes</th>\n      <th>ingreso_mensual</th>\n      <th>monto_linea_tc</th>\n      <th>monto_saldo_deudor_prom</th>\n      <th>score_aprob_tc</th>\n      <th>nro_veces_abono_12m_antes</th>\n      <th>max_riesgos_12m_antes_aprob</th>\n    </tr>\n  </thead>\n  <tbody>\n    <tr>\n      <th>count</th>\n      <td>5,000.000</td>\n      <td>5,000.000</td>\n      <td>5,000.000</td>\n      <td>5,000.000</td>\n      <td>5,000.000</td>\n      <td>5,000.000</td>\n      <td>5,000.000</td>\n      <td>5,000.000</td>\n      <td>5,000.000</td>\n      <td>5,000.000</td>\n      <td>5,000.000</td>\n    </tr>\n    <tr>\n      <th>mean</th>\n      <td>0.700</td>\n      <td>4.481</td>\n      <td>36.429</td>\n      <td>25.386</td>\n      <td>10.571</td>\n      <td>4,373.572</td>\n      <td>10,236.736</td>\n      <td>5,732.438</td>\n      <td>196.762</td>\n      <td>7.901</td>\n      <td>0.564</td>\n    </tr>\n    <tr>\n      <th>std</th>\n      <td>0.458</td>\n      <td>13.945</td>\n      <td>9.787</td>\n      <td>32.014</td>\n      <td>3.396</td>\n      <td>5,393.520</td>\n      <td>19,853.871</td>\n      <td>10,869.692</td>\n      <td>19.416</td>\n      <td>5.278</td>\n      <td>0.903</td>\n    </tr>\n    <tr>\n      <th>min</th>\n      <td>0.000</td>\n      <td>0.000</td>\n      <td>20.000</td>\n      <td>0.000</td>\n      <td>0.000</td>\n      <td>123.700</td>\n      <td>0.000</td>\n      <td>0.000</td>\n      <td>134.000</td>\n      <td>0.000</td>\n      <td>0.000</td>\n    </tr>\n    <tr>\n      <th>25%</th>\n      <td>0.000</td>\n      <td>0.000</td>\n      <td>29.000</td>\n      <td>0.000</td>\n      <td>12.000</td>\n      <td>1,400.000</td>\n      <td>389.365</td>\n      <td>283.605</td>\n      <td>182.000</td>\n      <td>0.000</td>\n      <td>0.000</td>\n    </tr>\n    <tr>\n      <th>50%</th>\n      <td>1.000</td>\n      <td>0.000</td>\n      <td>34.000</td>\n      <td>12.000</td>\n      <td>12.000</td>\n      <td>2,400.000</td>\n      <td>2,915.955</td>\n      <td>2,077.105</td>\n      <td>197.000</td>\n      <td>12.000</td>\n      <td>0.000</td>\n    </tr>\n    <tr>\n      <th>75%</th>\n      <td>1.000</td>\n      <td>2.000</td>\n      <td>42.000</td>\n      <td>39.000</td>\n      <td>12.000</td>\n      <td>4,900.000</td>\n      <td>9,763.388</td>\n      <td>5,384.220</td>\n      <td>212.000</td>\n      <td>12.000</td>\n      <td>1.000</td>\n    </tr>\n    <tr>\n      <th>max</th>\n      <td>1.000</td>\n      <td>245.000</td>\n      <td>85.000</td>\n      <td>130.000</td>\n      <td>12.000</td>\n      <td>30,000.000</td>\n      <td>121,543.400</td>\n      <td>57,094.380</td>\n      <td>266.000</td>\n      <td>12.000</td>\n      <td>4.000</td>\n    </tr>\n  </tbody>\n</table>\n</div>"
     },
     "metadata": {}
    }
   ]
  },
  {
   "cell_type": "code",
   "metadata": {
    "cell_id": "b2d74ab8-4ab9-4122-bbac-0c62fc2e37f1",
    "tags": [],
    "deepnote_to_be_reexecuted": false,
    "source_hash": "e0d30aab",
    "execution_start": 1647105986772,
    "execution_millis": 57,
    "deepnote_cell_type": "code",
    "deepnote_cell_height": 386.796875
   },
   "source": "# describe our category data\ndf_bcp.describe(include = ['object'])",
   "execution_count": null,
   "outputs": [
    {
     "output_type": "execute_result",
     "execution_count": 12,
     "data": {
      "application/vnd.deepnote.dataframe.v3+json": {
       "column_count": 5,
       "row_count": 4,
       "columns": [
        {
         "name": "situacion_casa",
         "dtype": "object",
         "stats": {
          "unique_count": 4,
          "nan_count": 0,
          "categories": [
           {
            "name": "5000",
            "count": 1
           },
           {
            "name": "4",
            "count": 1
           },
           {
            "name": "2 others",
            "count": 2
           }
          ]
         }
        },
        {
         "name": "fecha_ingreso_empleo",
         "dtype": "object",
         "stats": {
          "unique_count": 4,
          "nan_count": 0,
          "categories": [
           {
            "name": "5000",
            "count": 1
           },
           {
            "name": "941",
            "count": 1
           },
           {
            "name": "2 others",
            "count": 2
           }
          ]
         }
        },
        {
         "name": "zona_geografica",
         "dtype": "object",
         "stats": {
          "unique_count": 4,
          "nan_count": 0,
          "categories": [
           {
            "name": "5000",
            "count": 1
           },
           {
            "name": "25",
            "count": 1
           },
           {
            "name": "2 others",
            "count": 2
           }
          ]
         }
        },
        {
         "name": "nivel_educativo",
         "dtype": "object",
         "stats": {
          "unique_count": 4,
          "nan_count": 0,
          "categories": [
           {
            "name": "5000",
            "count": 1
           },
           {
            "name": "5",
            "count": 1
           },
           {
            "name": "2 others",
            "count": 2
           }
          ]
         }
        },
        {
         "name": "edad_binned",
         "dtype": "object",
         "stats": {
          "unique_count": 4,
          "nan_count": 0,
          "categories": [
           {
            "name": "5000",
            "count": 1
           },
           {
            "name": "3",
            "count": 1
           },
           {
            "name": "2 others",
            "count": 2
           }
          ]
         }
        },
        {
         "name": "_deepnote_index_column",
         "dtype": "object"
        }
       ],
       "rows": [
        {
         "situacion_casa": "5000",
         "fecha_ingreso_empleo": "5000",
         "zona_geografica": "5000",
         "nivel_educativo": "5000",
         "edad_binned": "5000",
         "_deepnote_index_column": "count"
        },
        {
         "situacion_casa": "4",
         "fecha_ingreso_empleo": "941",
         "zona_geografica": "25",
         "nivel_educativo": "5",
         "edad_binned": "3",
         "_deepnote_index_column": "unique"
        },
        {
         "situacion_casa": "FAMILIAR",
         "fecha_ingreso_empleo": "2000-01-01",
         "zona_geografica": "Lima",
         "nivel_educativo": "PROFESIONAL",
         "edad_binned": "joven",
         "_deepnote_index_column": "top"
        },
        {
         "situacion_casa": "3471",
         "fecha_ingreso_empleo": "144",
         "zona_geografica": "2948",
         "nivel_educativo": "2666",
         "edad_binned": "3659",
         "_deepnote_index_column": "freq"
        }
       ]
      },
      "text/plain": "       situacion_casa fecha_ingreso_empleo zona_geografica nivel_educativo  \\\ncount            5000                 5000            5000            5000   \nunique              4                  941              25               5   \ntop          FAMILIAR           2000-01-01            Lima     PROFESIONAL   \nfreq             3471                  144            2948            2666   \n\n       edad_binned  \ncount         5000  \nunique           3  \ntop          joven  \nfreq          3659  ",
      "text/html": "<div>\n<style scoped>\n    .dataframe tbody tr th:only-of-type {\n        vertical-align: middle;\n    }\n\n    .dataframe tbody tr th {\n        vertical-align: top;\n    }\n\n    .dataframe thead th {\n        text-align: right;\n    }\n</style>\n<table border=\"1\" class=\"dataframe\">\n  <thead>\n    <tr style=\"text-align: right;\">\n      <th></th>\n      <th>situacion_casa</th>\n      <th>fecha_ingreso_empleo</th>\n      <th>zona_geografica</th>\n      <th>nivel_educativo</th>\n      <th>edad_binned</th>\n    </tr>\n  </thead>\n  <tbody>\n    <tr>\n      <th>count</th>\n      <td>5000</td>\n      <td>5000</td>\n      <td>5000</td>\n      <td>5000</td>\n      <td>5000</td>\n    </tr>\n    <tr>\n      <th>unique</th>\n      <td>4</td>\n      <td>941</td>\n      <td>25</td>\n      <td>5</td>\n      <td>3</td>\n    </tr>\n    <tr>\n      <th>top</th>\n      <td>FAMILIAR</td>\n      <td>2000-01-01</td>\n      <td>Lima</td>\n      <td>PROFESIONAL</td>\n      <td>joven</td>\n    </tr>\n    <tr>\n      <th>freq</th>\n      <td>3471</td>\n      <td>144</td>\n      <td>2948</td>\n      <td>2666</td>\n      <td>3659</td>\n    </tr>\n  </tbody>\n</table>\n</div>"
     },
     "metadata": {}
    }
   ]
  },
  {
   "cell_type": "markdown",
   "source": "# Search variables to make prediction",
   "metadata": {
    "cell_id": "61e91bb4-346c-43f2-8a90-754224644d58",
    "tags": [],
    "deepnote_cell_type": "markdown",
    "deepnote_cell_height": 61.1875
   }
  },
  {
   "cell_type": "markdown",
   "source": "1. Minimizar riesgos\n2. Qué clientes tienen alta probabilidad de mora\n3. Qué clientes son suceptibles a retrasarse en sus pagos\n4. Qué clientes son suceptibles a incumplir sus pagos\n5. Dos(2) variables más relevantes\n6. Dos(2) variables menos relevantes\n7. Qué recomendación daría al cliente",
   "metadata": {
    "cell_id": "a77b6794-b2a6-4f94-8905-303b737c09f9",
    "tags": [],
    "deepnote_cell_type": "markdown",
    "deepnote_cell_height": 221.796875
   }
  },
  {
   "cell_type": "code",
   "metadata": {
    "cell_id": "4391bb90-2084-46b4-b799-661067037190",
    "tags": [],
    "deepnote_to_be_reexecuted": false,
    "source_hash": "9158825e",
    "execution_start": 1647106548557,
    "execution_millis": 4,
    "deepnote_cell_type": "code",
    "deepnote_cell_height": 81
   },
   "source": "# Will be continue",
   "execution_count": null,
   "outputs": []
  },
  {
   "cell_type": "markdown",
   "source": "<a style='text-decoration:none;line-height:16px;display:flex;color:#5B5B62;padding:10px;justify-content:end;' href='https://deepnote.com?utm_source=created-in-deepnote-cell&projectId=14e858d9-0539-45d5-ab0b-ac63c06705c9' target=\"_blank\">\n<img alt='Created in deepnote.com' style='display:inline;max-height:16px;margin:0px;margin-right:7.5px;' src='data:image/svg+xml;base64,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' > </img>\nCreated in <span style='font-weight:600;margin-left:4px;'>Deepnote</span></a>",
   "metadata": {
    "tags": [],
    "created_in_deepnote_cell": true,
    "deepnote_cell_type": "markdown"
   }
  }
 ],
 "nbformat": 4,
 "nbformat_minor": 2,
 "metadata": {
  "orig_nbformat": 2,
  "deepnote": {
   "is_reactive": false
  },
  "deepnote_notebook_id": "d5f2b47d-2c31-4d6d-a36f-e43dca0b6289",
  "deepnote_execution_queue": []
 }
}