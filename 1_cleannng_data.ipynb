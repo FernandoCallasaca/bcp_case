{
 "cells": [
  {
   "cell_type": "markdown",
   "source": "# Prepare our Environement",
   "metadata": {
    "tags": [],
    "cell_id": "fc6d5948-96a5-4c95-9403-d7abd2d507a8",
    "deepnote_cell_type": "markdown",
    "deepnote_cell_height": 92.34375
   }
  },
  {
   "cell_type": "markdown",
   "source": "## For Manipulate data",
   "metadata": {
    "cell_id": "f4c7ae8c-d07c-42f0-a992-e1c8d94c17fd",
    "tags": [],
    "deepnote_cell_type": "markdown",
    "deepnote_cell_height": 69.96875
   }
  },
  {
   "cell_type": "code",
   "metadata": {
    "cell_id": "dfc1caff-17d5-4f0c-b505-f56278f05080",
    "tags": [],
    "deepnote_to_be_reexecuted": false,
    "source_hash": "cf4ba56c",
    "execution_start": 1647270233629,
    "execution_millis": 1357,
    "deepnote_cell_type": "code",
    "deepnote_cell_height": 226.109375,
    "deepnote_output_heights": [
     21.1875
    ]
   },
   "source": "import pandas as pd\nimport numpy as np\nimport matplotlib.pyplot as plt\nimport seaborn as sns\nfrom scipy import stats\n%matplotlib inline\npd.__version__",
   "outputs": [
    {
     "output_type": "execute_result",
     "execution_count": 1,
     "data": {
      "text/plain": "'1.3.5'"
     },
     "metadata": {}
    }
   ],
   "execution_count": null
  },
  {
   "cell_type": "code",
   "metadata": {
    "cell_id": "3e1ce246-3714-4217-b493-6ede29223b65",
    "tags": [],
    "deepnote_to_be_reexecuted": false,
    "source_hash": "4603e43",
    "execution_start": 1647270234994,
    "execution_millis": 0,
    "deepnote_cell_type": "code",
    "deepnote_cell_height": 80.953125
   },
   "source": "pd.options.display.float_format = '{:,.3f}'.format",
   "outputs": [],
   "execution_count": null
  },
  {
   "cell_type": "code",
   "metadata": {
    "cell_id": "76a3c994-c8bf-4fed-b78a-f56ef55d9600",
    "tags": [],
    "deepnote_to_be_reexecuted": false,
    "source_hash": "83db5782",
    "execution_start": 1647270234999,
    "execution_millis": 2,
    "deepnote_cell_type": "code",
    "deepnote_cell_height": 80.953125
   },
   "source": "np.set_printoptions(precision=3)",
   "outputs": [],
   "execution_count": null
  },
  {
   "cell_type": "markdown",
   "source": "# Load Dataset",
   "metadata": {
    "cell_id": "ea0639f6-9c1b-4199-84a5-95f3cf3b4db9",
    "tags": [],
    "deepnote_cell_type": "markdown",
    "deepnote_cell_height": 81.96875
   }
  },
  {
   "cell_type": "code",
   "metadata": {
    "cell_id": "9875b43e-0daf-456b-a566-bd8964e584c7",
    "tags": [],
    "deepnote_to_be_reexecuted": false,
    "source_hash": "bdbb0911",
    "execution_start": 1647270235008,
    "execution_millis": 1,
    "deepnote_cell_type": "code",
    "deepnote_cell_height": 136.109375,
    "deepnote_output_heights": [
     21.1875
    ]
   },
   "source": "path_file = 'caso_TC.xlsx'\npath_file",
   "outputs": [
    {
     "output_type": "execute_result",
     "execution_count": 4,
     "data": {
      "text/plain": "'caso_TC.xlsx'"
     },
     "metadata": {}
    }
   ],
   "execution_count": null
  },
  {
   "cell_type": "code",
   "metadata": {
    "cell_id": "12312c19-c517-44bd-83dc-d98f82b2c9fe",
    "tags": [],
    "deepnote_to_be_reexecuted": false,
    "source_hash": "2184a11c",
    "execution_start": 1647270235056,
    "execution_millis": 1,
    "deepnote_cell_type": "code",
    "deepnote_cell_height": 152.9375
   },
   "source": "headers = ['id', 'mora_60', 'dias_atraso_12_meses_antes', 'situacion_casa', 'edad',\n        'fecha_ingreso_empleo', 'antiguedad_tc_meses', 'producto_pasivo_12_meses_antes',\n        'ingreso_mensual', 'monto_linea_tc', 'monto_saldo_deudor_prom',\n        'score_aprob_tc', 'nro_veces_abono_12m_antes', 'zona_geografica',\n        'riesgos_sbs', 'nivel_educativo']",
   "outputs": [],
   "execution_count": null
  },
  {
   "cell_type": "code",
   "metadata": {
    "cell_id": "c17bb50c-c599-4258-9e45-e33099ee4d68",
    "tags": [],
    "deepnote_to_be_reexecuted": false,
    "source_hash": "39dc2306",
    "execution_start": 1647270235057,
    "execution_millis": 3149,
    "deepnote_cell_type": "code",
    "deepnote_cell_height": 236.609375
   },
   "source": "pip install openpyxl",
   "outputs": [
    {
     "name": "stdout",
     "text": "Requirement already satisfied: openpyxl in /usr/local/lib/python3.7/site-packages (3.0.9)\nRequirement already satisfied: et-xmlfile in /usr/local/lib/python3.7/site-packages (from openpyxl) (1.1.0)\n\u001b[33mWARNING: You are using pip version 20.1.1; however, version 22.0.4 is available.\nYou should consider upgrading via the '/usr/local/bin/python -m pip install --upgrade pip' command.\u001b[0m\nNote: you may need to restart the kernel to use updated packages.\n",
     "output_type": "stream"
    }
   ],
   "execution_count": null
  },
  {
   "cell_type": "code",
   "metadata": {
    "cell_id": "56b9486a-101c-48f3-aaa5-a2c019ab453e",
    "tags": [],
    "deepnote_to_be_reexecuted": false,
    "source_hash": "2486baeb",
    "execution_start": 1647270238279,
    "execution_millis": 1651,
    "deepnote_cell_type": "code",
    "deepnote_cell_height": 652.40625
   },
   "source": "# read our data using read_excel function and give column names and select the MUESTRA sheet\ndf_bcp = pd.read_excel(io = path_file, sheet_name='MUESTRA', names=headers)\ndf_bcp",
   "outputs": [
    {
     "output_type": "execute_result",
     "execution_count": 7,
     "data": {
      "application/vnd.deepnote.dataframe.v3+json": {
       "column_count": 16,
       "row_count": 5000,
       "columns": [
        {
         "name": "id",
         "dtype": "int64",
         "stats": {
          "unique_count": 5000,
          "nan_count": 0,
          "min": "1",
          "max": "5000",
          "histogram": [
           {
            "bin_start": 1,
            "bin_end": 500.9,
            "count": 500
           },
           {
            "bin_start": 500.9,
            "bin_end": 1000.8,
            "count": 500
           },
           {
            "bin_start": 1000.8,
            "bin_end": 1500.6999999999998,
            "count": 500
           },
           {
            "bin_start": 1500.6999999999998,
            "bin_end": 2000.6,
            "count": 500
           },
           {
            "bin_start": 2000.6,
            "bin_end": 2500.5,
            "count": 500
           },
           {
            "bin_start": 2500.5,
            "bin_end": 3000.3999999999996,
            "count": 500
           },
           {
            "bin_start": 3000.3999999999996,
            "bin_end": 3500.2999999999997,
            "count": 500
           },
           {
            "bin_start": 3500.2999999999997,
            "bin_end": 4000.2,
            "count": 500
           },
           {
            "bin_start": 4000.2,
            "bin_end": 4500.099999999999,
            "count": 500
           },
           {
            "bin_start": 4500.099999999999,
            "bin_end": 5000,
            "count": 500
           }
          ]
         }
        },
        {
         "name": "mora_60",
         "dtype": "int64",
         "stats": {
          "unique_count": 2,
          "nan_count": 0,
          "min": "0",
          "max": "1",
          "histogram": [
           {
            "bin_start": 0,
            "bin_end": 0.1,
            "count": 1500
           },
           {
            "bin_start": 0.1,
            "bin_end": 0.2,
            "count": 0
           },
           {
            "bin_start": 0.2,
            "bin_end": 0.30000000000000004,
            "count": 0
           },
           {
            "bin_start": 0.30000000000000004,
            "bin_end": 0.4,
            "count": 0
           },
           {
            "bin_start": 0.4,
            "bin_end": 0.5,
            "count": 0
           },
           {
            "bin_start": 0.5,
            "bin_end": 0.6000000000000001,
            "count": 0
           },
           {
            "bin_start": 0.6000000000000001,
            "bin_end": 0.7000000000000001,
            "count": 0
           },
           {
            "bin_start": 0.7000000000000001,
            "bin_end": 0.8,
            "count": 0
           },
           {
            "bin_start": 0.8,
            "bin_end": 0.9,
            "count": 0
           },
           {
            "bin_start": 0.9,
            "bin_end": 1,
            "count": 3500
           }
          ]
         }
        },
        {
         "name": "dias_atraso_12_meses_antes",
         "dtype": "int64",
         "stats": {
          "unique_count": 63,
          "nan_count": 0,
          "min": "0",
          "max": "245",
          "histogram": [
           {
            "bin_start": 0,
            "bin_end": 24.5,
            "count": 4699
           },
           {
            "bin_start": 24.5,
            "bin_end": 49,
            "count": 237
           },
           {
            "bin_start": 49,
            "bin_end": 73.5,
            "count": 46
           },
           {
            "bin_start": 73.5,
            "bin_end": 98,
            "count": 6
           },
           {
            "bin_start": 98,
            "bin_end": 122.5,
            "count": 3
           },
           {
            "bin_start": 122.5,
            "bin_end": 147,
            "count": 0
           },
           {
            "bin_start": 147,
            "bin_end": 171.5,
            "count": 0
           },
           {
            "bin_start": 171.5,
            "bin_end": 196,
            "count": 0
           },
           {
            "bin_start": 196,
            "bin_end": 220.5,
            "count": 2
           },
           {
            "bin_start": 220.5,
            "bin_end": 245,
            "count": 7
           }
          ]
         }
        },
        {
         "name": "situacion_casa",
         "dtype": "object",
         "stats": {
          "unique_count": 4,
          "nan_count": 0,
          "categories": [
           {
            "name": "FAMILIAR",
            "count": 3471
           },
           {
            "name": "PROPIA",
            "count": 1429
           },
           {
            "name": "2 others",
            "count": 100
           }
          ]
         }
        },
        {
         "name": "edad",
         "dtype": "int64",
         "stats": {
          "unique_count": 56,
          "nan_count": 0,
          "min": "20",
          "max": "85",
          "histogram": [
           {
            "bin_start": 20,
            "bin_end": 26.5,
            "count": 703
           },
           {
            "bin_start": 26.5,
            "bin_end": 33,
            "count": 1381
           },
           {
            "bin_start": 33,
            "bin_end": 39.5,
            "count": 1291
           },
           {
            "bin_start": 39.5,
            "bin_end": 46,
            "count": 694
           },
           {
            "bin_start": 46,
            "bin_end": 52.5,
            "count": 536
           },
           {
            "bin_start": 52.5,
            "bin_end": 59,
            "count": 261
           },
           {
            "bin_start": 59,
            "bin_end": 65.5,
            "count": 118
           },
           {
            "bin_start": 65.5,
            "bin_end": 72,
            "count": 12
           },
           {
            "bin_start": 72,
            "bin_end": 78.5,
            "count": 2
           },
           {
            "bin_start": 78.5,
            "bin_end": 85,
            "count": 2
           }
          ]
         }
        },
        {
         "name": "fecha_ingreso_empleo",
         "dtype": "datetime64[ns]",
         "stats": {
          "unique_count": 941,
          "nan_count": 0,
          "min": "1961-01-01 00:00:00",
          "max": "2009-08-01 00:00:00",
          "histogram": [
           {
            "bin_start": -283996800000000000,
            "bin_end": -130688640000000000,
            "count": 4
           },
           {
            "bin_start": -130688640000000000,
            "bin_end": 22619520000000000,
            "count": 5
           },
           {
            "bin_start": 22619520000000000,
            "bin_end": 175927680000000000,
            "count": 23
           },
           {
            "bin_start": 175927680000000000,
            "bin_end": 329235840000000000,
            "count": 42
           },
           {
            "bin_start": 329235840000000000,
            "bin_end": 482544000000000000,
            "count": 72
           },
           {
            "bin_start": 482544000000000000,
            "bin_end": 635852160000000000,
            "count": 99
           },
           {
            "bin_start": 635852160000000000,
            "bin_end": 789160320000000000,
            "count": 223
           },
           {
            "bin_start": 789160320000000000,
            "bin_end": 942468480000000000,
            "count": 524
           },
           {
            "bin_start": 942468480000000000,
            "bin_end": 1095776640000000000,
            "count": 1752
           },
           {
            "bin_start": 1095776640000000000,
            "bin_end": 1249084800000000000,
            "count": 2256
           }
          ]
         }
        },
        {
         "name": "antiguedad_tc_meses",
         "dtype": "int64",
         "stats": {
          "unique_count": 126,
          "nan_count": 0,
          "min": "0",
          "max": "130",
          "histogram": [
           {
            "bin_start": 0,
            "bin_end": 13,
            "count": 2559
           },
           {
            "bin_start": 13,
            "bin_end": 26,
            "count": 749
           },
           {
            "bin_start": 26,
            "bin_end": 39,
            "count": 408
           },
           {
            "bin_start": 39,
            "bin_end": 52,
            "count": 328
           },
           {
            "bin_start": 52,
            "bin_end": 65,
            "count": 208
           },
           {
            "bin_start": 65,
            "bin_end": 78,
            "count": 143
           },
           {
            "bin_start": 78,
            "bin_end": 91,
            "count": 267
           },
           {
            "bin_start": 91,
            "bin_end": 104,
            "count": 191
           },
           {
            "bin_start": 104,
            "bin_end": 117,
            "count": 111
           },
           {
            "bin_start": 117,
            "bin_end": 130,
            "count": 36
           }
          ]
         }
        },
        {
         "name": "producto_pasivo_12_meses_antes",
         "dtype": "int64",
         "stats": {
          "unique_count": 13,
          "nan_count": 0,
          "min": "0",
          "max": "12",
          "histogram": [
           {
            "bin_start": 0,
            "bin_end": 1.2,
            "count": 350
           },
           {
            "bin_start": 1.2,
            "bin_end": 2.4,
            "count": 44
           },
           {
            "bin_start": 2.4,
            "bin_end": 3.5999999999999996,
            "count": 36
           },
           {
            "bin_start": 3.5999999999999996,
            "bin_end": 4.8,
            "count": 61
           },
           {
            "bin_start": 4.8,
            "bin_end": 6,
            "count": 39
           },
           {
            "bin_start": 6,
            "bin_end": 7.199999999999999,
            "count": 102
           },
           {
            "bin_start": 7.199999999999999,
            "bin_end": 8.4,
            "count": 70
           },
           {
            "bin_start": 8.4,
            "bin_end": 9.6,
            "count": 78
           },
           {
            "bin_start": 9.6,
            "bin_end": 10.799999999999999,
            "count": 103
           },
           {
            "bin_start": 10.799999999999999,
            "bin_end": 12,
            "count": 4117
           }
          ]
         }
        },
        {
         "name": "ingreso_mensual",
         "dtype": "float64",
         "stats": {
          "unique_count": 2293,
          "nan_count": 0,
          "min": "123.7",
          "max": "30000.0",
          "histogram": [
           {
            "bin_start": 123.7,
            "bin_end": 3111.33,
            "count": 3102
           },
           {
            "bin_start": 3111.33,
            "bin_end": 6098.96,
            "count": 943
           },
           {
            "bin_start": 6098.96,
            "bin_end": 9086.59,
            "count": 402
           },
           {
            "bin_start": 9086.59,
            "bin_end": 12074.220000000001,
            "count": 177
           },
           {
            "bin_start": 12074.220000000001,
            "bin_end": 15061.850000000002,
            "count": 126
           },
           {
            "bin_start": 15061.850000000002,
            "bin_end": 18049.48,
            "count": 65
           },
           {
            "bin_start": 18049.48,
            "bin_end": 21037.11,
            "count": 41
           },
           {
            "bin_start": 21037.11,
            "bin_end": 24024.74,
            "count": 34
           },
           {
            "bin_start": 24024.74,
            "bin_end": 27012.370000000003,
            "count": 17
           },
           {
            "bin_start": 27012.370000000003,
            "bin_end": 30000,
            "count": 93
           }
          ]
         }
        },
        {
         "name": "monto_linea_tc",
         "dtype": "float64",
         "stats": {
          "unique_count": 3240,
          "nan_count": 0,
          "min": "0.0",
          "max": "121543.4",
          "histogram": [
           {
            "bin_start": 0,
            "bin_end": 12154.34,
            "count": 3927
           },
           {
            "bin_start": 12154.34,
            "bin_end": 24308.68,
            "count": 479
           },
           {
            "bin_start": 24308.68,
            "bin_end": 36463.020000000004,
            "count": 235
           },
           {
            "bin_start": 36463.020000000004,
            "bin_end": 48617.36,
            "count": 119
           },
           {
            "bin_start": 48617.36,
            "bin_end": 60771.7,
            "count": 70
           },
           {
            "bin_start": 60771.7,
            "bin_end": 72926.04000000001,
            "count": 37
           },
           {
            "bin_start": 72926.04000000001,
            "bin_end": 85080.38,
            "count": 30
           },
           {
            "bin_start": 85080.38,
            "bin_end": 97234.72,
            "count": 22
           },
           {
            "bin_start": 97234.72,
            "bin_end": 109389.06,
            "count": 18
           },
           {
            "bin_start": 109389.06,
            "bin_end": 121543.4,
            "count": 63
           }
          ]
         }
        },
        {
         "name": "monto_saldo_deudor_prom",
         "dtype": "float64",
         "stats": {
          "unique_count": 3851,
          "nan_count": 0,
          "min": "0.0",
          "max": "57094.38",
          "histogram": [
           {
            "bin_start": 0,
            "bin_end": 5709.438,
            "count": 3809
           },
           {
            "bin_start": 5709.438,
            "bin_end": 11418.876,
            "count": 576
           },
           {
            "bin_start": 11418.876,
            "bin_end": 17128.314,
            "count": 208
           },
           {
            "bin_start": 17128.314,
            "bin_end": 22837.752,
            "count": 103
           },
           {
            "bin_start": 22837.752,
            "bin_end": 28547.190000000002,
            "count": 70
           },
           {
            "bin_start": 28547.190000000002,
            "bin_end": 34256.628,
            "count": 39
           },
           {
            "bin_start": 34256.628,
            "bin_end": 39966.066,
            "count": 24
           },
           {
            "bin_start": 39966.066,
            "bin_end": 45675.504,
            "count": 27
           },
           {
            "bin_start": 45675.504,
            "bin_end": 51384.942,
            "count": 17
           },
           {
            "bin_start": 51384.942,
            "bin_end": 57094.38,
            "count": 127
           }
          ]
         }
        },
        {
         "name": "score_aprob_tc",
         "dtype": "int64",
         "stats": {
          "unique_count": 110,
          "nan_count": 0,
          "min": "134",
          "max": "266",
          "histogram": [
           {
            "bin_start": 134,
            "bin_end": 147.2,
            "count": 7
           },
           {
            "bin_start": 147.2,
            "bin_end": 160.4,
            "count": 170
           },
           {
            "bin_start": 160.4,
            "bin_end": 173.6,
            "count": 358
           },
           {
            "bin_start": 173.6,
            "bin_end": 186.8,
            "count": 983
           },
           {
            "bin_start": 186.8,
            "bin_end": 200,
            "count": 1287
           },
           {
            "bin_start": 200,
            "bin_end": 213.2,
            "count": 1087
           },
           {
            "bin_start": 213.2,
            "bin_end": 226.39999999999998,
            "count": 830
           },
           {
            "bin_start": 226.39999999999998,
            "bin_end": 239.6,
            "count": 231
           },
           {
            "bin_start": 239.6,
            "bin_end": 252.8,
            "count": 39
           },
           {
            "bin_start": 252.8,
            "bin_end": 266,
            "count": 8
           }
          ]
         }
        },
        {
         "name": "nro_veces_abono_12m_antes",
         "dtype": "int64",
         "stats": {
          "unique_count": 13,
          "nan_count": 0,
          "min": "0",
          "max": "12",
          "histogram": [
           {
            "bin_start": 0,
            "bin_end": 1.2,
            "count": 1426
           },
           {
            "bin_start": 1.2,
            "bin_end": 2.4,
            "count": 51
           },
           {
            "bin_start": 2.4,
            "bin_end": 3.5999999999999996,
            "count": 32
           },
           {
            "bin_start": 3.5999999999999996,
            "bin_end": 4.8,
            "count": 34
           },
           {
            "bin_start": 4.8,
            "bin_end": 6,
            "count": 43
           },
           {
            "bin_start": 6,
            "bin_end": 7.199999999999999,
            "count": 136
           },
           {
            "bin_start": 7.199999999999999,
            "bin_end": 8.4,
            "count": 81
           },
           {
            "bin_start": 8.4,
            "bin_end": 9.6,
            "count": 108
           },
           {
            "bin_start": 9.6,
            "bin_end": 10.799999999999999,
            "count": 190
           },
           {
            "bin_start": 10.799999999999999,
            "bin_end": 12,
            "count": 2899
           }
          ]
         }
        },
        {
         "name": "zona_geografica",
         "dtype": "object",
         "stats": {
          "unique_count": 25,
          "nan_count": 0,
          "categories": [
           {
            "name": "Lima",
            "count": 2948
           },
           {
            "name": "Callao",
            "count": 299
           },
           {
            "name": "23 others",
            "count": 1753
           }
          ]
         }
        },
        {
         "name": "riesgos_sbs",
         "dtype": "int64",
         "stats": {
          "unique_count": 5,
          "nan_count": 0,
          "min": "0",
          "max": "4",
          "histogram": [
           {
            "bin_start": 0,
            "bin_end": 0.4,
            "count": 3142
           },
           {
            "bin_start": 0.4,
            "bin_end": 0.8,
            "count": 0
           },
           {
            "bin_start": 0.8,
            "bin_end": 1.2000000000000002,
            "count": 1242
           },
           {
            "bin_start": 1.2000000000000002,
            "bin_end": 1.6,
            "count": 0
           },
           {
            "bin_start": 1.6,
            "bin_end": 2,
            "count": 0
           },
           {
            "bin_start": 2,
            "bin_end": 2.4000000000000004,
            "count": 390
           },
           {
            "bin_start": 2.4000000000000004,
            "bin_end": 2.8000000000000003,
            "count": 0
           },
           {
            "bin_start": 2.8000000000000003,
            "bin_end": 3.2,
            "count": 108
           },
           {
            "bin_start": 3.2,
            "bin_end": 3.6,
            "count": 0
           },
           {
            "bin_start": 3.6,
            "bin_end": 4,
            "count": 118
           }
          ]
         }
        },
        {
         "name": "nivel_educativo",
         "dtype": "object",
         "stats": {
          "unique_count": 5,
          "nan_count": 0,
          "categories": [
           {
            "name": "PROFESIONAL",
            "count": 2666
           },
           {
            "name": "TECNICO",
            "count": 1958
           },
           {
            "name": "3 others",
            "count": 376
           }
          ]
         }
        },
        {
         "name": "_deepnote_index_column",
         "dtype": "int64"
        }
       ],
       "rows": [
        {
         "id": 1,
         "mora_60": 0,
         "dias_atraso_12_meses_antes": 235,
         "situacion_casa": "FAMILIAR",
         "edad": 30,
         "fecha_ingreso_empleo": "2007-06-01T00:00:00.000000",
         "antiguedad_tc_meses": 93,
         "producto_pasivo_12_meses_antes": 5,
         "ingreso_mensual": 3500,
         "monto_linea_tc": 0,
         "monto_saldo_deudor_prom": 0,
         "score_aprob_tc": 214,
         "nro_veces_abono_12m_antes": 5,
         "zona_geografica": "Lima",
         "riesgos_sbs": 4,
         "nivel_educativo": "PROFESIONAL",
         "_deepnote_index_column": 0
        },
        {
         "id": 2,
         "mora_60": 0,
         "dias_atraso_12_meses_antes": 18,
         "situacion_casa": "FAMILIAR",
         "edad": 32,
         "fecha_ingreso_empleo": "2005-02-01T00:00:00.000000",
         "antiguedad_tc_meses": 9,
         "producto_pasivo_12_meses_antes": 12,
         "ingreso_mensual": 900,
         "monto_linea_tc": 1824.67,
         "monto_saldo_deudor_prom": 1933.75,
         "score_aprob_tc": 175,
         "nro_veces_abono_12m_antes": 12,
         "zona_geografica": "La Libertad",
         "riesgos_sbs": 1,
         "nivel_educativo": "TECNICO",
         "_deepnote_index_column": 1
        },
        {
         "id": 3,
         "mora_60": 0,
         "dias_atraso_12_meses_antes": 0,
         "situacion_casa": "FAMILIAR",
         "edad": 26,
         "fecha_ingreso_empleo": "2003-08-01T00:00:00.000000",
         "antiguedad_tc_meses": 8,
         "producto_pasivo_12_meses_antes": 2,
         "ingreso_mensual": 2400,
         "monto_linea_tc": 2797.38,
         "monto_saldo_deudor_prom": 188.29,
         "score_aprob_tc": 187,
         "nro_veces_abono_12m_antes": 0,
         "zona_geografica": "Lima",
         "riesgos_sbs": 0,
         "nivel_educativo": "PROFESIONAL",
         "_deepnote_index_column": 2
        },
        {
         "id": 4,
         "mora_60": 0,
         "dias_atraso_12_meses_antes": 0,
         "situacion_casa": "FAMILIAR",
         "edad": 36,
         "fecha_ingreso_empleo": "2003-07-01T00:00:00.000000",
         "antiguedad_tc_meses": 20,
         "producto_pasivo_12_meses_antes": 12,
         "ingreso_mensual": 2700,
         "monto_linea_tc": 0,
         "monto_saldo_deudor_prom": 0,
         "score_aprob_tc": 187,
         "nro_veces_abono_12m_antes": 12,
         "zona_geografica": "Ancash",
         "riesgos_sbs": 0,
         "nivel_educativo": "TECNICO",
         "_deepnote_index_column": 3
        },
        {
         "id": 5,
         "mora_60": 0,
         "dias_atraso_12_meses_antes": 0,
         "situacion_casa": "FAMILIAR",
         "edad": 46,
         "fecha_ingreso_empleo": "2006-11-01T00:00:00.000000",
         "antiguedad_tc_meses": 0,
         "producto_pasivo_12_meses_antes": 1,
         "ingreso_mensual": 3100,
         "monto_linea_tc": 2000,
         "monto_saldo_deudor_prom": 11010.65,
         "score_aprob_tc": 189,
         "nro_veces_abono_12m_antes": 0,
         "zona_geografica": "Lima",
         "riesgos_sbs": 0,
         "nivel_educativo": "TECNICO",
         "_deepnote_index_column": 4
        },
        {
         "id": 6,
         "mora_60": 0,
         "dias_atraso_12_meses_antes": 22,
         "situacion_casa": "FAMILIAR",
         "edad": 25,
         "fecha_ingreso_empleo": "2004-05-01T00:00:00.000000",
         "antiguedad_tc_meses": 9,
         "producto_pasivo_12_meses_antes": 12,
         "ingreso_mensual": 2200,
         "monto_linea_tc": 449.92,
         "monto_saldo_deudor_prom": 496.58,
         "score_aprob_tc": 220,
         "nro_veces_abono_12m_antes": 11,
         "zona_geografica": "Lima",
         "riesgos_sbs": 0,
         "nivel_educativo": "PROFESIONAL",
         "_deepnote_index_column": 5
        },
        {
         "id": 7,
         "mora_60": 0,
         "dias_atraso_12_meses_antes": 9,
         "situacion_casa": "FAMILIAR",
         "edad": 30,
         "fecha_ingreso_empleo": "2006-12-01T00:00:00.000000",
         "antiguedad_tc_meses": 12,
         "producto_pasivo_12_meses_antes": 8,
         "ingreso_mensual": 2100,
         "monto_linea_tc": 4827.64,
         "monto_saldo_deudor_prom": 850.21,
         "score_aprob_tc": 193,
         "nro_veces_abono_12m_antes": 7,
         "zona_geografica": "Lima",
         "riesgos_sbs": 0,
         "nivel_educativo": "PROFESIONAL",
         "_deepnote_index_column": 6
        },
        {
         "id": 8,
         "mora_60": 0,
         "dias_atraso_12_meses_antes": 8,
         "situacion_casa": "PROPIA",
         "edad": 55,
         "fecha_ingreso_empleo": "2004-01-01T00:00:00.000000",
         "antiguedad_tc_meses": 23,
         "producto_pasivo_12_meses_antes": 12,
         "ingreso_mensual": 5593.21,
         "monto_linea_tc": 10467,
         "monto_saldo_deudor_prom": 18620.8,
         "score_aprob_tc": 199,
         "nro_veces_abono_12m_antes": 12,
         "zona_geografica": "Piura",
         "riesgos_sbs": 0,
         "nivel_educativo": "TECNICO",
         "_deepnote_index_column": 7
        },
        {
         "id": 9,
         "mora_60": 0,
         "dias_atraso_12_meses_antes": 2,
         "situacion_casa": "FAMILIAR",
         "edad": 30,
         "fecha_ingreso_empleo": "2003-12-01T00:00:00.000000",
         "antiguedad_tc_meses": 0,
         "producto_pasivo_12_meses_antes": 0,
         "ingreso_mensual": 2000,
         "monto_linea_tc": 7315.41,
         "monto_saldo_deudor_prom": 0,
         "score_aprob_tc": 156,
         "nro_veces_abono_12m_antes": 0,
         "zona_geografica": "Piura",
         "riesgos_sbs": 0,
         "nivel_educativo": "PROFESIONAL",
         "_deepnote_index_column": 8
        },
        {
         "id": 10,
         "mora_60": 0,
         "dias_atraso_12_meses_antes": 0,
         "situacion_casa": "FAMILIAR",
         "edad": 31,
         "fecha_ingreso_empleo": "2004-02-01T00:00:00.000000",
         "antiguedad_tc_meses": 0,
         "producto_pasivo_12_meses_antes": 4,
         "ingreso_mensual": 3800,
         "monto_linea_tc": 0,
         "monto_saldo_deudor_prom": 0,
         "score_aprob_tc": 192,
         "nro_veces_abono_12m_antes": 0,
         "zona_geografica": "Ica",
         "riesgos_sbs": 0,
         "nivel_educativo": "TECNICO",
         "_deepnote_index_column": 9
        }
       ]
      },
      "text/plain": "        id  mora_60  dias_atraso_12_meses_antes situacion_casa  edad  \\\n0        1        0                         235       FAMILIAR    30   \n1        2        0                          18       FAMILIAR    32   \n2        3        0                           0       FAMILIAR    26   \n3        4        0                           0       FAMILIAR    36   \n4        5        0                           0       FAMILIAR    46   \n...    ...      ...                         ...            ...   ...   \n4995  4996        1                           0       FAMILIAR    76   \n4996  4997        1                           0       FAMILIAR    33   \n4997  4998        1                           0       FAMILIAR    38   \n4998  4999        1                           0         PROPIA    45   \n4999  5000        1                           0         PROPIA    57   \n\n     fecha_ingreso_empleo  antiguedad_tc_meses  \\\n0              2007-06-01                   93   \n1              2005-02-01                    9   \n2              2003-08-01                    8   \n3              2003-07-01                   20   \n4              2006-11-01                    0   \n...                   ...                  ...   \n4995           2000-01-01                   90   \n4996           2000-02-01                   44   \n4997           1992-09-01                  102   \n4998           1990-01-01                   87   \n4999           1983-03-01                   68   \n\n      producto_pasivo_12_meses_antes  ingreso_mensual  monto_linea_tc  \\\n0                                  5        3,500.000           0.000   \n1                                 12          900.000       1,824.670   \n2                                  2        2,400.000       2,797.380   \n3                                 12        2,700.000           0.000   \n4                                  1        3,100.000       2,000.000   \n...                              ...              ...             ...   \n4995                              12       30,000.000      58,083.420   \n4996                              12       30,000.000         339.980   \n4997                              12        8,500.000      72,685.200   \n4998                              12       30,000.000      32,161.050   \n4999                              12       16,500.000       3,583.960   \n\n      monto_saldo_deudor_prom  score_aprob_tc  nro_veces_abono_12m_antes  \\\n0                       0.000             214                          5   \n1                   1,933.750             175                         12   \n2                     188.290             187                          0   \n3                       0.000             187                         12   \n4                  11,010.650             189                          0   \n...                       ...             ...                        ...   \n4995               19,548.240             225                          0   \n4996                    0.000             214                          0   \n4997               57,094.380             197                         12   \n4998               26,901.420             224                         12   \n4999                4,503.680             233                         12   \n\n     zona_geografica  riesgos_sbs nivel_educativo  \n0               Lima            4     PROFESIONAL  \n1        La Libertad            1         TECNICO  \n2               Lima            0     PROFESIONAL  \n3             Ancash            0         TECNICO  \n4               Lima            0         TECNICO  \n...              ...          ...             ...  \n4995            Lima            0   SIN EDUCACION  \n4996           Tacna            0     PROFESIONAL  \n4997           Piura            1     PROFESIONAL  \n4998            Lima            0     PROFESIONAL  \n4999            Lima            0     PROFESIONAL  \n\n[5000 rows x 16 columns]",
      "text/html": "<div>\n<style scoped>\n    .dataframe tbody tr th:only-of-type {\n        vertical-align: middle;\n    }\n\n    .dataframe tbody tr th {\n        vertical-align: top;\n    }\n\n    .dataframe thead th {\n        text-align: right;\n    }\n</style>\n<table border=\"1\" class=\"dataframe\">\n  <thead>\n    <tr style=\"text-align: right;\">\n      <th></th>\n      <th>id</th>\n      <th>mora_60</th>\n      <th>dias_atraso_12_meses_antes</th>\n      <th>situacion_casa</th>\n      <th>edad</th>\n      <th>fecha_ingreso_empleo</th>\n      <th>antiguedad_tc_meses</th>\n      <th>producto_pasivo_12_meses_antes</th>\n      <th>ingreso_mensual</th>\n      <th>monto_linea_tc</th>\n      <th>monto_saldo_deudor_prom</th>\n      <th>score_aprob_tc</th>\n      <th>nro_veces_abono_12m_antes</th>\n      <th>zona_geografica</th>\n      <th>riesgos_sbs</th>\n      <th>nivel_educativo</th>\n    </tr>\n  </thead>\n  <tbody>\n    <tr>\n      <th>0</th>\n      <td>1</td>\n      <td>0</td>\n      <td>235</td>\n      <td>FAMILIAR</td>\n      <td>30</td>\n      <td>2007-06-01</td>\n      <td>93</td>\n      <td>5</td>\n      <td>3,500.000</td>\n      <td>0.000</td>\n      <td>0.000</td>\n      <td>214</td>\n      <td>5</td>\n      <td>Lima</td>\n      <td>4</td>\n      <td>PROFESIONAL</td>\n    </tr>\n    <tr>\n      <th>1</th>\n      <td>2</td>\n      <td>0</td>\n      <td>18</td>\n      <td>FAMILIAR</td>\n      <td>32</td>\n      <td>2005-02-01</td>\n      <td>9</td>\n      <td>12</td>\n      <td>900.000</td>\n      <td>1,824.670</td>\n      <td>1,933.750</td>\n      <td>175</td>\n      <td>12</td>\n      <td>La Libertad</td>\n      <td>1</td>\n      <td>TECNICO</td>\n    </tr>\n    <tr>\n      <th>2</th>\n      <td>3</td>\n      <td>0</td>\n      <td>0</td>\n      <td>FAMILIAR</td>\n      <td>26</td>\n      <td>2003-08-01</td>\n      <td>8</td>\n      <td>2</td>\n      <td>2,400.000</td>\n      <td>2,797.380</td>\n      <td>188.290</td>\n      <td>187</td>\n      <td>0</td>\n      <td>Lima</td>\n      <td>0</td>\n      <td>PROFESIONAL</td>\n    </tr>\n    <tr>\n      <th>3</th>\n      <td>4</td>\n      <td>0</td>\n      <td>0</td>\n      <td>FAMILIAR</td>\n      <td>36</td>\n      <td>2003-07-01</td>\n      <td>20</td>\n      <td>12</td>\n      <td>2,700.000</td>\n      <td>0.000</td>\n      <td>0.000</td>\n      <td>187</td>\n      <td>12</td>\n      <td>Ancash</td>\n      <td>0</td>\n      <td>TECNICO</td>\n    </tr>\n    <tr>\n      <th>4</th>\n      <td>5</td>\n      <td>0</td>\n      <td>0</td>\n      <td>FAMILIAR</td>\n      <td>46</td>\n      <td>2006-11-01</td>\n      <td>0</td>\n      <td>1</td>\n      <td>3,100.000</td>\n      <td>2,000.000</td>\n      <td>11,010.650</td>\n      <td>189</td>\n      <td>0</td>\n      <td>Lima</td>\n      <td>0</td>\n      <td>TECNICO</td>\n    </tr>\n    <tr>\n      <th>...</th>\n      <td>...</td>\n      <td>...</td>\n      <td>...</td>\n      <td>...</td>\n      <td>...</td>\n      <td>...</td>\n      <td>...</td>\n      <td>...</td>\n      <td>...</td>\n      <td>...</td>\n      <td>...</td>\n      <td>...</td>\n      <td>...</td>\n      <td>...</td>\n      <td>...</td>\n      <td>...</td>\n    </tr>\n    <tr>\n      <th>4995</th>\n      <td>4996</td>\n      <td>1</td>\n      <td>0</td>\n      <td>FAMILIAR</td>\n      <td>76</td>\n      <td>2000-01-01</td>\n      <td>90</td>\n      <td>12</td>\n      <td>30,000.000</td>\n      <td>58,083.420</td>\n      <td>19,548.240</td>\n      <td>225</td>\n      <td>0</td>\n      <td>Lima</td>\n      <td>0</td>\n      <td>SIN EDUCACION</td>\n    </tr>\n    <tr>\n      <th>4996</th>\n      <td>4997</td>\n      <td>1</td>\n      <td>0</td>\n      <td>FAMILIAR</td>\n      <td>33</td>\n      <td>2000-02-01</td>\n      <td>44</td>\n      <td>12</td>\n      <td>30,000.000</td>\n      <td>339.980</td>\n      <td>0.000</td>\n      <td>214</td>\n      <td>0</td>\n      <td>Tacna</td>\n      <td>0</td>\n      <td>PROFESIONAL</td>\n    </tr>\n    <tr>\n      <th>4997</th>\n      <td>4998</td>\n      <td>1</td>\n      <td>0</td>\n      <td>FAMILIAR</td>\n      <td>38</td>\n      <td>1992-09-01</td>\n      <td>102</td>\n      <td>12</td>\n      <td>8,500.000</td>\n      <td>72,685.200</td>\n      <td>57,094.380</td>\n      <td>197</td>\n      <td>12</td>\n      <td>Piura</td>\n      <td>1</td>\n      <td>PROFESIONAL</td>\n    </tr>\n    <tr>\n      <th>4998</th>\n      <td>4999</td>\n      <td>1</td>\n      <td>0</td>\n      <td>PROPIA</td>\n      <td>45</td>\n      <td>1990-01-01</td>\n      <td>87</td>\n      <td>12</td>\n      <td>30,000.000</td>\n      <td>32,161.050</td>\n      <td>26,901.420</td>\n      <td>224</td>\n      <td>12</td>\n      <td>Lima</td>\n      <td>0</td>\n      <td>PROFESIONAL</td>\n    </tr>\n    <tr>\n      <th>4999</th>\n      <td>5000</td>\n      <td>1</td>\n      <td>0</td>\n      <td>PROPIA</td>\n      <td>57</td>\n      <td>1983-03-01</td>\n      <td>68</td>\n      <td>12</td>\n      <td>16,500.000</td>\n      <td>3,583.960</td>\n      <td>4,503.680</td>\n      <td>233</td>\n      <td>12</td>\n      <td>Lima</td>\n      <td>0</td>\n      <td>PROFESIONAL</td>\n    </tr>\n  </tbody>\n</table>\n<p>5000 rows × 16 columns</p>\n</div>"
     },
     "metadata": {}
    }
   ],
   "execution_count": null
  },
  {
   "cell_type": "code",
   "metadata": {
    "cell_id": "e2d49555-3c77-4364-8cf2-66aad5dbdcb9",
    "tags": [],
    "deepnote_to_be_reexecuted": false,
    "source_hash": "b0df9a79",
    "execution_start": 1647270239931,
    "execution_millis": 116,
    "deepnote_cell_type": "code",
    "deepnote_cell_height": 652.40625
   },
   "source": "# drop the first column name 'id'\ndf_bcp = df_bcp.drop('id', axis = 1)\ndf_bcp",
   "outputs": [
    {
     "output_type": "execute_result",
     "execution_count": 8,
     "data": {
      "application/vnd.deepnote.dataframe.v3+json": {
       "column_count": 15,
       "row_count": 5000,
       "columns": [
        {
         "name": "mora_60",
         "dtype": "int64",
         "stats": {
          "unique_count": 2,
          "nan_count": 0,
          "min": "0",
          "max": "1",
          "histogram": [
           {
            "bin_start": 0,
            "bin_end": 0.1,
            "count": 1500
           },
           {
            "bin_start": 0.1,
            "bin_end": 0.2,
            "count": 0
           },
           {
            "bin_start": 0.2,
            "bin_end": 0.30000000000000004,
            "count": 0
           },
           {
            "bin_start": 0.30000000000000004,
            "bin_end": 0.4,
            "count": 0
           },
           {
            "bin_start": 0.4,
            "bin_end": 0.5,
            "count": 0
           },
           {
            "bin_start": 0.5,
            "bin_end": 0.6000000000000001,
            "count": 0
           },
           {
            "bin_start": 0.6000000000000001,
            "bin_end": 0.7000000000000001,
            "count": 0
           },
           {
            "bin_start": 0.7000000000000001,
            "bin_end": 0.8,
            "count": 0
           },
           {
            "bin_start": 0.8,
            "bin_end": 0.9,
            "count": 0
           },
           {
            "bin_start": 0.9,
            "bin_end": 1,
            "count": 3500
           }
          ]
         }
        },
        {
         "name": "dias_atraso_12_meses_antes",
         "dtype": "int64",
         "stats": {
          "unique_count": 63,
          "nan_count": 0,
          "min": "0",
          "max": "245",
          "histogram": [
           {
            "bin_start": 0,
            "bin_end": 24.5,
            "count": 4699
           },
           {
            "bin_start": 24.5,
            "bin_end": 49,
            "count": 237
           },
           {
            "bin_start": 49,
            "bin_end": 73.5,
            "count": 46
           },
           {
            "bin_start": 73.5,
            "bin_end": 98,
            "count": 6
           },
           {
            "bin_start": 98,
            "bin_end": 122.5,
            "count": 3
           },
           {
            "bin_start": 122.5,
            "bin_end": 147,
            "count": 0
           },
           {
            "bin_start": 147,
            "bin_end": 171.5,
            "count": 0
           },
           {
            "bin_start": 171.5,
            "bin_end": 196,
            "count": 0
           },
           {
            "bin_start": 196,
            "bin_end": 220.5,
            "count": 2
           },
           {
            "bin_start": 220.5,
            "bin_end": 245,
            "count": 7
           }
          ]
         }
        },
        {
         "name": "situacion_casa",
         "dtype": "object",
         "stats": {
          "unique_count": 4,
          "nan_count": 0,
          "categories": [
           {
            "name": "FAMILIAR",
            "count": 3471
           },
           {
            "name": "PROPIA",
            "count": 1429
           },
           {
            "name": "2 others",
            "count": 100
           }
          ]
         }
        },
        {
         "name": "edad",
         "dtype": "int64",
         "stats": {
          "unique_count": 56,
          "nan_count": 0,
          "min": "20",
          "max": "85",
          "histogram": [
           {
            "bin_start": 20,
            "bin_end": 26.5,
            "count": 703
           },
           {
            "bin_start": 26.5,
            "bin_end": 33,
            "count": 1381
           },
           {
            "bin_start": 33,
            "bin_end": 39.5,
            "count": 1291
           },
           {
            "bin_start": 39.5,
            "bin_end": 46,
            "count": 694
           },
           {
            "bin_start": 46,
            "bin_end": 52.5,
            "count": 536
           },
           {
            "bin_start": 52.5,
            "bin_end": 59,
            "count": 261
           },
           {
            "bin_start": 59,
            "bin_end": 65.5,
            "count": 118
           },
           {
            "bin_start": 65.5,
            "bin_end": 72,
            "count": 12
           },
           {
            "bin_start": 72,
            "bin_end": 78.5,
            "count": 2
           },
           {
            "bin_start": 78.5,
            "bin_end": 85,
            "count": 2
           }
          ]
         }
        },
        {
         "name": "fecha_ingreso_empleo",
         "dtype": "datetime64[ns]",
         "stats": {
          "unique_count": 941,
          "nan_count": 0,
          "min": "1961-01-01 00:00:00",
          "max": "2009-08-01 00:00:00",
          "histogram": [
           {
            "bin_start": -283996800000000000,
            "bin_end": -130688640000000000,
            "count": 4
           },
           {
            "bin_start": -130688640000000000,
            "bin_end": 22619520000000000,
            "count": 5
           },
           {
            "bin_start": 22619520000000000,
            "bin_end": 175927680000000000,
            "count": 23
           },
           {
            "bin_start": 175927680000000000,
            "bin_end": 329235840000000000,
            "count": 42
           },
           {
            "bin_start": 329235840000000000,
            "bin_end": 482544000000000000,
            "count": 72
           },
           {
            "bin_start": 482544000000000000,
            "bin_end": 635852160000000000,
            "count": 99
           },
           {
            "bin_start": 635852160000000000,
            "bin_end": 789160320000000000,
            "count": 223
           },
           {
            "bin_start": 789160320000000000,
            "bin_end": 942468480000000000,
            "count": 524
           },
           {
            "bin_start": 942468480000000000,
            "bin_end": 1095776640000000000,
            "count": 1752
           },
           {
            "bin_start": 1095776640000000000,
            "bin_end": 1249084800000000000,
            "count": 2256
           }
          ]
         }
        },
        {
         "name": "antiguedad_tc_meses",
         "dtype": "int64",
         "stats": {
          "unique_count": 126,
          "nan_count": 0,
          "min": "0",
          "max": "130",
          "histogram": [
           {
            "bin_start": 0,
            "bin_end": 13,
            "count": 2559
           },
           {
            "bin_start": 13,
            "bin_end": 26,
            "count": 749
           },
           {
            "bin_start": 26,
            "bin_end": 39,
            "count": 408
           },
           {
            "bin_start": 39,
            "bin_end": 52,
            "count": 328
           },
           {
            "bin_start": 52,
            "bin_end": 65,
            "count": 208
           },
           {
            "bin_start": 65,
            "bin_end": 78,
            "count": 143
           },
           {
            "bin_start": 78,
            "bin_end": 91,
            "count": 267
           },
           {
            "bin_start": 91,
            "bin_end": 104,
            "count": 191
           },
           {
            "bin_start": 104,
            "bin_end": 117,
            "count": 111
           },
           {
            "bin_start": 117,
            "bin_end": 130,
            "count": 36
           }
          ]
         }
        },
        {
         "name": "producto_pasivo_12_meses_antes",
         "dtype": "int64",
         "stats": {
          "unique_count": 13,
          "nan_count": 0,
          "min": "0",
          "max": "12",
          "histogram": [
           {
            "bin_start": 0,
            "bin_end": 1.2,
            "count": 350
           },
           {
            "bin_start": 1.2,
            "bin_end": 2.4,
            "count": 44
           },
           {
            "bin_start": 2.4,
            "bin_end": 3.5999999999999996,
            "count": 36
           },
           {
            "bin_start": 3.5999999999999996,
            "bin_end": 4.8,
            "count": 61
           },
           {
            "bin_start": 4.8,
            "bin_end": 6,
            "count": 39
           },
           {
            "bin_start": 6,
            "bin_end": 7.199999999999999,
            "count": 102
           },
           {
            "bin_start": 7.199999999999999,
            "bin_end": 8.4,
            "count": 70
           },
           {
            "bin_start": 8.4,
            "bin_end": 9.6,
            "count": 78
           },
           {
            "bin_start": 9.6,
            "bin_end": 10.799999999999999,
            "count": 103
           },
           {
            "bin_start": 10.799999999999999,
            "bin_end": 12,
            "count": 4117
           }
          ]
         }
        },
        {
         "name": "ingreso_mensual",
         "dtype": "float64",
         "stats": {
          "unique_count": 2293,
          "nan_count": 0,
          "min": "123.7",
          "max": "30000.0",
          "histogram": [
           {
            "bin_start": 123.7,
            "bin_end": 3111.33,
            "count": 3102
           },
           {
            "bin_start": 3111.33,
            "bin_end": 6098.96,
            "count": 943
           },
           {
            "bin_start": 6098.96,
            "bin_end": 9086.59,
            "count": 402
           },
           {
            "bin_start": 9086.59,
            "bin_end": 12074.220000000001,
            "count": 177
           },
           {
            "bin_start": 12074.220000000001,
            "bin_end": 15061.850000000002,
            "count": 126
           },
           {
            "bin_start": 15061.850000000002,
            "bin_end": 18049.48,
            "count": 65
           },
           {
            "bin_start": 18049.48,
            "bin_end": 21037.11,
            "count": 41
           },
           {
            "bin_start": 21037.11,
            "bin_end": 24024.74,
            "count": 34
           },
           {
            "bin_start": 24024.74,
            "bin_end": 27012.370000000003,
            "count": 17
           },
           {
            "bin_start": 27012.370000000003,
            "bin_end": 30000,
            "count": 93
           }
          ]
         }
        },
        {
         "name": "monto_linea_tc",
         "dtype": "float64",
         "stats": {
          "unique_count": 3240,
          "nan_count": 0,
          "min": "0.0",
          "max": "121543.4",
          "histogram": [
           {
            "bin_start": 0,
            "bin_end": 12154.34,
            "count": 3927
           },
           {
            "bin_start": 12154.34,
            "bin_end": 24308.68,
            "count": 479
           },
           {
            "bin_start": 24308.68,
            "bin_end": 36463.020000000004,
            "count": 235
           },
           {
            "bin_start": 36463.020000000004,
            "bin_end": 48617.36,
            "count": 119
           },
           {
            "bin_start": 48617.36,
            "bin_end": 60771.7,
            "count": 70
           },
           {
            "bin_start": 60771.7,
            "bin_end": 72926.04000000001,
            "count": 37
           },
           {
            "bin_start": 72926.04000000001,
            "bin_end": 85080.38,
            "count": 30
           },
           {
            "bin_start": 85080.38,
            "bin_end": 97234.72,
            "count": 22
           },
           {
            "bin_start": 97234.72,
            "bin_end": 109389.06,
            "count": 18
           },
           {
            "bin_start": 109389.06,
            "bin_end": 121543.4,
            "count": 63
           }
          ]
         }
        },
        {
         "name": "monto_saldo_deudor_prom",
         "dtype": "float64",
         "stats": {
          "unique_count": 3851,
          "nan_count": 0,
          "min": "0.0",
          "max": "57094.38",
          "histogram": [
           {
            "bin_start": 0,
            "bin_end": 5709.438,
            "count": 3809
           },
           {
            "bin_start": 5709.438,
            "bin_end": 11418.876,
            "count": 576
           },
           {
            "bin_start": 11418.876,
            "bin_end": 17128.314,
            "count": 208
           },
           {
            "bin_start": 17128.314,
            "bin_end": 22837.752,
            "count": 103
           },
           {
            "bin_start": 22837.752,
            "bin_end": 28547.190000000002,
            "count": 70
           },
           {
            "bin_start": 28547.190000000002,
            "bin_end": 34256.628,
            "count": 39
           },
           {
            "bin_start": 34256.628,
            "bin_end": 39966.066,
            "count": 24
           },
           {
            "bin_start": 39966.066,
            "bin_end": 45675.504,
            "count": 27
           },
           {
            "bin_start": 45675.504,
            "bin_end": 51384.942,
            "count": 17
           },
           {
            "bin_start": 51384.942,
            "bin_end": 57094.38,
            "count": 127
           }
          ]
         }
        },
        {
         "name": "score_aprob_tc",
         "dtype": "int64",
         "stats": {
          "unique_count": 110,
          "nan_count": 0,
          "min": "134",
          "max": "266",
          "histogram": [
           {
            "bin_start": 134,
            "bin_end": 147.2,
            "count": 7
           },
           {
            "bin_start": 147.2,
            "bin_end": 160.4,
            "count": 170
           },
           {
            "bin_start": 160.4,
            "bin_end": 173.6,
            "count": 358
           },
           {
            "bin_start": 173.6,
            "bin_end": 186.8,
            "count": 983
           },
           {
            "bin_start": 186.8,
            "bin_end": 200,
            "count": 1287
           },
           {
            "bin_start": 200,
            "bin_end": 213.2,
            "count": 1087
           },
           {
            "bin_start": 213.2,
            "bin_end": 226.39999999999998,
            "count": 830
           },
           {
            "bin_start": 226.39999999999998,
            "bin_end": 239.6,
            "count": 231
           },
           {
            "bin_start": 239.6,
            "bin_end": 252.8,
            "count": 39
           },
           {
            "bin_start": 252.8,
            "bin_end": 266,
            "count": 8
           }
          ]
         }
        },
        {
         "name": "nro_veces_abono_12m_antes",
         "dtype": "int64",
         "stats": {
          "unique_count": 13,
          "nan_count": 0,
          "min": "0",
          "max": "12",
          "histogram": [
           {
            "bin_start": 0,
            "bin_end": 1.2,
            "count": 1426
           },
           {
            "bin_start": 1.2,
            "bin_end": 2.4,
            "count": 51
           },
           {
            "bin_start": 2.4,
            "bin_end": 3.5999999999999996,
            "count": 32
           },
           {
            "bin_start": 3.5999999999999996,
            "bin_end": 4.8,
            "count": 34
           },
           {
            "bin_start": 4.8,
            "bin_end": 6,
            "count": 43
           },
           {
            "bin_start": 6,
            "bin_end": 7.199999999999999,
            "count": 136
           },
           {
            "bin_start": 7.199999999999999,
            "bin_end": 8.4,
            "count": 81
           },
           {
            "bin_start": 8.4,
            "bin_end": 9.6,
            "count": 108
           },
           {
            "bin_start": 9.6,
            "bin_end": 10.799999999999999,
            "count": 190
           },
           {
            "bin_start": 10.799999999999999,
            "bin_end": 12,
            "count": 2899
           }
          ]
         }
        },
        {
         "name": "zona_geografica",
         "dtype": "object",
         "stats": {
          "unique_count": 25,
          "nan_count": 0,
          "categories": [
           {
            "name": "Lima",
            "count": 2948
           },
           {
            "name": "Callao",
            "count": 299
           },
           {
            "name": "23 others",
            "count": 1753
           }
          ]
         }
        },
        {
         "name": "riesgos_sbs",
         "dtype": "int64",
         "stats": {
          "unique_count": 5,
          "nan_count": 0,
          "min": "0",
          "max": "4",
          "histogram": [
           {
            "bin_start": 0,
            "bin_end": 0.4,
            "count": 3142
           },
           {
            "bin_start": 0.4,
            "bin_end": 0.8,
            "count": 0
           },
           {
            "bin_start": 0.8,
            "bin_end": 1.2000000000000002,
            "count": 1242
           },
           {
            "bin_start": 1.2000000000000002,
            "bin_end": 1.6,
            "count": 0
           },
           {
            "bin_start": 1.6,
            "bin_end": 2,
            "count": 0
           },
           {
            "bin_start": 2,
            "bin_end": 2.4000000000000004,
            "count": 390
           },
           {
            "bin_start": 2.4000000000000004,
            "bin_end": 2.8000000000000003,
            "count": 0
           },
           {
            "bin_start": 2.8000000000000003,
            "bin_end": 3.2,
            "count": 108
           },
           {
            "bin_start": 3.2,
            "bin_end": 3.6,
            "count": 0
           },
           {
            "bin_start": 3.6,
            "bin_end": 4,
            "count": 118
           }
          ]
         }
        },
        {
         "name": "nivel_educativo",
         "dtype": "object",
         "stats": {
          "unique_count": 5,
          "nan_count": 0,
          "categories": [
           {
            "name": "PROFESIONAL",
            "count": 2666
           },
           {
            "name": "TECNICO",
            "count": 1958
           },
           {
            "name": "3 others",
            "count": 376
           }
          ]
         }
        },
        {
         "name": "_deepnote_index_column",
         "dtype": "int64"
        }
       ],
       "rows": [
        {
         "mora_60": 0,
         "dias_atraso_12_meses_antes": 235,
         "situacion_casa": "FAMILIAR",
         "edad": 30,
         "fecha_ingreso_empleo": "2007-06-01T00:00:00.000000",
         "antiguedad_tc_meses": 93,
         "producto_pasivo_12_meses_antes": 5,
         "ingreso_mensual": 3500,
         "monto_linea_tc": 0,
         "monto_saldo_deudor_prom": 0,
         "score_aprob_tc": 214,
         "nro_veces_abono_12m_antes": 5,
         "zona_geografica": "Lima",
         "riesgos_sbs": 4,
         "nivel_educativo": "PROFESIONAL",
         "_deepnote_index_column": 0
        },
        {
         "mora_60": 0,
         "dias_atraso_12_meses_antes": 18,
         "situacion_casa": "FAMILIAR",
         "edad": 32,
         "fecha_ingreso_empleo": "2005-02-01T00:00:00.000000",
         "antiguedad_tc_meses": 9,
         "producto_pasivo_12_meses_antes": 12,
         "ingreso_mensual": 900,
         "monto_linea_tc": 1824.67,
         "monto_saldo_deudor_prom": 1933.75,
         "score_aprob_tc": 175,
         "nro_veces_abono_12m_antes": 12,
         "zona_geografica": "La Libertad",
         "riesgos_sbs": 1,
         "nivel_educativo": "TECNICO",
         "_deepnote_index_column": 1
        },
        {
         "mora_60": 0,
         "dias_atraso_12_meses_antes": 0,
         "situacion_casa": "FAMILIAR",
         "edad": 26,
         "fecha_ingreso_empleo": "2003-08-01T00:00:00.000000",
         "antiguedad_tc_meses": 8,
         "producto_pasivo_12_meses_antes": 2,
         "ingreso_mensual": 2400,
         "monto_linea_tc": 2797.38,
         "monto_saldo_deudor_prom": 188.29,
         "score_aprob_tc": 187,
         "nro_veces_abono_12m_antes": 0,
         "zona_geografica": "Lima",
         "riesgos_sbs": 0,
         "nivel_educativo": "PROFESIONAL",
         "_deepnote_index_column": 2
        },
        {
         "mora_60": 0,
         "dias_atraso_12_meses_antes": 0,
         "situacion_casa": "FAMILIAR",
         "edad": 36,
         "fecha_ingreso_empleo": "2003-07-01T00:00:00.000000",
         "antiguedad_tc_meses": 20,
         "producto_pasivo_12_meses_antes": 12,
         "ingreso_mensual": 2700,
         "monto_linea_tc": 0,
         "monto_saldo_deudor_prom": 0,
         "score_aprob_tc": 187,
         "nro_veces_abono_12m_antes": 12,
         "zona_geografica": "Ancash",
         "riesgos_sbs": 0,
         "nivel_educativo": "TECNICO",
         "_deepnote_index_column": 3
        },
        {
         "mora_60": 0,
         "dias_atraso_12_meses_antes": 0,
         "situacion_casa": "FAMILIAR",
         "edad": 46,
         "fecha_ingreso_empleo": "2006-11-01T00:00:00.000000",
         "antiguedad_tc_meses": 0,
         "producto_pasivo_12_meses_antes": 1,
         "ingreso_mensual": 3100,
         "monto_linea_tc": 2000,
         "monto_saldo_deudor_prom": 11010.65,
         "score_aprob_tc": 189,
         "nro_veces_abono_12m_antes": 0,
         "zona_geografica": "Lima",
         "riesgos_sbs": 0,
         "nivel_educativo": "TECNICO",
         "_deepnote_index_column": 4
        },
        {
         "mora_60": 0,
         "dias_atraso_12_meses_antes": 22,
         "situacion_casa": "FAMILIAR",
         "edad": 25,
         "fecha_ingreso_empleo": "2004-05-01T00:00:00.000000",
         "antiguedad_tc_meses": 9,
         "producto_pasivo_12_meses_antes": 12,
         "ingreso_mensual": 2200,
         "monto_linea_tc": 449.92,
         "monto_saldo_deudor_prom": 496.58,
         "score_aprob_tc": 220,
         "nro_veces_abono_12m_antes": 11,
         "zona_geografica": "Lima",
         "riesgos_sbs": 0,
         "nivel_educativo": "PROFESIONAL",
         "_deepnote_index_column": 5
        },
        {
         "mora_60": 0,
         "dias_atraso_12_meses_antes": 9,
         "situacion_casa": "FAMILIAR",
         "edad": 30,
         "fecha_ingreso_empleo": "2006-12-01T00:00:00.000000",
         "antiguedad_tc_meses": 12,
         "producto_pasivo_12_meses_antes": 8,
         "ingreso_mensual": 2100,
         "monto_linea_tc": 4827.64,
         "monto_saldo_deudor_prom": 850.21,
         "score_aprob_tc": 193,
         "nro_veces_abono_12m_antes": 7,
         "zona_geografica": "Lima",
         "riesgos_sbs": 0,
         "nivel_educativo": "PROFESIONAL",
         "_deepnote_index_column": 6
        },
        {
         "mora_60": 0,
         "dias_atraso_12_meses_antes": 8,
         "situacion_casa": "PROPIA",
         "edad": 55,
         "fecha_ingreso_empleo": "2004-01-01T00:00:00.000000",
         "antiguedad_tc_meses": 23,
         "producto_pasivo_12_meses_antes": 12,
         "ingreso_mensual": 5593.21,
         "monto_linea_tc": 10467,
         "monto_saldo_deudor_prom": 18620.8,
         "score_aprob_tc": 199,
         "nro_veces_abono_12m_antes": 12,
         "zona_geografica": "Piura",
         "riesgos_sbs": 0,
         "nivel_educativo": "TECNICO",
         "_deepnote_index_column": 7
        },
        {
         "mora_60": 0,
         "dias_atraso_12_meses_antes": 2,
         "situacion_casa": "FAMILIAR",
         "edad": 30,
         "fecha_ingreso_empleo": "2003-12-01T00:00:00.000000",
         "antiguedad_tc_meses": 0,
         "producto_pasivo_12_meses_antes": 0,
         "ingreso_mensual": 2000,
         "monto_linea_tc": 7315.41,
         "monto_saldo_deudor_prom": 0,
         "score_aprob_tc": 156,
         "nro_veces_abono_12m_antes": 0,
         "zona_geografica": "Piura",
         "riesgos_sbs": 0,
         "nivel_educativo": "PROFESIONAL",
         "_deepnote_index_column": 8
        },
        {
         "mora_60": 0,
         "dias_atraso_12_meses_antes": 0,
         "situacion_casa": "FAMILIAR",
         "edad": 31,
         "fecha_ingreso_empleo": "2004-02-01T00:00:00.000000",
         "antiguedad_tc_meses": 0,
         "producto_pasivo_12_meses_antes": 4,
         "ingreso_mensual": 3800,
         "monto_linea_tc": 0,
         "monto_saldo_deudor_prom": 0,
         "score_aprob_tc": 192,
         "nro_veces_abono_12m_antes": 0,
         "zona_geografica": "Ica",
         "riesgos_sbs": 0,
         "nivel_educativo": "TECNICO",
         "_deepnote_index_column": 9
        }
       ]
      },
      "text/plain": "      mora_60  dias_atraso_12_meses_antes situacion_casa  edad  \\\n0           0                         235       FAMILIAR    30   \n1           0                          18       FAMILIAR    32   \n2           0                           0       FAMILIAR    26   \n3           0                           0       FAMILIAR    36   \n4           0                           0       FAMILIAR    46   \n...       ...                         ...            ...   ...   \n4995        1                           0       FAMILIAR    76   \n4996        1                           0       FAMILIAR    33   \n4997        1                           0       FAMILIAR    38   \n4998        1                           0         PROPIA    45   \n4999        1                           0         PROPIA    57   \n\n     fecha_ingreso_empleo  antiguedad_tc_meses  \\\n0              2007-06-01                   93   \n1              2005-02-01                    9   \n2              2003-08-01                    8   \n3              2003-07-01                   20   \n4              2006-11-01                    0   \n...                   ...                  ...   \n4995           2000-01-01                   90   \n4996           2000-02-01                   44   \n4997           1992-09-01                  102   \n4998           1990-01-01                   87   \n4999           1983-03-01                   68   \n\n      producto_pasivo_12_meses_antes  ingreso_mensual  monto_linea_tc  \\\n0                                  5        3,500.000           0.000   \n1                                 12          900.000       1,824.670   \n2                                  2        2,400.000       2,797.380   \n3                                 12        2,700.000           0.000   \n4                                  1        3,100.000       2,000.000   \n...                              ...              ...             ...   \n4995                              12       30,000.000      58,083.420   \n4996                              12       30,000.000         339.980   \n4997                              12        8,500.000      72,685.200   \n4998                              12       30,000.000      32,161.050   \n4999                              12       16,500.000       3,583.960   \n\n      monto_saldo_deudor_prom  score_aprob_tc  nro_veces_abono_12m_antes  \\\n0                       0.000             214                          5   \n1                   1,933.750             175                         12   \n2                     188.290             187                          0   \n3                       0.000             187                         12   \n4                  11,010.650             189                          0   \n...                       ...             ...                        ...   \n4995               19,548.240             225                          0   \n4996                    0.000             214                          0   \n4997               57,094.380             197                         12   \n4998               26,901.420             224                         12   \n4999                4,503.680             233                         12   \n\n     zona_geografica  riesgos_sbs nivel_educativo  \n0               Lima            4     PROFESIONAL  \n1        La Libertad            1         TECNICO  \n2               Lima            0     PROFESIONAL  \n3             Ancash            0         TECNICO  \n4               Lima            0         TECNICO  \n...              ...          ...             ...  \n4995            Lima            0   SIN EDUCACION  \n4996           Tacna            0     PROFESIONAL  \n4997           Piura            1     PROFESIONAL  \n4998            Lima            0     PROFESIONAL  \n4999            Lima            0     PROFESIONAL  \n\n[5000 rows x 15 columns]",
      "text/html": "<div>\n<style scoped>\n    .dataframe tbody tr th:only-of-type {\n        vertical-align: middle;\n    }\n\n    .dataframe tbody tr th {\n        vertical-align: top;\n    }\n\n    .dataframe thead th {\n        text-align: right;\n    }\n</style>\n<table border=\"1\" class=\"dataframe\">\n  <thead>\n    <tr style=\"text-align: right;\">\n      <th></th>\n      <th>mora_60</th>\n      <th>dias_atraso_12_meses_antes</th>\n      <th>situacion_casa</th>\n      <th>edad</th>\n      <th>fecha_ingreso_empleo</th>\n      <th>antiguedad_tc_meses</th>\n      <th>producto_pasivo_12_meses_antes</th>\n      <th>ingreso_mensual</th>\n      <th>monto_linea_tc</th>\n      <th>monto_saldo_deudor_prom</th>\n      <th>score_aprob_tc</th>\n      <th>nro_veces_abono_12m_antes</th>\n      <th>zona_geografica</th>\n      <th>riesgos_sbs</th>\n      <th>nivel_educativo</th>\n    </tr>\n  </thead>\n  <tbody>\n    <tr>\n      <th>0</th>\n      <td>0</td>\n      <td>235</td>\n      <td>FAMILIAR</td>\n      <td>30</td>\n      <td>2007-06-01</td>\n      <td>93</td>\n      <td>5</td>\n      <td>3,500.000</td>\n      <td>0.000</td>\n      <td>0.000</td>\n      <td>214</td>\n      <td>5</td>\n      <td>Lima</td>\n      <td>4</td>\n      <td>PROFESIONAL</td>\n    </tr>\n    <tr>\n      <th>1</th>\n      <td>0</td>\n      <td>18</td>\n      <td>FAMILIAR</td>\n      <td>32</td>\n      <td>2005-02-01</td>\n      <td>9</td>\n      <td>12</td>\n      <td>900.000</td>\n      <td>1,824.670</td>\n      <td>1,933.750</td>\n      <td>175</td>\n      <td>12</td>\n      <td>La Libertad</td>\n      <td>1</td>\n      <td>TECNICO</td>\n    </tr>\n    <tr>\n      <th>2</th>\n      <td>0</td>\n      <td>0</td>\n      <td>FAMILIAR</td>\n      <td>26</td>\n      <td>2003-08-01</td>\n      <td>8</td>\n      <td>2</td>\n      <td>2,400.000</td>\n      <td>2,797.380</td>\n      <td>188.290</td>\n      <td>187</td>\n      <td>0</td>\n      <td>Lima</td>\n      <td>0</td>\n      <td>PROFESIONAL</td>\n    </tr>\n    <tr>\n      <th>3</th>\n      <td>0</td>\n      <td>0</td>\n      <td>FAMILIAR</td>\n      <td>36</td>\n      <td>2003-07-01</td>\n      <td>20</td>\n      <td>12</td>\n      <td>2,700.000</td>\n      <td>0.000</td>\n      <td>0.000</td>\n      <td>187</td>\n      <td>12</td>\n      <td>Ancash</td>\n      <td>0</td>\n      <td>TECNICO</td>\n    </tr>\n    <tr>\n      <th>4</th>\n      <td>0</td>\n      <td>0</td>\n      <td>FAMILIAR</td>\n      <td>46</td>\n      <td>2006-11-01</td>\n      <td>0</td>\n      <td>1</td>\n      <td>3,100.000</td>\n      <td>2,000.000</td>\n      <td>11,010.650</td>\n      <td>189</td>\n      <td>0</td>\n      <td>Lima</td>\n      <td>0</td>\n      <td>TECNICO</td>\n    </tr>\n    <tr>\n      <th>...</th>\n      <td>...</td>\n      <td>...</td>\n      <td>...</td>\n      <td>...</td>\n      <td>...</td>\n      <td>...</td>\n      <td>...</td>\n      <td>...</td>\n      <td>...</td>\n      <td>...</td>\n      <td>...</td>\n      <td>...</td>\n      <td>...</td>\n      <td>...</td>\n      <td>...</td>\n    </tr>\n    <tr>\n      <th>4995</th>\n      <td>1</td>\n      <td>0</td>\n      <td>FAMILIAR</td>\n      <td>76</td>\n      <td>2000-01-01</td>\n      <td>90</td>\n      <td>12</td>\n      <td>30,000.000</td>\n      <td>58,083.420</td>\n      <td>19,548.240</td>\n      <td>225</td>\n      <td>0</td>\n      <td>Lima</td>\n      <td>0</td>\n      <td>SIN EDUCACION</td>\n    </tr>\n    <tr>\n      <th>4996</th>\n      <td>1</td>\n      <td>0</td>\n      <td>FAMILIAR</td>\n      <td>33</td>\n      <td>2000-02-01</td>\n      <td>44</td>\n      <td>12</td>\n      <td>30,000.000</td>\n      <td>339.980</td>\n      <td>0.000</td>\n      <td>214</td>\n      <td>0</td>\n      <td>Tacna</td>\n      <td>0</td>\n      <td>PROFESIONAL</td>\n    </tr>\n    <tr>\n      <th>4997</th>\n      <td>1</td>\n      <td>0</td>\n      <td>FAMILIAR</td>\n      <td>38</td>\n      <td>1992-09-01</td>\n      <td>102</td>\n      <td>12</td>\n      <td>8,500.000</td>\n      <td>72,685.200</td>\n      <td>57,094.380</td>\n      <td>197</td>\n      <td>12</td>\n      <td>Piura</td>\n      <td>1</td>\n      <td>PROFESIONAL</td>\n    </tr>\n    <tr>\n      <th>4998</th>\n      <td>1</td>\n      <td>0</td>\n      <td>PROPIA</td>\n      <td>45</td>\n      <td>1990-01-01</td>\n      <td>87</td>\n      <td>12</td>\n      <td>30,000.000</td>\n      <td>32,161.050</td>\n      <td>26,901.420</td>\n      <td>224</td>\n      <td>12</td>\n      <td>Lima</td>\n      <td>0</td>\n      <td>PROFESIONAL</td>\n    </tr>\n    <tr>\n      <th>4999</th>\n      <td>1</td>\n      <td>0</td>\n      <td>PROPIA</td>\n      <td>57</td>\n      <td>1983-03-01</td>\n      <td>68</td>\n      <td>12</td>\n      <td>16,500.000</td>\n      <td>3,583.960</td>\n      <td>4,503.680</td>\n      <td>233</td>\n      <td>12</td>\n      <td>Lima</td>\n      <td>0</td>\n      <td>PROFESIONAL</td>\n    </tr>\n  </tbody>\n</table>\n<p>5000 rows × 15 columns</p>\n</div>"
     },
     "metadata": {}
    }
   ],
   "execution_count": null
  },
  {
   "cell_type": "markdown",
   "source": "# Data Analysis - Cleaning",
   "metadata": {
    "cell_id": "1282c55c-9a3f-4b67-8968-74e162e03b12",
    "tags": [],
    "deepnote_cell_type": "markdown",
    "deepnote_cell_height": 81.96875
   }
  },
  {
   "cell_type": "code",
   "metadata": {
    "cell_id": "26433c18-9fae-4a85-8eb1-f3172f72fac1",
    "tags": [],
    "deepnote_to_be_reexecuted": false,
    "source_hash": "8267e418",
    "execution_start": 1647270240042,
    "execution_millis": 6,
    "deepnote_cell_type": "code",
    "deepnote_cell_height": 136.109375,
    "deepnote_output_heights": [
     21.1875
    ]
   },
   "source": "# table distribution\ndf_bcp.shape",
   "outputs": [
    {
     "output_type": "execute_result",
     "execution_count": 9,
     "data": {
      "text/plain": "(5000, 15)"
     },
     "metadata": {}
    }
   ],
   "execution_count": null
  },
  {
   "cell_type": "code",
   "metadata": {
    "cell_id": "ce7e77e7-e0f9-47d2-82bb-cb65d7cefb7b",
    "tags": [],
    "deepnote_to_be_reexecuted": false,
    "source_hash": "358145df",
    "execution_start": 1647270240042,
    "execution_millis": 6,
    "deepnote_cell_type": "code",
    "deepnote_cell_height": 424.140625,
    "deepnote_output_heights": [
     309.203125
    ]
   },
   "source": "# data types\ndf_bcp.dtypes",
   "outputs": [
    {
     "output_type": "execute_result",
     "execution_count": 10,
     "data": {
      "text/plain": "mora_60                                    int64\ndias_atraso_12_meses_antes                 int64\nsituacion_casa                            object\nedad                                       int64\nfecha_ingreso_empleo              datetime64[ns]\nantiguedad_tc_meses                        int64\nproducto_pasivo_12_meses_antes             int64\ningreso_mensual                          float64\nmonto_linea_tc                           float64\nmonto_saldo_deudor_prom                  float64\nscore_aprob_tc                             int64\nnro_veces_abono_12m_antes                  int64\nzona_geografica                           object\nriesgos_sbs                                int64\nnivel_educativo                           object\ndtype: object"
     },
     "metadata": {}
    }
   ],
   "execution_count": null
  },
  {
   "cell_type": "code",
   "metadata": {
    "cell_id": "0583365e-90cf-4e6f-887a-db173bc579d2",
    "tags": [],
    "deepnote_to_be_reexecuted": false,
    "source_hash": "6f291f0f",
    "execution_start": 1647270240088,
    "execution_millis": 36,
    "deepnote_cell_type": "code",
    "deepnote_cell_height": 704.703125
   },
   "source": "# describe our data\ndf_bcp.describe(include = 'all')",
   "outputs": [
    {
     "name": "stderr",
     "text": "/shared-libs/python3.7/py-core/lib/python3.7/site-packages/ipykernel_launcher.py:2: FutureWarning: Treating datetime data as categorical rather than numeric in `.describe` is deprecated and will be removed in a future version of pandas. Specify `datetime_is_numeric=True` to silence this warning and adopt the future behavior now.\n  \n",
     "output_type": "stream"
    },
    {
     "output_type": "execute_result",
     "execution_count": 11,
     "data": {
      "application/vnd.deepnote.dataframe.v3+json": {
       "column_count": 15,
       "row_count": 13,
       "columns": [
        {
         "name": "mora_60",
         "dtype": "float64",
         "stats": {
          "unique_count": 5,
          "nan_count": 5,
          "min": "0.0",
          "max": "5000.0",
          "histogram": [
           {
            "bin_start": 0,
            "bin_end": 500,
            "count": 7
           },
           {
            "bin_start": 500,
            "bin_end": 1000,
            "count": 0
           },
           {
            "bin_start": 1000,
            "bin_end": 1500,
            "count": 0
           },
           {
            "bin_start": 1500,
            "bin_end": 2000,
            "count": 0
           },
           {
            "bin_start": 2000,
            "bin_end": 2500,
            "count": 0
           },
           {
            "bin_start": 2500,
            "bin_end": 3000,
            "count": 0
           },
           {
            "bin_start": 3000,
            "bin_end": 3500,
            "count": 0
           },
           {
            "bin_start": 3500,
            "bin_end": 4000,
            "count": 0
           },
           {
            "bin_start": 4000,
            "bin_end": 4500,
            "count": 0
           },
           {
            "bin_start": 4500,
            "bin_end": 5000,
            "count": 1
           }
          ]
         }
        },
        {
         "name": "dias_atraso_12_meses_antes",
         "dtype": "float64",
         "stats": {
          "unique_count": 6,
          "nan_count": 5,
          "min": "0.0",
          "max": "5000.0",
          "histogram": [
           {
            "bin_start": 0,
            "bin_end": 500,
            "count": 7
           },
           {
            "bin_start": 500,
            "bin_end": 1000,
            "count": 0
           },
           {
            "bin_start": 1000,
            "bin_end": 1500,
            "count": 0
           },
           {
            "bin_start": 1500,
            "bin_end": 2000,
            "count": 0
           },
           {
            "bin_start": 2000,
            "bin_end": 2500,
            "count": 0
           },
           {
            "bin_start": 2500,
            "bin_end": 3000,
            "count": 0
           },
           {
            "bin_start": 3000,
            "bin_end": 3500,
            "count": 0
           },
           {
            "bin_start": 3500,
            "bin_end": 4000,
            "count": 0
           },
           {
            "bin_start": 4000,
            "bin_end": 4500,
            "count": 0
           },
           {
            "bin_start": 4500,
            "bin_end": 5000,
            "count": 1
           }
          ]
         }
        },
        {
         "name": "situacion_casa",
         "dtype": "object",
         "stats": {
          "unique_count": 4,
          "nan_count": 9,
          "categories": [
           {
            "name": "5000",
            "count": 1
           },
           {
            "name": "3 others",
            "count": 3
           },
           {
            "name": "Missing",
            "count": 9
           }
          ]
         }
        },
        {
         "name": "edad",
         "dtype": "float64",
         "stats": {
          "unique_count": 8,
          "nan_count": 5,
          "min": "9.787225020133079",
          "max": "5000.0",
          "histogram": [
           {
            "bin_start": 9.787225020133079,
            "bin_end": 508.8085025181197,
            "count": 7
           },
           {
            "bin_start": 508.8085025181197,
            "bin_end": 1007.8297800161064,
            "count": 0
           },
           {
            "bin_start": 1007.8297800161064,
            "bin_end": 1506.851057514093,
            "count": 0
           },
           {
            "bin_start": 1506.851057514093,
            "bin_end": 2005.8723350120797,
            "count": 0
           },
           {
            "bin_start": 2005.8723350120797,
            "bin_end": 2504.8936125100663,
            "count": 0
           },
           {
            "bin_start": 2504.8936125100663,
            "bin_end": 3003.914890008053,
            "count": 0
           },
           {
            "bin_start": 3003.914890008053,
            "bin_end": 3502.9361675060395,
            "count": 0
           },
           {
            "bin_start": 3502.9361675060395,
            "bin_end": 4001.9574450040263,
            "count": 0
           },
           {
            "bin_start": 4001.9574450040263,
            "bin_end": 4500.978722502014,
            "count": 0
           },
           {
            "bin_start": 4500.978722502014,
            "bin_end": 5000,
            "count": 1
           }
          ]
         }
        },
        {
         "name": "fecha_ingreso_empleo",
         "dtype": "object",
         "stats": {
          "unique_count": 6,
          "nan_count": 7,
          "categories": [
           {
            "name": "5000",
            "count": 1
           },
           {
            "name": "5 others",
            "count": 5
           },
           {
            "name": "Missing",
            "count": 7
           }
          ]
         }
        },
        {
         "name": "antiguedad_tc_meses",
         "dtype": "float64",
         "stats": {
          "unique_count": 7,
          "nan_count": 5,
          "min": "0.0",
          "max": "5000.0",
          "histogram": [
           {
            "bin_start": 0,
            "bin_end": 500,
            "count": 7
           },
           {
            "bin_start": 500,
            "bin_end": 1000,
            "count": 0
           },
           {
            "bin_start": 1000,
            "bin_end": 1500,
            "count": 0
           },
           {
            "bin_start": 1500,
            "bin_end": 2000,
            "count": 0
           },
           {
            "bin_start": 2000,
            "bin_end": 2500,
            "count": 0
           },
           {
            "bin_start": 2500,
            "bin_end": 3000,
            "count": 0
           },
           {
            "bin_start": 3000,
            "bin_end": 3500,
            "count": 0
           },
           {
            "bin_start": 3500,
            "bin_end": 4000,
            "count": 0
           },
           {
            "bin_start": 4000,
            "bin_end": 4500,
            "count": 0
           },
           {
            "bin_start": 4500,
            "bin_end": 5000,
            "count": 1
           }
          ]
         }
        },
        {
         "name": "producto_pasivo_12_meses_antes",
         "dtype": "float64",
         "stats": {
          "unique_count": 5,
          "nan_count": 5,
          "min": "0.0",
          "max": "5000.0",
          "histogram": [
           {
            "bin_start": 0,
            "bin_end": 500,
            "count": 7
           },
           {
            "bin_start": 500,
            "bin_end": 1000,
            "count": 0
           },
           {
            "bin_start": 1000,
            "bin_end": 1500,
            "count": 0
           },
           {
            "bin_start": 1500,
            "bin_end": 2000,
            "count": 0
           },
           {
            "bin_start": 2000,
            "bin_end": 2500,
            "count": 0
           },
           {
            "bin_start": 2500,
            "bin_end": 3000,
            "count": 0
           },
           {
            "bin_start": 3000,
            "bin_end": 3500,
            "count": 0
           },
           {
            "bin_start": 3500,
            "bin_end": 4000,
            "count": 0
           },
           {
            "bin_start": 4000,
            "bin_end": 4500,
            "count": 0
           },
           {
            "bin_start": 4500,
            "bin_end": 5000,
            "count": 1
           }
          ]
         }
        },
        {
         "name": "ingreso_mensual",
         "dtype": "float64",
         "stats": {
          "unique_count": 8,
          "nan_count": 5,
          "min": "123.7",
          "max": "30000.0",
          "histogram": [
           {
            "bin_start": 123.7,
            "bin_end": 3111.33,
            "count": 3
           },
           {
            "bin_start": 3111.33,
            "bin_end": 6098.96,
            "count": 4
           },
           {
            "bin_start": 6098.96,
            "bin_end": 9086.59,
            "count": 0
           },
           {
            "bin_start": 9086.59,
            "bin_end": 12074.220000000001,
            "count": 0
           },
           {
            "bin_start": 12074.220000000001,
            "bin_end": 15061.850000000002,
            "count": 0
           },
           {
            "bin_start": 15061.850000000002,
            "bin_end": 18049.48,
            "count": 0
           },
           {
            "bin_start": 18049.48,
            "bin_end": 21037.11,
            "count": 0
           },
           {
            "bin_start": 21037.11,
            "bin_end": 24024.74,
            "count": 0
           },
           {
            "bin_start": 24024.74,
            "bin_end": 27012.370000000003,
            "count": 0
           },
           {
            "bin_start": 27012.370000000003,
            "bin_end": 30000,
            "count": 1
           }
          ]
         }
        },
        {
         "name": "monto_linea_tc",
         "dtype": "float64",
         "stats": {
          "unique_count": 8,
          "nan_count": 5,
          "min": "0.0",
          "max": "121543.4",
          "histogram": [
           {
            "bin_start": 0,
            "bin_end": 12154.34,
            "count": 6
           },
           {
            "bin_start": 12154.34,
            "bin_end": 24308.68,
            "count": 1
           },
           {
            "bin_start": 24308.68,
            "bin_end": 36463.020000000004,
            "count": 0
           },
           {
            "bin_start": 36463.020000000004,
            "bin_end": 48617.36,
            "count": 0
           },
           {
            "bin_start": 48617.36,
            "bin_end": 60771.7,
            "count": 0
           },
           {
            "bin_start": 60771.7,
            "bin_end": 72926.04000000001,
            "count": 0
           },
           {
            "bin_start": 72926.04000000001,
            "bin_end": 85080.38,
            "count": 0
           },
           {
            "bin_start": 85080.38,
            "bin_end": 97234.72,
            "count": 0
           },
           {
            "bin_start": 97234.72,
            "bin_end": 109389.06,
            "count": 0
           },
           {
            "bin_start": 109389.06,
            "bin_end": 121543.4,
            "count": 1
           }
          ]
         }
        },
        {
         "name": "monto_saldo_deudor_prom",
         "dtype": "float64",
         "stats": {
          "unique_count": 8,
          "nan_count": 5,
          "min": "0.0",
          "max": "57094.38",
          "histogram": [
           {
            "bin_start": 0,
            "bin_end": 5709.438,
            "count": 5
           },
           {
            "bin_start": 5709.438,
            "bin_end": 11418.876,
            "count": 2
           },
           {
            "bin_start": 11418.876,
            "bin_end": 17128.314,
            "count": 0
           },
           {
            "bin_start": 17128.314,
            "bin_end": 22837.752,
            "count": 0
           },
           {
            "bin_start": 22837.752,
            "bin_end": 28547.190000000002,
            "count": 0
           },
           {
            "bin_start": 28547.190000000002,
            "bin_end": 34256.628,
            "count": 0
           },
           {
            "bin_start": 34256.628,
            "bin_end": 39966.066,
            "count": 0
           },
           {
            "bin_start": 39966.066,
            "bin_end": 45675.504,
            "count": 0
           },
           {
            "bin_start": 45675.504,
            "bin_end": 51384.942,
            "count": 0
           },
           {
            "bin_start": 51384.942,
            "bin_end": 57094.38,
            "count": 1
           }
          ]
         }
        },
        {
         "name": "score_aprob_tc",
         "dtype": "float64",
         "stats": {
          "unique_count": 8,
          "nan_count": 5,
          "min": "19.41631646087851",
          "max": "5000.0",
          "histogram": [
           {
            "bin_start": 19.41631646087851,
            "bin_end": 517.4746848147907,
            "count": 7
           },
           {
            "bin_start": 517.4746848147907,
            "bin_end": 1015.533053168703,
            "count": 0
           },
           {
            "bin_start": 1015.533053168703,
            "bin_end": 1513.5914215226153,
            "count": 0
           },
           {
            "bin_start": 1513.5914215226153,
            "bin_end": 2011.6497898765274,
            "count": 0
           },
           {
            "bin_start": 2011.6497898765274,
            "bin_end": 2509.7081582304395,
            "count": 0
           },
           {
            "bin_start": 2509.7081582304395,
            "bin_end": 3007.766526584352,
            "count": 0
           },
           {
            "bin_start": 3007.766526584352,
            "bin_end": 3505.824894938264,
            "count": 0
           },
           {
            "bin_start": 3505.824894938264,
            "bin_end": 4003.8832632921763,
            "count": 0
           },
           {
            "bin_start": 4003.8832632921763,
            "bin_end": 4501.941631646088,
            "count": 0
           },
           {
            "bin_start": 4501.941631646088,
            "bin_end": 5000,
            "count": 1
           }
          ]
         }
        },
        {
         "name": "nro_veces_abono_12m_antes",
         "dtype": "float64",
         "stats": {
          "unique_count": 5,
          "nan_count": 5,
          "min": "0.0",
          "max": "5000.0",
          "histogram": [
           {
            "bin_start": 0,
            "bin_end": 500,
            "count": 7
           },
           {
            "bin_start": 500,
            "bin_end": 1000,
            "count": 0
           },
           {
            "bin_start": 1000,
            "bin_end": 1500,
            "count": 0
           },
           {
            "bin_start": 1500,
            "bin_end": 2000,
            "count": 0
           },
           {
            "bin_start": 2000,
            "bin_end": 2500,
            "count": 0
           },
           {
            "bin_start": 2500,
            "bin_end": 3000,
            "count": 0
           },
           {
            "bin_start": 3000,
            "bin_end": 3500,
            "count": 0
           },
           {
            "bin_start": 3500,
            "bin_end": 4000,
            "count": 0
           },
           {
            "bin_start": 4000,
            "bin_end": 4500,
            "count": 0
           },
           {
            "bin_start": 4500,
            "bin_end": 5000,
            "count": 1
           }
          ]
         }
        },
        {
         "name": "zona_geografica",
         "dtype": "object",
         "stats": {
          "unique_count": 4,
          "nan_count": 9,
          "categories": [
           {
            "name": "5000",
            "count": 1
           },
           {
            "name": "3 others",
            "count": 3
           },
           {
            "name": "Missing",
            "count": 9
           }
          ]
         }
        },
        {
         "name": "riesgos_sbs",
         "dtype": "float64",
         "stats": {
          "unique_count": 6,
          "nan_count": 5,
          "min": "0.0",
          "max": "5000.0",
          "histogram": [
           {
            "bin_start": 0,
            "bin_end": 500,
            "count": 7
           },
           {
            "bin_start": 500,
            "bin_end": 1000,
            "count": 0
           },
           {
            "bin_start": 1000,
            "bin_end": 1500,
            "count": 0
           },
           {
            "bin_start": 1500,
            "bin_end": 2000,
            "count": 0
           },
           {
            "bin_start": 2000,
            "bin_end": 2500,
            "count": 0
           },
           {
            "bin_start": 2500,
            "bin_end": 3000,
            "count": 0
           },
           {
            "bin_start": 3000,
            "bin_end": 3500,
            "count": 0
           },
           {
            "bin_start": 3500,
            "bin_end": 4000,
            "count": 0
           },
           {
            "bin_start": 4000,
            "bin_end": 4500,
            "count": 0
           },
           {
            "bin_start": 4500,
            "bin_end": 5000,
            "count": 1
           }
          ]
         }
        },
        {
         "name": "nivel_educativo",
         "dtype": "object",
         "stats": {
          "unique_count": 4,
          "nan_count": 9,
          "categories": [
           {
            "name": "5000",
            "count": 1
           },
           {
            "name": "3 others",
            "count": 3
           },
           {
            "name": "Missing",
            "count": 9
           }
          ]
         }
        },
        {
         "name": "_deepnote_index_column",
         "dtype": "object"
        }
       ],
       "rows": [
        {
         "mora_60": 5000,
         "dias_atraso_12_meses_antes": 5000,
         "situacion_casa": "5000",
         "edad": 5000,
         "fecha_ingreso_empleo": "5000",
         "antiguedad_tc_meses": 5000,
         "producto_pasivo_12_meses_antes": 5000,
         "ingreso_mensual": 5000,
         "monto_linea_tc": 5000,
         "monto_saldo_deudor_prom": 5000,
         "score_aprob_tc": 5000,
         "nro_veces_abono_12m_antes": 5000,
         "zona_geografica": "5000",
         "riesgos_sbs": 5000,
         "nivel_educativo": "5000",
         "_deepnote_index_column": "count"
        },
        {
         "mora_60": "nan",
         "dias_atraso_12_meses_antes": "nan",
         "situacion_casa": "4",
         "edad": "nan",
         "fecha_ingreso_empleo": "941",
         "antiguedad_tc_meses": "nan",
         "producto_pasivo_12_meses_antes": "nan",
         "ingreso_mensual": "nan",
         "monto_linea_tc": "nan",
         "monto_saldo_deudor_prom": "nan",
         "score_aprob_tc": "nan",
         "nro_veces_abono_12m_antes": "nan",
         "zona_geografica": "25",
         "riesgos_sbs": "nan",
         "nivel_educativo": "5",
         "_deepnote_index_column": "unique"
        },
        {
         "mora_60": "nan",
         "dias_atraso_12_meses_antes": "nan",
         "situacion_casa": "FAMILIAR",
         "edad": "nan",
         "fecha_ingreso_empleo": "2000-01-01 00:00:00",
         "antiguedad_tc_meses": "nan",
         "producto_pasivo_12_meses_antes": "nan",
         "ingreso_mensual": "nan",
         "monto_linea_tc": "nan",
         "monto_saldo_deudor_prom": "nan",
         "score_aprob_tc": "nan",
         "nro_veces_abono_12m_antes": "nan",
         "zona_geografica": "Lima",
         "riesgos_sbs": "nan",
         "nivel_educativo": "PROFESIONAL",
         "_deepnote_index_column": "top"
        },
        {
         "mora_60": "nan",
         "dias_atraso_12_meses_antes": "nan",
         "situacion_casa": "3471",
         "edad": "nan",
         "fecha_ingreso_empleo": "144",
         "antiguedad_tc_meses": "nan",
         "producto_pasivo_12_meses_antes": "nan",
         "ingreso_mensual": "nan",
         "monto_linea_tc": "nan",
         "monto_saldo_deudor_prom": "nan",
         "score_aprob_tc": "nan",
         "nro_veces_abono_12m_antes": "nan",
         "zona_geografica": "2948",
         "riesgos_sbs": "nan",
         "nivel_educativo": "2666",
         "_deepnote_index_column": "freq"
        },
        {
         "mora_60": "nan",
         "dias_atraso_12_meses_antes": "nan",
         "situacion_casa": "nan",
         "edad": "nan",
         "fecha_ingreso_empleo": "1961-01-01 00:00:00",
         "antiguedad_tc_meses": "nan",
         "producto_pasivo_12_meses_antes": "nan",
         "ingreso_mensual": "nan",
         "monto_linea_tc": "nan",
         "monto_saldo_deudor_prom": "nan",
         "score_aprob_tc": "nan",
         "nro_veces_abono_12m_antes": "nan",
         "zona_geografica": "nan",
         "riesgos_sbs": "nan",
         "nivel_educativo": "nan",
         "_deepnote_index_column": "first"
        },
        {
         "mora_60": "nan",
         "dias_atraso_12_meses_antes": "nan",
         "situacion_casa": "nan",
         "edad": "nan",
         "fecha_ingreso_empleo": "2009-08-01 00:00:00",
         "antiguedad_tc_meses": "nan",
         "producto_pasivo_12_meses_antes": "nan",
         "ingreso_mensual": "nan",
         "monto_linea_tc": "nan",
         "monto_saldo_deudor_prom": "nan",
         "score_aprob_tc": "nan",
         "nro_veces_abono_12m_antes": "nan",
         "zona_geografica": "nan",
         "riesgos_sbs": "nan",
         "nivel_educativo": "nan",
         "_deepnote_index_column": "last"
        },
        {
         "mora_60": 0.7,
         "dias_atraso_12_meses_antes": 4.4808,
         "situacion_casa": "nan",
         "edad": 36.4294,
         "fecha_ingreso_empleo": "nan",
         "antiguedad_tc_meses": 25.386,
         "producto_pasivo_12_meses_antes": 10.571,
         "ingreso_mensual": 4373.572006,
         "monto_linea_tc": 10236.73633,
         "monto_saldo_deudor_prom": 5732.438204,
         "score_aprob_tc": 196.7624,
         "nro_veces_abono_12m_antes": 7.9008,
         "zona_geografica": "nan",
         "riesgos_sbs": 0.5636,
         "nivel_educativo": "nan",
         "_deepnote_index_column": "mean"
        },
        {
         "mora_60": 0.45830340212754295,
         "dias_atraso_12_meses_antes": 13.945240238341576,
         "situacion_casa": "nan",
         "edad": 9.787225020133079,
         "fecha_ingreso_empleo": "nan",
         "antiguedad_tc_meses": 32.01426536151232,
         "producto_pasivo_12_meses_antes": 3.3961251056382817,
         "ingreso_mensual": 5393.520234853904,
         "monto_linea_tc": 19853.87145215478,
         "monto_saldo_deudor_prom": 10869.69211105206,
         "score_aprob_tc": 19.41631646087851,
         "nro_veces_abono_12m_antes": 5.277549608101586,
         "zona_geografica": "nan",
         "riesgos_sbs": 0.9027281005954788,
         "nivel_educativo": "nan",
         "_deepnote_index_column": "std"
        },
        {
         "mora_60": 0,
         "dias_atraso_12_meses_antes": 0,
         "situacion_casa": "nan",
         "edad": 20,
         "fecha_ingreso_empleo": "nan",
         "antiguedad_tc_meses": 0,
         "producto_pasivo_12_meses_antes": 0,
         "ingreso_mensual": 123.7,
         "monto_linea_tc": 0,
         "monto_saldo_deudor_prom": 0,
         "score_aprob_tc": 134,
         "nro_veces_abono_12m_antes": 0,
         "zona_geografica": "nan",
         "riesgos_sbs": 0,
         "nivel_educativo": "nan",
         "_deepnote_index_column": "min"
        },
        {
         "mora_60": 0,
         "dias_atraso_12_meses_antes": 0,
         "situacion_casa": "nan",
         "edad": 29,
         "fecha_ingreso_empleo": "nan",
         "antiguedad_tc_meses": 0,
         "producto_pasivo_12_meses_antes": 12,
         "ingreso_mensual": 1400,
         "monto_linea_tc": 389.365,
         "monto_saldo_deudor_prom": 283.605,
         "score_aprob_tc": 182,
         "nro_veces_abono_12m_antes": 0,
         "zona_geografica": "nan",
         "riesgos_sbs": 0,
         "nivel_educativo": "nan",
         "_deepnote_index_column": "25%"
        }
       ]
      },
      "text/plain": "         mora_60  dias_atraso_12_meses_antes situacion_casa      edad  \\\ncount  5,000.000                   5,000.000           5000 5,000.000   \nunique       NaN                         NaN              4       NaN   \ntop          NaN                         NaN       FAMILIAR       NaN   \nfreq         NaN                         NaN           3471       NaN   \nfirst        NaN                         NaN            NaN       NaN   \nlast         NaN                         NaN            NaN       NaN   \nmean       0.700                       4.481            NaN    36.429   \nstd        0.458                      13.945            NaN     9.787   \nmin        0.000                       0.000            NaN    20.000   \n25%        0.000                       0.000            NaN    29.000   \n50%        1.000                       0.000            NaN    34.000   \n75%        1.000                       2.000            NaN    42.000   \nmax        1.000                     245.000            NaN    85.000   \n\n       fecha_ingreso_empleo  antiguedad_tc_meses  \\\ncount                  5000            5,000.000   \nunique                  941                  NaN   \ntop     2000-01-01 00:00:00                  NaN   \nfreq                    144                  NaN   \nfirst   1961-01-01 00:00:00                  NaN   \nlast    2009-08-01 00:00:00                  NaN   \nmean                    NaN               25.386   \nstd                     NaN               32.014   \nmin                     NaN                0.000   \n25%                     NaN                0.000   \n50%                     NaN               12.000   \n75%                     NaN               39.000   \nmax                     NaN              130.000   \n\n        producto_pasivo_12_meses_antes  ingreso_mensual  monto_linea_tc  \\\ncount                        5,000.000        5,000.000       5,000.000   \nunique                             NaN              NaN             NaN   \ntop                                NaN              NaN             NaN   \nfreq                               NaN              NaN             NaN   \nfirst                              NaN              NaN             NaN   \nlast                               NaN              NaN             NaN   \nmean                            10.571        4,373.572      10,236.736   \nstd                              3.396        5,393.520      19,853.871   \nmin                              0.000          123.700           0.000   \n25%                             12.000        1,400.000         389.365   \n50%                             12.000        2,400.000       2,915.955   \n75%                             12.000        4,900.000       9,763.388   \nmax                             12.000       30,000.000     121,543.400   \n\n        monto_saldo_deudor_prom  score_aprob_tc  nro_veces_abono_12m_antes  \\\ncount                 5,000.000       5,000.000                  5,000.000   \nunique                      NaN             NaN                        NaN   \ntop                         NaN             NaN                        NaN   \nfreq                        NaN             NaN                        NaN   \nfirst                       NaN             NaN                        NaN   \nlast                        NaN             NaN                        NaN   \nmean                  5,732.438         196.762                      7.901   \nstd                  10,869.692          19.416                      5.278   \nmin                       0.000         134.000                      0.000   \n25%                     283.605         182.000                      0.000   \n50%                   2,077.105         197.000                     12.000   \n75%                   5,384.220         212.000                     12.000   \nmax                  57,094.380         266.000                     12.000   \n\n       zona_geografica  riesgos_sbs nivel_educativo  \ncount             5000    5,000.000            5000  \nunique              25          NaN               5  \ntop               Lima          NaN     PROFESIONAL  \nfreq              2948          NaN            2666  \nfirst              NaN          NaN             NaN  \nlast               NaN          NaN             NaN  \nmean               NaN        0.564             NaN  \nstd                NaN        0.903             NaN  \nmin                NaN        0.000             NaN  \n25%                NaN        0.000             NaN  \n50%                NaN        0.000             NaN  \n75%                NaN        1.000             NaN  \nmax                NaN        4.000             NaN  ",
      "text/html": "<div>\n<style scoped>\n    .dataframe tbody tr th:only-of-type {\n        vertical-align: middle;\n    }\n\n    .dataframe tbody tr th {\n        vertical-align: top;\n    }\n\n    .dataframe thead th {\n        text-align: right;\n    }\n</style>\n<table border=\"1\" class=\"dataframe\">\n  <thead>\n    <tr style=\"text-align: right;\">\n      <th></th>\n      <th>mora_60</th>\n      <th>dias_atraso_12_meses_antes</th>\n      <th>situacion_casa</th>\n      <th>edad</th>\n      <th>fecha_ingreso_empleo</th>\n      <th>antiguedad_tc_meses</th>\n      <th>producto_pasivo_12_meses_antes</th>\n      <th>ingreso_mensual</th>\n      <th>monto_linea_tc</th>\n      <th>monto_saldo_deudor_prom</th>\n      <th>score_aprob_tc</th>\n      <th>nro_veces_abono_12m_antes</th>\n      <th>zona_geografica</th>\n      <th>riesgos_sbs</th>\n      <th>nivel_educativo</th>\n    </tr>\n  </thead>\n  <tbody>\n    <tr>\n      <th>count</th>\n      <td>5,000.000</td>\n      <td>5,000.000</td>\n      <td>5000</td>\n      <td>5,000.000</td>\n      <td>5000</td>\n      <td>5,000.000</td>\n      <td>5,000.000</td>\n      <td>5,000.000</td>\n      <td>5,000.000</td>\n      <td>5,000.000</td>\n      <td>5,000.000</td>\n      <td>5,000.000</td>\n      <td>5000</td>\n      <td>5,000.000</td>\n      <td>5000</td>\n    </tr>\n    <tr>\n      <th>unique</th>\n      <td>NaN</td>\n      <td>NaN</td>\n      <td>4</td>\n      <td>NaN</td>\n      <td>941</td>\n      <td>NaN</td>\n      <td>NaN</td>\n      <td>NaN</td>\n      <td>NaN</td>\n      <td>NaN</td>\n      <td>NaN</td>\n      <td>NaN</td>\n      <td>25</td>\n      <td>NaN</td>\n      <td>5</td>\n    </tr>\n    <tr>\n      <th>top</th>\n      <td>NaN</td>\n      <td>NaN</td>\n      <td>FAMILIAR</td>\n      <td>NaN</td>\n      <td>2000-01-01 00:00:00</td>\n      <td>NaN</td>\n      <td>NaN</td>\n      <td>NaN</td>\n      <td>NaN</td>\n      <td>NaN</td>\n      <td>NaN</td>\n      <td>NaN</td>\n      <td>Lima</td>\n      <td>NaN</td>\n      <td>PROFESIONAL</td>\n    </tr>\n    <tr>\n      <th>freq</th>\n      <td>NaN</td>\n      <td>NaN</td>\n      <td>3471</td>\n      <td>NaN</td>\n      <td>144</td>\n      <td>NaN</td>\n      <td>NaN</td>\n      <td>NaN</td>\n      <td>NaN</td>\n      <td>NaN</td>\n      <td>NaN</td>\n      <td>NaN</td>\n      <td>2948</td>\n      <td>NaN</td>\n      <td>2666</td>\n    </tr>\n    <tr>\n      <th>first</th>\n      <td>NaN</td>\n      <td>NaN</td>\n      <td>NaN</td>\n      <td>NaN</td>\n      <td>1961-01-01 00:00:00</td>\n      <td>NaN</td>\n      <td>NaN</td>\n      <td>NaN</td>\n      <td>NaN</td>\n      <td>NaN</td>\n      <td>NaN</td>\n      <td>NaN</td>\n      <td>NaN</td>\n      <td>NaN</td>\n      <td>NaN</td>\n    </tr>\n    <tr>\n      <th>last</th>\n      <td>NaN</td>\n      <td>NaN</td>\n      <td>NaN</td>\n      <td>NaN</td>\n      <td>2009-08-01 00:00:00</td>\n      <td>NaN</td>\n      <td>NaN</td>\n      <td>NaN</td>\n      <td>NaN</td>\n      <td>NaN</td>\n      <td>NaN</td>\n      <td>NaN</td>\n      <td>NaN</td>\n      <td>NaN</td>\n      <td>NaN</td>\n    </tr>\n    <tr>\n      <th>mean</th>\n      <td>0.700</td>\n      <td>4.481</td>\n      <td>NaN</td>\n      <td>36.429</td>\n      <td>NaN</td>\n      <td>25.386</td>\n      <td>10.571</td>\n      <td>4,373.572</td>\n      <td>10,236.736</td>\n      <td>5,732.438</td>\n      <td>196.762</td>\n      <td>7.901</td>\n      <td>NaN</td>\n      <td>0.564</td>\n      <td>NaN</td>\n    </tr>\n    <tr>\n      <th>std</th>\n      <td>0.458</td>\n      <td>13.945</td>\n      <td>NaN</td>\n      <td>9.787</td>\n      <td>NaN</td>\n      <td>32.014</td>\n      <td>3.396</td>\n      <td>5,393.520</td>\n      <td>19,853.871</td>\n      <td>10,869.692</td>\n      <td>19.416</td>\n      <td>5.278</td>\n      <td>NaN</td>\n      <td>0.903</td>\n      <td>NaN</td>\n    </tr>\n    <tr>\n      <th>min</th>\n      <td>0.000</td>\n      <td>0.000</td>\n      <td>NaN</td>\n      <td>20.000</td>\n      <td>NaN</td>\n      <td>0.000</td>\n      <td>0.000</td>\n      <td>123.700</td>\n      <td>0.000</td>\n      <td>0.000</td>\n      <td>134.000</td>\n      <td>0.000</td>\n      <td>NaN</td>\n      <td>0.000</td>\n      <td>NaN</td>\n    </tr>\n    <tr>\n      <th>25%</th>\n      <td>0.000</td>\n      <td>0.000</td>\n      <td>NaN</td>\n      <td>29.000</td>\n      <td>NaN</td>\n      <td>0.000</td>\n      <td>12.000</td>\n      <td>1,400.000</td>\n      <td>389.365</td>\n      <td>283.605</td>\n      <td>182.000</td>\n      <td>0.000</td>\n      <td>NaN</td>\n      <td>0.000</td>\n      <td>NaN</td>\n    </tr>\n    <tr>\n      <th>50%</th>\n      <td>1.000</td>\n      <td>0.000</td>\n      <td>NaN</td>\n      <td>34.000</td>\n      <td>NaN</td>\n      <td>12.000</td>\n      <td>12.000</td>\n      <td>2,400.000</td>\n      <td>2,915.955</td>\n      <td>2,077.105</td>\n      <td>197.000</td>\n      <td>12.000</td>\n      <td>NaN</td>\n      <td>0.000</td>\n      <td>NaN</td>\n    </tr>\n    <tr>\n      <th>75%</th>\n      <td>1.000</td>\n      <td>2.000</td>\n      <td>NaN</td>\n      <td>42.000</td>\n      <td>NaN</td>\n      <td>39.000</td>\n      <td>12.000</td>\n      <td>4,900.000</td>\n      <td>9,763.388</td>\n      <td>5,384.220</td>\n      <td>212.000</td>\n      <td>12.000</td>\n      <td>NaN</td>\n      <td>1.000</td>\n      <td>NaN</td>\n    </tr>\n    <tr>\n      <th>max</th>\n      <td>1.000</td>\n      <td>245.000</td>\n      <td>NaN</td>\n      <td>85.000</td>\n      <td>NaN</td>\n      <td>130.000</td>\n      <td>12.000</td>\n      <td>30,000.000</td>\n      <td>121,543.400</td>\n      <td>57,094.380</td>\n      <td>266.000</td>\n      <td>12.000</td>\n      <td>NaN</td>\n      <td>4.000</td>\n      <td>NaN</td>\n    </tr>\n  </tbody>\n</table>\n</div>"
     },
     "metadata": {}
    }
   ],
   "execution_count": null
  },
  {
   "cell_type": "markdown",
   "source": "Replace the empty values with nan",
   "metadata": {
    "cell_id": "662d3985-964b-4633-b2f8-26e102e7f248",
    "tags": [],
    "deepnote_cell_type": "markdown",
    "deepnote_cell_height": 52.375
   }
  },
  {
   "cell_type": "code",
   "metadata": {
    "cell_id": "415f5b28-2c98-4998-b63d-85a06e8270a0",
    "tags": [],
    "deepnote_to_be_reexecuted": false,
    "source_hash": "79c8ffac",
    "execution_start": 1647270240161,
    "execution_millis": 1,
    "deepnote_cell_type": "code",
    "deepnote_cell_height": 80.953125
   },
   "source": "df_bcp.replace([' ', '', '?'], np.nan, inplace = True)",
   "outputs": [],
   "execution_count": null
  },
  {
   "cell_type": "markdown",
   "source": "## Null or nan values",
   "metadata": {
    "cell_id": "ea666193-a359-4f0b-98f9-84fa4da53bd3",
    "tags": [],
    "deepnote_to_be_reexecuted": false,
    "source_hash": "d4ede98b",
    "execution_start": 1647104012780,
    "execution_millis": 11,
    "deepnote_cell_type": "markdown",
    "deepnote_cell_height": 69.96875
   }
  },
  {
   "cell_type": "code",
   "metadata": {
    "cell_id": "ef66cedf-41a7-41b0-9bda-c2172a6cc162",
    "tags": [],
    "deepnote_to_be_reexecuted": false,
    "source_hash": "964031e7",
    "execution_start": 1647270240162,
    "execution_millis": 4,
    "deepnote_cell_type": "code",
    "deepnote_cell_height": 429.421875
   },
   "source": "df_bcp_null = df_bcp.isnull()\ndf_bcp_null.head()",
   "outputs": [
    {
     "output_type": "execute_result",
     "execution_count": 13,
     "data": {
      "application/vnd.deepnote.dataframe.v3+json": {
       "column_count": 15,
       "row_count": 5,
       "columns": [
        {
         "name": "mora_60",
         "dtype": "bool",
         "stats": {
          "unique_count": 1,
          "nan_count": 0,
          "categories": [
           {
            "name": "False",
            "count": 5
           }
          ]
         }
        },
        {
         "name": "dias_atraso_12_meses_antes",
         "dtype": "bool",
         "stats": {
          "unique_count": 1,
          "nan_count": 0,
          "categories": [
           {
            "name": "False",
            "count": 5
           }
          ]
         }
        },
        {
         "name": "situacion_casa",
         "dtype": "bool",
         "stats": {
          "unique_count": 1,
          "nan_count": 0,
          "categories": [
           {
            "name": "False",
            "count": 5
           }
          ]
         }
        },
        {
         "name": "edad",
         "dtype": "bool",
         "stats": {
          "unique_count": 1,
          "nan_count": 0,
          "categories": [
           {
            "name": "False",
            "count": 5
           }
          ]
         }
        },
        {
         "name": "fecha_ingreso_empleo",
         "dtype": "bool",
         "stats": {
          "unique_count": 1,
          "nan_count": 0,
          "categories": [
           {
            "name": "False",
            "count": 5
           }
          ]
         }
        },
        {
         "name": "antiguedad_tc_meses",
         "dtype": "bool",
         "stats": {
          "unique_count": 1,
          "nan_count": 0,
          "categories": [
           {
            "name": "False",
            "count": 5
           }
          ]
         }
        },
        {
         "name": "producto_pasivo_12_meses_antes",
         "dtype": "bool",
         "stats": {
          "unique_count": 1,
          "nan_count": 0,
          "categories": [
           {
            "name": "False",
            "count": 5
           }
          ]
         }
        },
        {
         "name": "ingreso_mensual",
         "dtype": "bool",
         "stats": {
          "unique_count": 1,
          "nan_count": 0,
          "categories": [
           {
            "name": "False",
            "count": 5
           }
          ]
         }
        },
        {
         "name": "monto_linea_tc",
         "dtype": "bool",
         "stats": {
          "unique_count": 1,
          "nan_count": 0,
          "categories": [
           {
            "name": "False",
            "count": 5
           }
          ]
         }
        },
        {
         "name": "monto_saldo_deudor_prom",
         "dtype": "bool",
         "stats": {
          "unique_count": 1,
          "nan_count": 0,
          "categories": [
           {
            "name": "False",
            "count": 5
           }
          ]
         }
        },
        {
         "name": "score_aprob_tc",
         "dtype": "bool",
         "stats": {
          "unique_count": 1,
          "nan_count": 0,
          "categories": [
           {
            "name": "False",
            "count": 5
           }
          ]
         }
        },
        {
         "name": "nro_veces_abono_12m_antes",
         "dtype": "bool",
         "stats": {
          "unique_count": 1,
          "nan_count": 0,
          "categories": [
           {
            "name": "False",
            "count": 5
           }
          ]
         }
        },
        {
         "name": "zona_geografica",
         "dtype": "bool",
         "stats": {
          "unique_count": 1,
          "nan_count": 0,
          "categories": [
           {
            "name": "False",
            "count": 5
           }
          ]
         }
        },
        {
         "name": "riesgos_sbs",
         "dtype": "bool",
         "stats": {
          "unique_count": 1,
          "nan_count": 0,
          "categories": [
           {
            "name": "False",
            "count": 5
           }
          ]
         }
        },
        {
         "name": "nivel_educativo",
         "dtype": "bool",
         "stats": {
          "unique_count": 1,
          "nan_count": 0,
          "categories": [
           {
            "name": "False",
            "count": 5
           }
          ]
         }
        },
        {
         "name": "_deepnote_index_column",
         "dtype": "int64"
        }
       ],
       "rows": [
        {
         "mora_60": false,
         "dias_atraso_12_meses_antes": false,
         "situacion_casa": false,
         "edad": false,
         "fecha_ingreso_empleo": false,
         "antiguedad_tc_meses": false,
         "producto_pasivo_12_meses_antes": false,
         "ingreso_mensual": false,
         "monto_linea_tc": false,
         "monto_saldo_deudor_prom": false,
         "score_aprob_tc": false,
         "nro_veces_abono_12m_antes": false,
         "zona_geografica": false,
         "riesgos_sbs": false,
         "nivel_educativo": false,
         "_deepnote_index_column": 0
        },
        {
         "mora_60": false,
         "dias_atraso_12_meses_antes": false,
         "situacion_casa": false,
         "edad": false,
         "fecha_ingreso_empleo": false,
         "antiguedad_tc_meses": false,
         "producto_pasivo_12_meses_antes": false,
         "ingreso_mensual": false,
         "monto_linea_tc": false,
         "monto_saldo_deudor_prom": false,
         "score_aprob_tc": false,
         "nro_veces_abono_12m_antes": false,
         "zona_geografica": false,
         "riesgos_sbs": false,
         "nivel_educativo": false,
         "_deepnote_index_column": 1
        },
        {
         "mora_60": false,
         "dias_atraso_12_meses_antes": false,
         "situacion_casa": false,
         "edad": false,
         "fecha_ingreso_empleo": false,
         "antiguedad_tc_meses": false,
         "producto_pasivo_12_meses_antes": false,
         "ingreso_mensual": false,
         "monto_linea_tc": false,
         "monto_saldo_deudor_prom": false,
         "score_aprob_tc": false,
         "nro_veces_abono_12m_antes": false,
         "zona_geografica": false,
         "riesgos_sbs": false,
         "nivel_educativo": false,
         "_deepnote_index_column": 2
        },
        {
         "mora_60": false,
         "dias_atraso_12_meses_antes": false,
         "situacion_casa": false,
         "edad": false,
         "fecha_ingreso_empleo": false,
         "antiguedad_tc_meses": false,
         "producto_pasivo_12_meses_antes": false,
         "ingreso_mensual": false,
         "monto_linea_tc": false,
         "monto_saldo_deudor_prom": false,
         "score_aprob_tc": false,
         "nro_veces_abono_12m_antes": false,
         "zona_geografica": false,
         "riesgos_sbs": false,
         "nivel_educativo": false,
         "_deepnote_index_column": 3
        },
        {
         "mora_60": false,
         "dias_atraso_12_meses_antes": false,
         "situacion_casa": false,
         "edad": false,
         "fecha_ingreso_empleo": false,
         "antiguedad_tc_meses": false,
         "producto_pasivo_12_meses_antes": false,
         "ingreso_mensual": false,
         "monto_linea_tc": false,
         "monto_saldo_deudor_prom": false,
         "score_aprob_tc": false,
         "nro_veces_abono_12m_antes": false,
         "zona_geografica": false,
         "riesgos_sbs": false,
         "nivel_educativo": false,
         "_deepnote_index_column": 4
        }
       ]
      },
      "text/plain": "   mora_60  dias_atraso_12_meses_antes  situacion_casa   edad  \\\n0    False                       False           False  False   \n1    False                       False           False  False   \n2    False                       False           False  False   \n3    False                       False           False  False   \n4    False                       False           False  False   \n\n   fecha_ingreso_empleo  antiguedad_tc_meses  producto_pasivo_12_meses_antes  \\\n0                 False                False                           False   \n1                 False                False                           False   \n2                 False                False                           False   \n3                 False                False                           False   \n4                 False                False                           False   \n\n   ingreso_mensual  monto_linea_tc  monto_saldo_deudor_prom  score_aprob_tc  \\\n0            False           False                    False           False   \n1            False           False                    False           False   \n2            False           False                    False           False   \n3            False           False                    False           False   \n4            False           False                    False           False   \n\n   nro_veces_abono_12m_antes  zona_geografica  riesgos_sbs  nivel_educativo  \n0                      False            False        False            False  \n1                      False            False        False            False  \n2                      False            False        False            False  \n3                      False            False        False            False  \n4                      False            False        False            False  ",
      "text/html": "<div>\n<style scoped>\n    .dataframe tbody tr th:only-of-type {\n        vertical-align: middle;\n    }\n\n    .dataframe tbody tr th {\n        vertical-align: top;\n    }\n\n    .dataframe thead th {\n        text-align: right;\n    }\n</style>\n<table border=\"1\" class=\"dataframe\">\n  <thead>\n    <tr style=\"text-align: right;\">\n      <th></th>\n      <th>mora_60</th>\n      <th>dias_atraso_12_meses_antes</th>\n      <th>situacion_casa</th>\n      <th>edad</th>\n      <th>fecha_ingreso_empleo</th>\n      <th>antiguedad_tc_meses</th>\n      <th>producto_pasivo_12_meses_antes</th>\n      <th>ingreso_mensual</th>\n      <th>monto_linea_tc</th>\n      <th>monto_saldo_deudor_prom</th>\n      <th>score_aprob_tc</th>\n      <th>nro_veces_abono_12m_antes</th>\n      <th>zona_geografica</th>\n      <th>riesgos_sbs</th>\n      <th>nivel_educativo</th>\n    </tr>\n  </thead>\n  <tbody>\n    <tr>\n      <th>0</th>\n      <td>False</td>\n      <td>False</td>\n      <td>False</td>\n      <td>False</td>\n      <td>False</td>\n      <td>False</td>\n      <td>False</td>\n      <td>False</td>\n      <td>False</td>\n      <td>False</td>\n      <td>False</td>\n      <td>False</td>\n      <td>False</td>\n      <td>False</td>\n      <td>False</td>\n    </tr>\n    <tr>\n      <th>1</th>\n      <td>False</td>\n      <td>False</td>\n      <td>False</td>\n      <td>False</td>\n      <td>False</td>\n      <td>False</td>\n      <td>False</td>\n      <td>False</td>\n      <td>False</td>\n      <td>False</td>\n      <td>False</td>\n      <td>False</td>\n      <td>False</td>\n      <td>False</td>\n      <td>False</td>\n    </tr>\n    <tr>\n      <th>2</th>\n      <td>False</td>\n      <td>False</td>\n      <td>False</td>\n      <td>False</td>\n      <td>False</td>\n      <td>False</td>\n      <td>False</td>\n      <td>False</td>\n      <td>False</td>\n      <td>False</td>\n      <td>False</td>\n      <td>False</td>\n      <td>False</td>\n      <td>False</td>\n      <td>False</td>\n    </tr>\n    <tr>\n      <th>3</th>\n      <td>False</td>\n      <td>False</td>\n      <td>False</td>\n      <td>False</td>\n      <td>False</td>\n      <td>False</td>\n      <td>False</td>\n      <td>False</td>\n      <td>False</td>\n      <td>False</td>\n      <td>False</td>\n      <td>False</td>\n      <td>False</td>\n      <td>False</td>\n      <td>False</td>\n    </tr>\n    <tr>\n      <th>4</th>\n      <td>False</td>\n      <td>False</td>\n      <td>False</td>\n      <td>False</td>\n      <td>False</td>\n      <td>False</td>\n      <td>False</td>\n      <td>False</td>\n      <td>False</td>\n      <td>False</td>\n      <td>False</td>\n      <td>False</td>\n      <td>False</td>\n      <td>False</td>\n      <td>False</td>\n    </tr>\n  </tbody>\n</table>\n</div>"
     },
     "metadata": {}
    }
   ],
   "execution_count": null
  },
  {
   "cell_type": "code",
   "metadata": {
    "cell_id": "39aeefef-29af-4d6d-9568-2a6f120ac3c4",
    "tags": [],
    "deepnote_to_be_reexecuted": false,
    "source_hash": "31099c04",
    "execution_start": 1647270240170,
    "execution_millis": 21,
    "deepnote_cell_type": "code",
    "deepnote_cell_height": 241.921875
   },
   "source": "# count of null values\ncolumns_null_values = df_bcp_null.T.sum(axis = 1).to_frame(name = 'null_values_count')\ncolumns_null_values = columns_null_values[columns_null_values['null_values_count'] != 0]\ncolumns_null_values",
   "outputs": [
    {
     "output_type": "execute_result",
     "execution_count": 14,
     "data": {
      "application/vnd.deepnote.dataframe.v3+json": {
       "column_count": 1,
       "row_count": 0,
       "columns": [
        {
         "name": "null_values_count",
         "dtype": "int64",
         "stats": {
          "unique_count": 0,
          "nan_count": 0,
          "min": null,
          "max": null,
          "histogram": [
           {
            "bin_start": 0,
            "bin_end": 0.1,
            "count": 0
           },
           {
            "bin_start": 0.1,
            "bin_end": 0.2,
            "count": 0
           },
           {
            "bin_start": 0.2,
            "bin_end": 0.30000000000000004,
            "count": 0
           },
           {
            "bin_start": 0.30000000000000004,
            "bin_end": 0.4,
            "count": 0
           },
           {
            "bin_start": 0.4,
            "bin_end": 0.5,
            "count": 0
           },
           {
            "bin_start": 0.5,
            "bin_end": 0.6000000000000001,
            "count": 0
           },
           {
            "bin_start": 0.6000000000000001,
            "bin_end": 0.7000000000000001,
            "count": 0
           },
           {
            "bin_start": 0.7000000000000001,
            "bin_end": 0.8,
            "count": 0
           },
           {
            "bin_start": 0.8,
            "bin_end": 0.9,
            "count": 0
           },
           {
            "bin_start": 0.9,
            "bin_end": 1,
            "count": 0
           }
          ]
         }
        },
        {
         "name": "_deepnote_index_column",
         "dtype": "object"
        }
       ],
       "rows": []
      },
      "text/plain": "Empty DataFrame\nColumns: [null_values_count]\nIndex: []",
      "text/html": "<div>\n<style scoped>\n    .dataframe tbody tr th:only-of-type {\n        vertical-align: middle;\n    }\n\n    .dataframe tbody tr th {\n        vertical-align: top;\n    }\n\n    .dataframe thead th {\n        text-align: right;\n    }\n</style>\n<table border=\"1\" class=\"dataframe\">\n  <thead>\n    <tr style=\"text-align: right;\">\n      <th></th>\n      <th>null_values_count</th>\n    </tr>\n  </thead>\n  <tbody>\n  </tbody>\n</table>\n</div>"
     },
     "metadata": {}
    }
   ],
   "execution_count": null
  },
  {
   "cell_type": "markdown",
   "source": "We don't have null values in our data",
   "metadata": {
    "cell_id": "a5389e9c-2f8f-4da4-87ce-6d112dfad9e1",
    "tags": [],
    "deepnote_cell_type": "markdown",
    "deepnote_cell_height": 52.375
   }
  },
  {
   "cell_type": "markdown",
   "source": "## Change dtypes to the correct",
   "metadata": {
    "cell_id": "355a52a6-eb97-4898-8989-943de66c586b",
    "tags": [],
    "deepnote_cell_type": "markdown",
    "deepnote_cell_height": 82.75
   }
  },
  {
   "cell_type": "code",
   "metadata": {
    "cell_id": "d3dae2cf-ac56-495a-a0e7-f1aa9c79e2cc",
    "tags": [],
    "deepnote_to_be_reexecuted": false,
    "source_hash": "ed76c6",
    "execution_start": 1647270240196,
    "execution_millis": 3,
    "deepnote_cell_type": "code",
    "deepnote_cell_height": 406.140625,
    "deepnote_output_heights": [
     309.203125
    ]
   },
   "source": "df_bcp.dtypes",
   "outputs": [
    {
     "output_type": "execute_result",
     "execution_count": 15,
     "data": {
      "text/plain": "mora_60                                    int64\ndias_atraso_12_meses_antes                 int64\nsituacion_casa                            object\nedad                                       int64\nfecha_ingreso_empleo              datetime64[ns]\nantiguedad_tc_meses                        int64\nproducto_pasivo_12_meses_antes             int64\ningreso_mensual                          float64\nmonto_linea_tc                           float64\nmonto_saldo_deudor_prom                  float64\nscore_aprob_tc                             int64\nnro_veces_abono_12m_antes                  int64\nzona_geografica                           object\nriesgos_sbs                                int64\nnivel_educativo                           object\ndtype: object"
     },
     "metadata": {}
    }
   ],
   "execution_count": null
  },
  {
   "cell_type": "code",
   "metadata": {
    "cell_id": "6e93c2be-bdf4-41e8-bf5c-2561cbbc502d",
    "tags": [],
    "deepnote_to_be_reexecuted": false,
    "source_hash": "2ebeff1c",
    "execution_start": 1647270240239,
    "execution_millis": 4,
    "deepnote_cell_type": "code",
    "deepnote_cell_height": 616.15625,
    "deepnote_output_heights": [
     501.21875
    ]
   },
   "source": "# change object to category\ndf_bcp['zona_geografica'].value_counts()",
   "outputs": [
    {
     "output_type": "execute_result",
     "execution_count": 16,
     "data": {
      "text/plain": "Lima             2948\nCallao            299\nLa Libertad       258\nArequipa          207\nIca               183\nPiura             173\nLambayeque        172\nJunin             166\nAncash            125\nCajamarca          99\nLoreto             73\nCuzco              55\nUcayali            48\nPasco              35\nMoquegua           28\nSan Martin         24\nHuanuco            23\nTacna              22\nPuno               16\nAyacucho           16\nTumbes             16\nApurimac            6\nMadre de Dios       4\nHuancavelica        3\nAmazonas            1\nName: zona_geografica, dtype: int64"
     },
     "metadata": {}
    }
   ],
   "execution_count": null
  },
  {
   "cell_type": "code",
   "metadata": {
    "cell_id": "dd27a3aa-4b83-4d4b-aa3e-3c7cfc51b9ff",
    "tags": [],
    "deepnote_to_be_reexecuted": false,
    "source_hash": "290151c5",
    "execution_start": 1647270240240,
    "execution_millis": 1,
    "deepnote_cell_type": "code",
    "deepnote_cell_height": 80.953125
   },
   "source": "df_bcp[['situacion_casa', 'zona_geografica', 'nivel_educativo']] = df_bcp[['situacion_casa', 'zona_geografica', 'nivel_educativo']].astype('category')",
   "outputs": [],
   "execution_count": null
  },
  {
   "cell_type": "code",
   "metadata": {
    "cell_id": "66ac0f44-bc9d-498e-9e7a-26ec5cb06f80",
    "tags": [],
    "deepnote_to_be_reexecuted": false,
    "source_hash": "40311e16",
    "execution_start": 1647270240241,
    "execution_millis": 2,
    "deepnote_cell_type": "code",
    "deepnote_cell_height": 424.140625,
    "deepnote_output_heights": [
     309.203125
    ]
   },
   "source": "# verify if we have correct data types\ndf_bcp.dtypes",
   "outputs": [
    {
     "output_type": "execute_result",
     "execution_count": 18,
     "data": {
      "text/plain": "mora_60                                    int64\ndias_atraso_12_meses_antes                 int64\nsituacion_casa                          category\nedad                                       int64\nfecha_ingreso_empleo              datetime64[ns]\nantiguedad_tc_meses                        int64\nproducto_pasivo_12_meses_antes             int64\ningreso_mensual                          float64\nmonto_linea_tc                           float64\nmonto_saldo_deudor_prom                  float64\nscore_aprob_tc                             int64\nnro_veces_abono_12m_antes                  int64\nzona_geografica                         category\nriesgos_sbs                                int64\nnivel_educativo                         category\ndtype: object"
     },
     "metadata": {}
    }
   ],
   "execution_count": null
  },
  {
   "cell_type": "markdown",
   "source": "## Binning Edad",
   "metadata": {
    "cell_id": "9db7c9b7-d6a8-4203-8629-7d995a3e2398",
    "tags": [],
    "deepnote_cell_type": "markdown",
    "deepnote_cell_height": 69.96875
   }
  },
  {
   "cell_type": "code",
   "metadata": {
    "cell_id": "99fbdc0d-40b0-485c-9261-5299baa78907",
    "tags": [],
    "deepnote_to_be_reexecuted": false,
    "source_hash": "b23e2f2b",
    "execution_start": 1647270240270,
    "execution_millis": 2,
    "deepnote_cell_type": "code",
    "deepnote_cell_height": 154.109375,
    "deepnote_output_heights": [
     21.1875
    ]
   },
   "source": "# create bins\nbins_array = np.linspace(df_bcp['edad'].min(), df_bcp['edad'].max(), 4)\nbins_array",
   "outputs": [
    {
     "output_type": "execute_result",
     "execution_count": 20,
     "data": {
      "text/plain": "array([20.   , 41.667, 63.333, 85.   ])"
     },
     "metadata": {}
    }
   ],
   "execution_count": null
  },
  {
   "cell_type": "code",
   "metadata": {
    "cell_id": "ed4288b2-270c-4036-831f-4e77a0bdd08b",
    "tags": [],
    "deepnote_to_be_reexecuted": false,
    "source_hash": "b1f435b9",
    "execution_start": 1647270240270,
    "execution_millis": 2,
    "deepnote_cell_type": "code",
    "deepnote_cell_height": 136.109375,
    "deepnote_output_heights": [
     21.1875
    ]
   },
   "source": "labels_names = ['joven', 'adulto', 'adulto_mayor']\nlabels_names",
   "outputs": [
    {
     "output_type": "execute_result",
     "execution_count": 21,
     "data": {
      "text/plain": "['joven', 'adulto', 'adulto_mayor']"
     },
     "metadata": {}
    }
   ],
   "execution_count": null
  },
  {
   "cell_type": "code",
   "metadata": {
    "cell_id": "dd324c8e-bd14-4ed7-99cc-425c08cf7fcb",
    "tags": [],
    "deepnote_to_be_reexecuted": false,
    "source_hash": "65dca244",
    "execution_start": 1647270240313,
    "execution_millis": 19,
    "deepnote_cell_type": "code",
    "deepnote_cell_height": 429.421875
   },
   "source": "df_bcp['edad_binned'] = pd.cut(df_bcp['edad'], bins = bins_array, labels=labels_names, include_lowest=True)\ndf_bcp.head()",
   "outputs": [
    {
     "output_type": "execute_result",
     "execution_count": 22,
     "data": {
      "application/vnd.deepnote.dataframe.v3+json": {
       "column_count": 16,
       "row_count": 5,
       "columns": [
        {
         "name": "mora_60",
         "dtype": "int64",
         "stats": {
          "unique_count": 1,
          "nan_count": 0,
          "min": "0",
          "max": "0",
          "histogram": [
           {
            "bin_start": -0.5,
            "bin_end": -0.4,
            "count": 0
           },
           {
            "bin_start": -0.4,
            "bin_end": -0.3,
            "count": 0
           },
           {
            "bin_start": -0.3,
            "bin_end": -0.19999999999999996,
            "count": 0
           },
           {
            "bin_start": -0.19999999999999996,
            "bin_end": -0.09999999999999998,
            "count": 0
           },
           {
            "bin_start": -0.09999999999999998,
            "bin_end": 0,
            "count": 0
           },
           {
            "bin_start": 0,
            "bin_end": 0.10000000000000009,
            "count": 5
           },
           {
            "bin_start": 0.10000000000000009,
            "bin_end": 0.20000000000000007,
            "count": 0
           },
           {
            "bin_start": 0.20000000000000007,
            "bin_end": 0.30000000000000004,
            "count": 0
           },
           {
            "bin_start": 0.30000000000000004,
            "bin_end": 0.4,
            "count": 0
           },
           {
            "bin_start": 0.4,
            "bin_end": 0.5,
            "count": 0
           }
          ]
         }
        },
        {
         "name": "dias_atraso_12_meses_antes",
         "dtype": "int64",
         "stats": {
          "unique_count": 3,
          "nan_count": 0,
          "min": "0",
          "max": "235",
          "histogram": [
           {
            "bin_start": 0,
            "bin_end": 23.5,
            "count": 4
           },
           {
            "bin_start": 23.5,
            "bin_end": 47,
            "count": 0
           },
           {
            "bin_start": 47,
            "bin_end": 70.5,
            "count": 0
           },
           {
            "bin_start": 70.5,
            "bin_end": 94,
            "count": 0
           },
           {
            "bin_start": 94,
            "bin_end": 117.5,
            "count": 0
           },
           {
            "bin_start": 117.5,
            "bin_end": 141,
            "count": 0
           },
           {
            "bin_start": 141,
            "bin_end": 164.5,
            "count": 0
           },
           {
            "bin_start": 164.5,
            "bin_end": 188,
            "count": 0
           },
           {
            "bin_start": 188,
            "bin_end": 211.5,
            "count": 0
           },
           {
            "bin_start": 211.5,
            "bin_end": 235,
            "count": 1
           }
          ]
         }
        },
        {
         "name": "situacion_casa",
         "dtype": "category",
         "stats": {
          "unique_count": 1,
          "nan_count": 0,
          "categories": [
           {
            "name": "FAMILIAR",
            "count": 5
           }
          ]
         }
        },
        {
         "name": "edad",
         "dtype": "int64",
         "stats": {
          "unique_count": 5,
          "nan_count": 0,
          "min": "26",
          "max": "46",
          "histogram": [
           {
            "bin_start": 26,
            "bin_end": 28,
            "count": 1
           },
           {
            "bin_start": 28,
            "bin_end": 30,
            "count": 0
           },
           {
            "bin_start": 30,
            "bin_end": 32,
            "count": 1
           },
           {
            "bin_start": 32,
            "bin_end": 34,
            "count": 1
           },
           {
            "bin_start": 34,
            "bin_end": 36,
            "count": 0
           },
           {
            "bin_start": 36,
            "bin_end": 38,
            "count": 1
           },
           {
            "bin_start": 38,
            "bin_end": 40,
            "count": 0
           },
           {
            "bin_start": 40,
            "bin_end": 42,
            "count": 0
           },
           {
            "bin_start": 42,
            "bin_end": 44,
            "count": 0
           },
           {
            "bin_start": 44,
            "bin_end": 46,
            "count": 1
           }
          ]
         }
        },
        {
         "name": "fecha_ingreso_empleo",
         "dtype": "datetime64[ns]",
         "stats": {
          "unique_count": 5,
          "nan_count": 0,
          "min": "2003-07-01 00:00:00",
          "max": "2007-06-01 00:00:00",
          "histogram": [
           {
            "bin_start": 1057017600000000000,
            "bin_end": 1069381440000000000,
            "count": 2
           },
           {
            "bin_start": 1069381440000000000,
            "bin_end": 1081745280000000000,
            "count": 0
           },
           {
            "bin_start": 1081745280000000000,
            "bin_end": 1094109120000000000,
            "count": 0
           },
           {
            "bin_start": 1094109120000000000,
            "bin_end": 1106472960000000000,
            "count": 0
           },
           {
            "bin_start": 1106472960000000000,
            "bin_end": 1118836800000000000,
            "count": 1
           },
           {
            "bin_start": 1118836800000000000,
            "bin_end": 1131200640000000000,
            "count": 0
           },
           {
            "bin_start": 1131200640000000000,
            "bin_end": 1143564480000000000,
            "count": 0
           },
           {
            "bin_start": 1143564480000000000,
            "bin_end": 1155928320000000000,
            "count": 0
           },
           {
            "bin_start": 1155928320000000000,
            "bin_end": 1168292160000000000,
            "count": 1
           },
           {
            "bin_start": 1168292160000000000,
            "bin_end": 1180656000000000000,
            "count": 1
           }
          ]
         }
        },
        {
         "name": "antiguedad_tc_meses",
         "dtype": "int64",
         "stats": {
          "unique_count": 5,
          "nan_count": 0,
          "min": "0",
          "max": "93",
          "histogram": [
           {
            "bin_start": 0,
            "bin_end": 9.3,
            "count": 3
           },
           {
            "bin_start": 9.3,
            "bin_end": 18.6,
            "count": 0
           },
           {
            "bin_start": 18.6,
            "bin_end": 27.900000000000002,
            "count": 1
           },
           {
            "bin_start": 27.900000000000002,
            "bin_end": 37.2,
            "count": 0
           },
           {
            "bin_start": 37.2,
            "bin_end": 46.5,
            "count": 0
           },
           {
            "bin_start": 46.5,
            "bin_end": 55.800000000000004,
            "count": 0
           },
           {
            "bin_start": 55.800000000000004,
            "bin_end": 65.10000000000001,
            "count": 0
           },
           {
            "bin_start": 65.10000000000001,
            "bin_end": 74.4,
            "count": 0
           },
           {
            "bin_start": 74.4,
            "bin_end": 83.7,
            "count": 0
           },
           {
            "bin_start": 83.7,
            "bin_end": 93,
            "count": 1
           }
          ]
         }
        },
        {
         "name": "producto_pasivo_12_meses_antes",
         "dtype": "int64",
         "stats": {
          "unique_count": 4,
          "nan_count": 0,
          "min": "1",
          "max": "12",
          "histogram": [
           {
            "bin_start": 1,
            "bin_end": 2.1,
            "count": 2
           },
           {
            "bin_start": 2.1,
            "bin_end": 3.2,
            "count": 0
           },
           {
            "bin_start": 3.2,
            "bin_end": 4.300000000000001,
            "count": 0
           },
           {
            "bin_start": 4.300000000000001,
            "bin_end": 5.4,
            "count": 1
           },
           {
            "bin_start": 5.4,
            "bin_end": 6.5,
            "count": 0
           },
           {
            "bin_start": 6.5,
            "bin_end": 7.6000000000000005,
            "count": 0
           },
           {
            "bin_start": 7.6000000000000005,
            "bin_end": 8.700000000000001,
            "count": 0
           },
           {
            "bin_start": 8.700000000000001,
            "bin_end": 9.8,
            "count": 0
           },
           {
            "bin_start": 9.8,
            "bin_end": 10.9,
            "count": 0
           },
           {
            "bin_start": 10.9,
            "bin_end": 12,
            "count": 2
           }
          ]
         }
        },
        {
         "name": "ingreso_mensual",
         "dtype": "float64",
         "stats": {
          "unique_count": 5,
          "nan_count": 0,
          "min": "900.0",
          "max": "3500.0",
          "histogram": [
           {
            "bin_start": 900,
            "bin_end": 1160,
            "count": 1
           },
           {
            "bin_start": 1160,
            "bin_end": 1420,
            "count": 0
           },
           {
            "bin_start": 1420,
            "bin_end": 1680,
            "count": 0
           },
           {
            "bin_start": 1680,
            "bin_end": 1940,
            "count": 0
           },
           {
            "bin_start": 1940,
            "bin_end": 2200,
            "count": 0
           },
           {
            "bin_start": 2200,
            "bin_end": 2460,
            "count": 1
           },
           {
            "bin_start": 2460,
            "bin_end": 2720,
            "count": 1
           },
           {
            "bin_start": 2720,
            "bin_end": 2980,
            "count": 0
           },
           {
            "bin_start": 2980,
            "bin_end": 3240,
            "count": 1
           },
           {
            "bin_start": 3240,
            "bin_end": 3500,
            "count": 1
           }
          ]
         }
        },
        {
         "name": "monto_linea_tc",
         "dtype": "float64",
         "stats": {
          "unique_count": 4,
          "nan_count": 0,
          "min": "0.0",
          "max": "2797.38",
          "histogram": [
           {
            "bin_start": 0,
            "bin_end": 279.738,
            "count": 2
           },
           {
            "bin_start": 279.738,
            "bin_end": 559.476,
            "count": 0
           },
           {
            "bin_start": 559.476,
            "bin_end": 839.2139999999999,
            "count": 0
           },
           {
            "bin_start": 839.2139999999999,
            "bin_end": 1118.952,
            "count": 0
           },
           {
            "bin_start": 1118.952,
            "bin_end": 1398.69,
            "count": 0
           },
           {
            "bin_start": 1398.69,
            "bin_end": 1678.4279999999999,
            "count": 0
           },
           {
            "bin_start": 1678.4279999999999,
            "bin_end": 1958.166,
            "count": 1
           },
           {
            "bin_start": 1958.166,
            "bin_end": 2237.904,
            "count": 1
           },
           {
            "bin_start": 2237.904,
            "bin_end": 2517.642,
            "count": 0
           },
           {
            "bin_start": 2517.642,
            "bin_end": 2797.38,
            "count": 1
           }
          ]
         }
        },
        {
         "name": "monto_saldo_deudor_prom",
         "dtype": "float64",
         "stats": {
          "unique_count": 4,
          "nan_count": 0,
          "min": "0.0",
          "max": "11010.65",
          "histogram": [
           {
            "bin_start": 0,
            "bin_end": 1101.065,
            "count": 3
           },
           {
            "bin_start": 1101.065,
            "bin_end": 2202.13,
            "count": 1
           },
           {
            "bin_start": 2202.13,
            "bin_end": 3303.195,
            "count": 0
           },
           {
            "bin_start": 3303.195,
            "bin_end": 4404.26,
            "count": 0
           },
           {
            "bin_start": 4404.26,
            "bin_end": 5505.325000000001,
            "count": 0
           },
           {
            "bin_start": 5505.325000000001,
            "bin_end": 6606.39,
            "count": 0
           },
           {
            "bin_start": 6606.39,
            "bin_end": 7707.455,
            "count": 0
           },
           {
            "bin_start": 7707.455,
            "bin_end": 8808.52,
            "count": 0
           },
           {
            "bin_start": 8808.52,
            "bin_end": 9909.585000000001,
            "count": 0
           },
           {
            "bin_start": 9909.585000000001,
            "bin_end": 11010.65,
            "count": 1
           }
          ]
         }
        },
        {
         "name": "score_aprob_tc",
         "dtype": "int64",
         "stats": {
          "unique_count": 4,
          "nan_count": 0,
          "min": "175",
          "max": "214",
          "histogram": [
           {
            "bin_start": 175,
            "bin_end": 178.9,
            "count": 1
           },
           {
            "bin_start": 178.9,
            "bin_end": 182.8,
            "count": 0
           },
           {
            "bin_start": 182.8,
            "bin_end": 186.7,
            "count": 0
           },
           {
            "bin_start": 186.7,
            "bin_end": 190.6,
            "count": 3
           },
           {
            "bin_start": 190.6,
            "bin_end": 194.5,
            "count": 0
           },
           {
            "bin_start": 194.5,
            "bin_end": 198.4,
            "count": 0
           },
           {
            "bin_start": 198.4,
            "bin_end": 202.3,
            "count": 0
           },
           {
            "bin_start": 202.3,
            "bin_end": 206.2,
            "count": 0
           },
           {
            "bin_start": 206.2,
            "bin_end": 210.1,
            "count": 0
           },
           {
            "bin_start": 210.1,
            "bin_end": 214,
            "count": 1
           }
          ]
         }
        },
        {
         "name": "nro_veces_abono_12m_antes",
         "dtype": "int64",
         "stats": {
          "unique_count": 3,
          "nan_count": 0,
          "min": "0",
          "max": "12",
          "histogram": [
           {
            "bin_start": 0,
            "bin_end": 1.2,
            "count": 2
           },
           {
            "bin_start": 1.2,
            "bin_end": 2.4,
            "count": 0
           },
           {
            "bin_start": 2.4,
            "bin_end": 3.5999999999999996,
            "count": 0
           },
           {
            "bin_start": 3.5999999999999996,
            "bin_end": 4.8,
            "count": 0
           },
           {
            "bin_start": 4.8,
            "bin_end": 6,
            "count": 1
           },
           {
            "bin_start": 6,
            "bin_end": 7.199999999999999,
            "count": 0
           },
           {
            "bin_start": 7.199999999999999,
            "bin_end": 8.4,
            "count": 0
           },
           {
            "bin_start": 8.4,
            "bin_end": 9.6,
            "count": 0
           },
           {
            "bin_start": 9.6,
            "bin_end": 10.799999999999999,
            "count": 0
           },
           {
            "bin_start": 10.799999999999999,
            "bin_end": 12,
            "count": 2
           }
          ]
         }
        },
        {
         "name": "zona_geografica",
         "dtype": "category",
         "stats": {
          "unique_count": 3,
          "nan_count": 0,
          "categories": [
           {
            "name": "Lima",
            "count": 3
           },
           {
            "name": "La Libertad",
            "count": 1
           },
           {
            "name": "Ancash",
            "count": 1
           }
          ]
         }
        },
        {
         "name": "riesgos_sbs",
         "dtype": "int64",
         "stats": {
          "unique_count": 3,
          "nan_count": 0,
          "min": "0",
          "max": "4",
          "histogram": [
           {
            "bin_start": 0,
            "bin_end": 0.4,
            "count": 3
           },
           {
            "bin_start": 0.4,
            "bin_end": 0.8,
            "count": 0
           },
           {
            "bin_start": 0.8,
            "bin_end": 1.2000000000000002,
            "count": 1
           },
           {
            "bin_start": 1.2000000000000002,
            "bin_end": 1.6,
            "count": 0
           },
           {
            "bin_start": 1.6,
            "bin_end": 2,
            "count": 0
           },
           {
            "bin_start": 2,
            "bin_end": 2.4000000000000004,
            "count": 0
           },
           {
            "bin_start": 2.4000000000000004,
            "bin_end": 2.8000000000000003,
            "count": 0
           },
           {
            "bin_start": 2.8000000000000003,
            "bin_end": 3.2,
            "count": 0
           },
           {
            "bin_start": 3.2,
            "bin_end": 3.6,
            "count": 0
           },
           {
            "bin_start": 3.6,
            "bin_end": 4,
            "count": 1
           }
          ]
         }
        },
        {
         "name": "nivel_educativo",
         "dtype": "category",
         "stats": {
          "unique_count": 2,
          "nan_count": 0,
          "categories": [
           {
            "name": "TECNICO",
            "count": 3
           },
           {
            "name": "PROFESIONAL",
            "count": 2
           }
          ]
         }
        },
        {
         "name": "edad_binned",
         "dtype": "category",
         "stats": {
          "unique_count": 2,
          "nan_count": 0,
          "categories": [
           {
            "name": "joven",
            "count": 4
           },
           {
            "name": "adulto",
            "count": 1
           }
          ]
         }
        },
        {
         "name": "_deepnote_index_column",
         "dtype": "int64"
        }
       ],
       "rows": [
        {
         "mora_60": 0,
         "dias_atraso_12_meses_antes": 235,
         "situacion_casa": "FAMILIAR",
         "edad": 30,
         "fecha_ingreso_empleo": "2007-06-01T00:00:00.000000",
         "antiguedad_tc_meses": 93,
         "producto_pasivo_12_meses_antes": 5,
         "ingreso_mensual": 3500,
         "monto_linea_tc": 0,
         "monto_saldo_deudor_prom": 0,
         "score_aprob_tc": 214,
         "nro_veces_abono_12m_antes": 5,
         "zona_geografica": "Lima",
         "riesgos_sbs": 4,
         "nivel_educativo": "PROFESIONAL",
         "edad_binned": "joven",
         "_deepnote_index_column": 0
        },
        {
         "mora_60": 0,
         "dias_atraso_12_meses_antes": 18,
         "situacion_casa": "FAMILIAR",
         "edad": 32,
         "fecha_ingreso_empleo": "2005-02-01T00:00:00.000000",
         "antiguedad_tc_meses": 9,
         "producto_pasivo_12_meses_antes": 12,
         "ingreso_mensual": 900,
         "monto_linea_tc": 1824.67,
         "monto_saldo_deudor_prom": 1933.75,
         "score_aprob_tc": 175,
         "nro_veces_abono_12m_antes": 12,
         "zona_geografica": "La Libertad",
         "riesgos_sbs": 1,
         "nivel_educativo": "TECNICO",
         "edad_binned": "joven",
         "_deepnote_index_column": 1
        },
        {
         "mora_60": 0,
         "dias_atraso_12_meses_antes": 0,
         "situacion_casa": "FAMILIAR",
         "edad": 26,
         "fecha_ingreso_empleo": "2003-08-01T00:00:00.000000",
         "antiguedad_tc_meses": 8,
         "producto_pasivo_12_meses_antes": 2,
         "ingreso_mensual": 2400,
         "monto_linea_tc": 2797.38,
         "monto_saldo_deudor_prom": 188.29,
         "score_aprob_tc": 187,
         "nro_veces_abono_12m_antes": 0,
         "zona_geografica": "Lima",
         "riesgos_sbs": 0,
         "nivel_educativo": "PROFESIONAL",
         "edad_binned": "joven",
         "_deepnote_index_column": 2
        },
        {
         "mora_60": 0,
         "dias_atraso_12_meses_antes": 0,
         "situacion_casa": "FAMILIAR",
         "edad": 36,
         "fecha_ingreso_empleo": "2003-07-01T00:00:00.000000",
         "antiguedad_tc_meses": 20,
         "producto_pasivo_12_meses_antes": 12,
         "ingreso_mensual": 2700,
         "monto_linea_tc": 0,
         "monto_saldo_deudor_prom": 0,
         "score_aprob_tc": 187,
         "nro_veces_abono_12m_antes": 12,
         "zona_geografica": "Ancash",
         "riesgos_sbs": 0,
         "nivel_educativo": "TECNICO",
         "edad_binned": "joven",
         "_deepnote_index_column": 3
        },
        {
         "mora_60": 0,
         "dias_atraso_12_meses_antes": 0,
         "situacion_casa": "FAMILIAR",
         "edad": 46,
         "fecha_ingreso_empleo": "2006-11-01T00:00:00.000000",
         "antiguedad_tc_meses": 0,
         "producto_pasivo_12_meses_antes": 1,
         "ingreso_mensual": 3100,
         "monto_linea_tc": 2000,
         "monto_saldo_deudor_prom": 11010.65,
         "score_aprob_tc": 189,
         "nro_veces_abono_12m_antes": 0,
         "zona_geografica": "Lima",
         "riesgos_sbs": 0,
         "nivel_educativo": "TECNICO",
         "edad_binned": "adulto",
         "_deepnote_index_column": 4
        }
       ]
      },
      "text/plain": "   mora_60  dias_atraso_12_meses_antes situacion_casa  edad  \\\n0        0                         235       FAMILIAR    30   \n1        0                          18       FAMILIAR    32   \n2        0                           0       FAMILIAR    26   \n3        0                           0       FAMILIAR    36   \n4        0                           0       FAMILIAR    46   \n\n  fecha_ingreso_empleo  antiguedad_tc_meses  producto_pasivo_12_meses_antes  \\\n0           2007-06-01                   93                               5   \n1           2005-02-01                    9                              12   \n2           2003-08-01                    8                               2   \n3           2003-07-01                   20                              12   \n4           2006-11-01                    0                               1   \n\n   ingreso_mensual  monto_linea_tc  monto_saldo_deudor_prom  score_aprob_tc  \\\n0        3,500.000           0.000                    0.000             214   \n1          900.000       1,824.670                1,933.750             175   \n2        2,400.000       2,797.380                  188.290             187   \n3        2,700.000           0.000                    0.000             187   \n4        3,100.000       2,000.000               11,010.650             189   \n\n   nro_veces_abono_12m_antes zona_geografica  riesgos_sbs nivel_educativo  \\\n0                          5            Lima            4     PROFESIONAL   \n1                         12     La Libertad            1         TECNICO   \n2                          0            Lima            0     PROFESIONAL   \n3                         12          Ancash            0         TECNICO   \n4                          0            Lima            0         TECNICO   \n\n  edad_binned  \n0       joven  \n1       joven  \n2       joven  \n3       joven  \n4      adulto  ",
      "text/html": "<div>\n<style scoped>\n    .dataframe tbody tr th:only-of-type {\n        vertical-align: middle;\n    }\n\n    .dataframe tbody tr th {\n        vertical-align: top;\n    }\n\n    .dataframe thead th {\n        text-align: right;\n    }\n</style>\n<table border=\"1\" class=\"dataframe\">\n  <thead>\n    <tr style=\"text-align: right;\">\n      <th></th>\n      <th>mora_60</th>\n      <th>dias_atraso_12_meses_antes</th>\n      <th>situacion_casa</th>\n      <th>edad</th>\n      <th>fecha_ingreso_empleo</th>\n      <th>antiguedad_tc_meses</th>\n      <th>producto_pasivo_12_meses_antes</th>\n      <th>ingreso_mensual</th>\n      <th>monto_linea_tc</th>\n      <th>monto_saldo_deudor_prom</th>\n      <th>score_aprob_tc</th>\n      <th>nro_veces_abono_12m_antes</th>\n      <th>zona_geografica</th>\n      <th>riesgos_sbs</th>\n      <th>nivel_educativo</th>\n      <th>edad_binned</th>\n    </tr>\n  </thead>\n  <tbody>\n    <tr>\n      <th>0</th>\n      <td>0</td>\n      <td>235</td>\n      <td>FAMILIAR</td>\n      <td>30</td>\n      <td>2007-06-01</td>\n      <td>93</td>\n      <td>5</td>\n      <td>3,500.000</td>\n      <td>0.000</td>\n      <td>0.000</td>\n      <td>214</td>\n      <td>5</td>\n      <td>Lima</td>\n      <td>4</td>\n      <td>PROFESIONAL</td>\n      <td>joven</td>\n    </tr>\n    <tr>\n      <th>1</th>\n      <td>0</td>\n      <td>18</td>\n      <td>FAMILIAR</td>\n      <td>32</td>\n      <td>2005-02-01</td>\n      <td>9</td>\n      <td>12</td>\n      <td>900.000</td>\n      <td>1,824.670</td>\n      <td>1,933.750</td>\n      <td>175</td>\n      <td>12</td>\n      <td>La Libertad</td>\n      <td>1</td>\n      <td>TECNICO</td>\n      <td>joven</td>\n    </tr>\n    <tr>\n      <th>2</th>\n      <td>0</td>\n      <td>0</td>\n      <td>FAMILIAR</td>\n      <td>26</td>\n      <td>2003-08-01</td>\n      <td>8</td>\n      <td>2</td>\n      <td>2,400.000</td>\n      <td>2,797.380</td>\n      <td>188.290</td>\n      <td>187</td>\n      <td>0</td>\n      <td>Lima</td>\n      <td>0</td>\n      <td>PROFESIONAL</td>\n      <td>joven</td>\n    </tr>\n    <tr>\n      <th>3</th>\n      <td>0</td>\n      <td>0</td>\n      <td>FAMILIAR</td>\n      <td>36</td>\n      <td>2003-07-01</td>\n      <td>20</td>\n      <td>12</td>\n      <td>2,700.000</td>\n      <td>0.000</td>\n      <td>0.000</td>\n      <td>187</td>\n      <td>12</td>\n      <td>Ancash</td>\n      <td>0</td>\n      <td>TECNICO</td>\n      <td>joven</td>\n    </tr>\n    <tr>\n      <th>4</th>\n      <td>0</td>\n      <td>0</td>\n      <td>FAMILIAR</td>\n      <td>46</td>\n      <td>2006-11-01</td>\n      <td>0</td>\n      <td>1</td>\n      <td>3,100.000</td>\n      <td>2,000.000</td>\n      <td>11,010.650</td>\n      <td>189</td>\n      <td>0</td>\n      <td>Lima</td>\n      <td>0</td>\n      <td>TECNICO</td>\n      <td>adulto</td>\n    </tr>\n  </tbody>\n</table>\n</div>"
     },
     "metadata": {}
    }
   ],
   "execution_count": null
  },
  {
   "cell_type": "code",
   "metadata": {
    "cell_id": "f91bcb05-a935-40d4-8dd3-6e5ad736fadb",
    "tags": [],
    "deepnote_to_be_reexecuted": false,
    "source_hash": "171273",
    "execution_start": 1647270240376,
    "execution_millis": 2,
    "deepnote_cell_type": "code",
    "deepnote_cell_height": 175.734375,
    "deepnote_output_heights": [
     78.796875
    ]
   },
   "source": "df_bcp['edad_binned'].value_counts()",
   "outputs": [
    {
     "output_type": "execute_result",
     "execution_count": 23,
     "data": {
      "text/plain": "joven           3659\nadulto          1294\nadulto_mayor      47\nName: edad_binned, dtype: int64"
     },
     "metadata": {}
    }
   ],
   "execution_count": null
  },
  {
   "cell_type": "markdown",
   "source": "# Save our new dataframe in a new csv file",
   "metadata": {
    "cell_id": "1207d04e-7fe0-483a-867b-92c73931f125",
    "tags": [],
    "deepnote_cell_type": "markdown",
    "deepnote_cell_height": 133.96875
   }
  },
  {
   "cell_type": "code",
   "metadata": {
    "cell_id": "de59e992-7848-4f42-b2a7-9f77d1a74f07",
    "tags": [],
    "deepnote_to_be_reexecuted": false,
    "source_hash": "6a125c68",
    "execution_start": 1647270240377,
    "execution_millis": 48,
    "deepnote_cell_type": "code",
    "deepnote_cell_height": 129.875
   },
   "source": "df_bcp.to_csv('clean_data_bcp.csv', index=False)\nprint('file saved successfully')",
   "outputs": [
    {
     "name": "stdout",
     "text": "file saved successfully\n",
     "output_type": "stream"
    }
   ],
   "execution_count": null
  },
  {
   "cell_type": "markdown",
   "source": "<a style='text-decoration:none;line-height:16px;display:flex;color:#5B5B62;padding:10px;justify-content:end;' href='https://deepnote.com?utm_source=created-in-deepnote-cell&projectId=14e858d9-0539-45d5-ab0b-ac63c06705c9' target=\"_blank\">\n<img alt='Created in deepnote.com' style='display:inline;max-height:16px;margin:0px;margin-right:7.5px;' src='data:image/svg+xml;base64,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' > </img>\nCreated in <span style='font-weight:600;margin-left:4px;'>Deepnote</span></a>",
   "metadata": {
    "tags": [],
    "created_in_deepnote_cell": true,
    "deepnote_cell_type": "markdown"
   }
  }
 ],
 "nbformat": 4,
 "nbformat_minor": 2,
 "metadata": {
  "orig_nbformat": 2,
  "deepnote": {
   "is_reactive": false
  },
  "deepnote_notebook_id": "da7a22e0-938b-49b4-84ff-df70539a819c",
  "deepnote_execution_queue": []
 }
}